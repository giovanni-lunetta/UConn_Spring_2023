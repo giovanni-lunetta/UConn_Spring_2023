{
  "cells": [
    {
      "cell_type": "markdown",
      "metadata": {
        "id": "ONhWIPvRZQ3y"
      },
      "source": [
        "# Machine Learning Assignment (`sklearn`)\n",
        "\n",
        "For this assignment we are going to explore both Linear Regression and Logistic Regression. In class I talked about some of the more theoretical ideas around these algorithms (don't worry that will be the  last time I do this!). But hopefully in this assignment you can see the python implementation of the theory we covered. \n",
        "\n",
        "Note: The first question is pretty difficult but the purpose of it is to help you understand how the gradient descent algorithm works. However if you find yourself struggling with this question feel free to message the discord. "
      ]
    },
    {
      "cell_type": "code",
      "execution_count": 24,
      "metadata": {
        "id": "CeJiXlR7H2Se"
      },
      "outputs": [],
      "source": [
        "import numpy as np\n",
        "import matplotlib.pyplot as plt\n",
        "import pandas as pd\n",
        "from sklearn.linear_model import LinearRegression, LogisticRegression "
      ]
    },
    {
      "cell_type": "markdown",
      "metadata": {
        "id": "C0A-P5veabN9"
      },
      "source": [
        "The data we will be using for this assignment is the Miami Housing dataset from kaggle: \n",
        "https://www.kaggle.com/datasets/deepcontractor/miami-housing-dataset\n",
        "\n",
        "This dataset \"contains information on 13,932 single-family homes sold in Miami\" with the following features:\n",
        "\n",
        "- PARCELNO: unique identifier for each property. About 1% appear multiple times.\n",
        "\n",
        "- SALE_PRC: sale price ($)\n",
        "\n",
        "- LND_SQFOOT: land area (square feet)\n",
        "\n",
        "- TOT_LVG_AREA: floor area (square feet)\n",
        "\n",
        "- SPEC_FEAT_VAL: value of special features (e.g., swimming pools) ($)\n",
        "\n",
        "- RAIL_DIST: distance to the nearest rail line (an indicator of noise) (feet)\n",
        "\n",
        "- OCEAN_DIST: distance to the ocean (feet)\n",
        "\n",
        "- WATER_DIST: distance to the nearest body of water (feet)\n",
        "\n",
        "- CNTR_DIST: distance to the Miami central business district (feet)\n",
        "\n",
        "- SUBCNTR_DI: distance to the nearest subcenter (feet)\n",
        "\n",
        "- HWY_DIST: distance to the nearest highway (an indicator of noise) (feet)\n",
        "\n",
        "- age: age of the structure\n",
        "\n",
        "- avno60plus: dummy variable for airplane noise exceeding an acceptable level\n",
        "\n",
        "- structure_quality: quality of the structure\n",
        "\n",
        "- month_sold: sale month in 2016 (1 = jan)\n",
        "\n",
        "- LATITUDE\n",
        "\n",
        "- LONGITUDE"
      ]
    },
    {
      "cell_type": "markdown",
      "metadata": {
        "id": "_wdLBuU1a6Jj"
      },
      "source": [
        "First read the dataset into a pandas DataFrame"
      ]
    },
    {
      "cell_type": "code",
      "execution_count": 25,
      "metadata": {
        "id": "fQ64JSJ8mVpY"
      },
      "outputs": [],
      "source": [
        "df = pd.read_csv('miami-housing.csv')"
      ]
    },
    {
      "cell_type": "markdown",
      "metadata": {
        "id": "3seqioGbbBwi"
      },
      "source": [
        "Display the first few rows of the data."
      ]
    },
    {
      "cell_type": "code",
      "execution_count": 26,
      "metadata": {
        "id": "cTuNrDpUmaXh"
      },
      "outputs": [
        {
          "data": {
            "text/html": [
              "<div>\n",
              "<style scoped>\n",
              "    .dataframe tbody tr th:only-of-type {\n",
              "        vertical-align: middle;\n",
              "    }\n",
              "\n",
              "    .dataframe tbody tr th {\n",
              "        vertical-align: top;\n",
              "    }\n",
              "\n",
              "    .dataframe thead th {\n",
              "        text-align: right;\n",
              "    }\n",
              "</style>\n",
              "<table border=\"1\" class=\"dataframe\">\n",
              "  <thead>\n",
              "    <tr style=\"text-align: right;\">\n",
              "      <th></th>\n",
              "      <th>LATITUDE</th>\n",
              "      <th>LONGITUDE</th>\n",
              "      <th>PARCELNO</th>\n",
              "      <th>SALE_PRC</th>\n",
              "      <th>LND_SQFOOT</th>\n",
              "      <th>TOT_LVG_AREA</th>\n",
              "      <th>SPEC_FEAT_VAL</th>\n",
              "      <th>RAIL_DIST</th>\n",
              "      <th>OCEAN_DIST</th>\n",
              "      <th>WATER_DIST</th>\n",
              "      <th>CNTR_DIST</th>\n",
              "      <th>SUBCNTR_DI</th>\n",
              "      <th>HWY_DIST</th>\n",
              "      <th>age</th>\n",
              "      <th>avno60plus</th>\n",
              "      <th>month_sold</th>\n",
              "      <th>structure_quality</th>\n",
              "    </tr>\n",
              "  </thead>\n",
              "  <tbody>\n",
              "    <tr>\n",
              "      <th>0</th>\n",
              "      <td>25.891031</td>\n",
              "      <td>-80.160561</td>\n",
              "      <td>622280070620</td>\n",
              "      <td>440000.0</td>\n",
              "      <td>9375</td>\n",
              "      <td>1753</td>\n",
              "      <td>0</td>\n",
              "      <td>2815.9</td>\n",
              "      <td>12811.4</td>\n",
              "      <td>347.6</td>\n",
              "      <td>42815.3</td>\n",
              "      <td>37742.2</td>\n",
              "      <td>15954.9</td>\n",
              "      <td>67</td>\n",
              "      <td>0</td>\n",
              "      <td>8</td>\n",
              "      <td>4</td>\n",
              "    </tr>\n",
              "    <tr>\n",
              "      <th>1</th>\n",
              "      <td>25.891324</td>\n",
              "      <td>-80.153968</td>\n",
              "      <td>622280100460</td>\n",
              "      <td>349000.0</td>\n",
              "      <td>9375</td>\n",
              "      <td>1715</td>\n",
              "      <td>0</td>\n",
              "      <td>4359.1</td>\n",
              "      <td>10648.4</td>\n",
              "      <td>337.8</td>\n",
              "      <td>43504.9</td>\n",
              "      <td>37340.5</td>\n",
              "      <td>18125.0</td>\n",
              "      <td>63</td>\n",
              "      <td>0</td>\n",
              "      <td>9</td>\n",
              "      <td>4</td>\n",
              "    </tr>\n",
              "    <tr>\n",
              "      <th>2</th>\n",
              "      <td>25.891334</td>\n",
              "      <td>-80.153740</td>\n",
              "      <td>622280100470</td>\n",
              "      <td>800000.0</td>\n",
              "      <td>9375</td>\n",
              "      <td>2276</td>\n",
              "      <td>49206</td>\n",
              "      <td>4412.9</td>\n",
              "      <td>10574.1</td>\n",
              "      <td>297.1</td>\n",
              "      <td>43530.4</td>\n",
              "      <td>37328.7</td>\n",
              "      <td>18200.5</td>\n",
              "      <td>61</td>\n",
              "      <td>0</td>\n",
              "      <td>2</td>\n",
              "      <td>4</td>\n",
              "    </tr>\n",
              "    <tr>\n",
              "      <th>3</th>\n",
              "      <td>25.891765</td>\n",
              "      <td>-80.152657</td>\n",
              "      <td>622280100530</td>\n",
              "      <td>988000.0</td>\n",
              "      <td>12450</td>\n",
              "      <td>2058</td>\n",
              "      <td>10033</td>\n",
              "      <td>4585.0</td>\n",
              "      <td>10156.5</td>\n",
              "      <td>0.0</td>\n",
              "      <td>43797.5</td>\n",
              "      <td>37423.2</td>\n",
              "      <td>18514.4</td>\n",
              "      <td>63</td>\n",
              "      <td>0</td>\n",
              "      <td>9</td>\n",
              "      <td>4</td>\n",
              "    </tr>\n",
              "    <tr>\n",
              "      <th>4</th>\n",
              "      <td>25.891825</td>\n",
              "      <td>-80.154639</td>\n",
              "      <td>622280100200</td>\n",
              "      <td>755000.0</td>\n",
              "      <td>12800</td>\n",
              "      <td>1684</td>\n",
              "      <td>16681</td>\n",
              "      <td>4063.4</td>\n",
              "      <td>10836.8</td>\n",
              "      <td>326.6</td>\n",
              "      <td>43599.7</td>\n",
              "      <td>37550.8</td>\n",
              "      <td>17903.4</td>\n",
              "      <td>42</td>\n",
              "      <td>0</td>\n",
              "      <td>7</td>\n",
              "      <td>4</td>\n",
              "    </tr>\n",
              "  </tbody>\n",
              "</table>\n",
              "</div>"
            ],
            "text/plain": [
              "    LATITUDE  LONGITUDE      PARCELNO  SALE_PRC  LND_SQFOOT  TOT_LVG_AREA  \\\n",
              "0  25.891031 -80.160561  622280070620  440000.0        9375          1753   \n",
              "1  25.891324 -80.153968  622280100460  349000.0        9375          1715   \n",
              "2  25.891334 -80.153740  622280100470  800000.0        9375          2276   \n",
              "3  25.891765 -80.152657  622280100530  988000.0       12450          2058   \n",
              "4  25.891825 -80.154639  622280100200  755000.0       12800          1684   \n",
              "\n",
              "   SPEC_FEAT_VAL  RAIL_DIST  OCEAN_DIST  WATER_DIST  CNTR_DIST  SUBCNTR_DI  \\\n",
              "0              0     2815.9     12811.4       347.6    42815.3     37742.2   \n",
              "1              0     4359.1     10648.4       337.8    43504.9     37340.5   \n",
              "2          49206     4412.9     10574.1       297.1    43530.4     37328.7   \n",
              "3          10033     4585.0     10156.5         0.0    43797.5     37423.2   \n",
              "4          16681     4063.4     10836.8       326.6    43599.7     37550.8   \n",
              "\n",
              "   HWY_DIST  age  avno60plus  month_sold  structure_quality  \n",
              "0   15954.9   67           0           8                  4  \n",
              "1   18125.0   63           0           9                  4  \n",
              "2   18200.5   61           0           2                  4  \n",
              "3   18514.4   63           0           9                  4  \n",
              "4   17903.4   42           0           7                  4  "
            ]
          },
          "execution_count": 26,
          "metadata": {},
          "output_type": "execute_result"
        }
      ],
      "source": [
        "df.head()"
      ]
    },
    {
      "cell_type": "markdown",
      "metadata": {
        "id": "QdYgEjp5bFlZ"
      },
      "source": [
        "We won't be using the `'LATITUDE',\t'LONGITUDE',\t'PARCELNO'` columns so drop them **inplace**."
      ]
    },
    {
      "cell_type": "code",
      "execution_count": 27,
      "metadata": {
        "id": "pNxtdp5ixk-D"
      },
      "outputs": [],
      "source": [
        "df_new = df.drop(['LATITUDE', 'LONGITUDE', 'PARCELNO'], axis=1)"
      ]
    },
    {
      "cell_type": "markdown",
      "metadata": {
        "id": "wcFawuALbRCG"
      },
      "source": [
        "Check to see if there are missing values, you should hopefully see that there are not any."
      ]
    },
    {
      "cell_type": "code",
      "execution_count": 29,
      "metadata": {},
      "outputs": [
        {
          "data": {
            "text/plain": [
              "LATITUDE             0\n",
              "LONGITUDE            0\n",
              "PARCELNO             0\n",
              "SALE_PRC             0\n",
              "LND_SQFOOT           0\n",
              "TOT_LVG_AREA         0\n",
              "SPEC_FEAT_VAL        0\n",
              "RAIL_DIST            0\n",
              "OCEAN_DIST           0\n",
              "WATER_DIST           0\n",
              "CNTR_DIST            0\n",
              "SUBCNTR_DI           0\n",
              "HWY_DIST             0\n",
              "age                  0\n",
              "avno60plus           0\n",
              "month_sold           0\n",
              "structure_quality    0\n",
              "dtype: int64"
            ]
          },
          "execution_count": 29,
          "metadata": {},
          "output_type": "execute_result"
        }
      ],
      "source": [
        "df.isnull().sum()"
      ]
    },
    {
      "cell_type": "markdown",
      "metadata": {
        "id": "FPt3i24pbVXg"
      },
      "source": [
        "When creating ML models one of the first things you have to do is pre-process your data. This includes ideas like imputing missing values, feature sclaing etc. This is the focus of next weeks class so don't worry about how I am doing this right now. "
      ]
    },
    {
      "cell_type": "markdown",
      "metadata": {
        "id": "g7A21l7jxV-f"
      },
      "source": [
        "# Q1: Hard Coding Simple Linear Regression\n",
        "\n",
        "This question requires a heavy use of `numpy`"
      ]
    },
    {
      "cell_type": "markdown",
      "metadata": {
        "id": "2fSF5e8-bwnA"
      },
      "source": [
        "Lets try to hard code a simple linear regression model to see if we can predict `y = SALE_PRC` using `x = TOT_LVG_AREA`. \n",
        "\n",
        "This question will have you hard code Simple Linear regression using gradient descent.\n",
        "\n",
        "NOTE: I am using a feature scaling method called standardization. I am  standardizing these features such that the mean of the attribute becomes zero, and the resultant distribution has a unit standard deviation. Without doing this the gradient descent algorithm cannot converge. We will focus on why next class."
      ]
    },
    {
      "cell_type": "code",
      "execution_count": 30,
      "metadata": {
        "id": "ew7ROgBBH3hH"
      },
      "outputs": [],
      "source": [
        "x = (df['TOT_LVG_AREA'].values - np.mean(df['TOT_LVG_AREA'].values)) / np.std(df['TOT_LVG_AREA'].values) \n",
        "x = x.reshape(-1,1)"
      ]
    },
    {
      "cell_type": "code",
      "execution_count": 31,
      "metadata": {
        "id": "RjYKEy_XH_9r"
      },
      "outputs": [],
      "source": [
        "y = (df['SALE_PRC'].values - np.mean(df['SALE_PRC'].values)) / np.std(df['SALE_PRC'].values) #).reshape(-1,1)\n",
        "y = y.reshape(-1,1)"
      ]
    },
    {
      "cell_type": "markdown",
      "metadata": {
        "id": "WVo2e60Ucf91"
      },
      "source": [
        "Create a simple scatter plot using `TOT_LVG_AREA` on the x axis and `SALE_PRC` on the y axis.\n",
        "\n",
        "Question: Do you see a positive or a negative correlation in between these two features?"
      ]
    },
    {
      "cell_type": "code",
      "execution_count": 32,
      "metadata": {
        "id": "aTK7OMcxICwA"
      },
      "outputs": [
        {
          "data": {
            "image/png": "[encoded data removed]",
            "text/plain": [
              "<Figure size 432x288 with 1 Axes>"
            ]
          },
          "metadata": {
            "needs_background": "light"
          },
          "output_type": "display_data"
        }
      ],
      "source": [
        "import matplotlib.pyplot as plt\n",
        "\n",
        "# create scatter plot\n",
        "plt.scatter(df['TOT_LVG_AREA'], df['SALE_PRC'])\n",
        "\n",
        "# set plot title and axis labels\n",
        "plt.title('Total Living Area vs. Sale Price')\n",
        "plt.xlabel('Total Living Area')\n",
        "plt.ylabel('Sale Price')\n",
        "\n",
        "# display plot\n",
        "plt.show()"
      ]
    },
    {
      "attachments": {},
      "cell_type": "markdown",
      "metadata": {},
      "source": [
        "There is a positive correlation between these two features."
      ]
    },
    {
      "cell_type": "markdown",
      "metadata": {
        "id": "9HpmPkDyc1PP"
      },
      "source": [
        "In this question you will hard code Simple Linear Regression (SLM). There is some starter code provided. But you are to provide the functionality for the following functions:\n",
        "\n",
        "`cost()` - This returns the MSE:\n",
        "\n",
        "$MSE(m, b) = 1/N \\sum_{i=1}^N (y_i - \\hat{y})^2$ where $ \\hat{y} = mx_i + b$\n",
        "\n",
        "Use `np.power()`.\n",
        "\n",
        "<br>\n",
        "\n",
        "`gradient()` - This return the gradient with respect to `m` and `b`:\n",
        "\n",
        "$  \\nabla MSE(m, b)_m = \\frac{-2}{N} * \\sum_{i=1}^N (y_i - \\hat{y})x_i$\n",
        "\n",
        "$  \\nabla MSE(m, b)_b = \\frac{-2}{N} * \\sum_{i=1}^N (y_i - \\hat{y})$\n",
        "\n",
        "Hint: Use `np.sum()` for the summation \n",
        "\n",
        "<br>\n",
        "\n",
        "`train()` - you have to update the `self.m` and the `self.b` parameters using the gradient descent formulation:\n",
        "\n",
        "$ m = m - \\alpha MSE(m, b)_m$\n",
        "\n",
        "$ b = b - \\alpha MSE(m, b)_b$\n",
        "\n",
        "Repeat this until the cost between iterations is less that `self.tol` (look at code below). $\\alpha$ is an input when creating the object.\n",
        "\n",
        "<br>\n",
        "\n",
        "`rsq()` - Return the $R^2$ value of the model. This value shows how well the data fits the regression model, the closer to 1 or -1 the better:\n",
        "\n",
        "$R^2 = \\frac{\\sum_{i=1}^N(y_i - \\hat{y}_i)^2}{\\sum_{i=1}^N(y_i - \\bar{y})^2}$\n",
        "\n",
        "Where $\\bar{y}$ is the average of $y$."
      ]
    },
    {
      "cell_type": "code",
      "execution_count": 36,
      "metadata": {
        "id": "ewCprynIIUF7"
      },
      "outputs": [],
      "source": [
        "class SimpleLinearRegression:\n",
        "  def __init__(self, X, y, tol, alpha):\n",
        "    self.X = X # input data/ features\n",
        "    self.n = len(X) # length of the given data\n",
        "    self.y = y # output value we want o predict/model\n",
        "    self.tol = tol # Tolerance, we train until the cost between the previous two iterations is less than self.tol\n",
        "    self.alpha = alpha # step size for gradient descent\n",
        "    self.m = np.random.rand() # Randomly initialize m\n",
        "    self.b = np.random.rand() # Randomly initialize b\n",
        "    self.costs = [] # storing the costs of the model as we train it\n",
        "  \n",
        "  def cost(self):\n",
        "    # TODO Calculate y_hat and then return the MSE\n",
        "    y_hat = self.m * self.X + self.b\n",
        "    MSE = (1/self.n) * (np.sum(self.y - y_hat)**2)\n",
        "    return MSE\n",
        "\n",
        "  def gradient(self):\n",
        "    # TODO Calculate y_hat\n",
        "    y_hat = self.m * self.X + self.b\n",
        "    # Calcuate the gradient wrt to m\n",
        "    m_gradient = (-2/self.n) * np.sum((self.y - y_hat)*self.X)\n",
        "    # Calcuate the gradient wrt to b\n",
        "    b_gradient = (-2/self.n) * np.sum(self.y - y_hat)\n",
        "    return m_gradient, b_gradient\n",
        "\n",
        "  def train(self):\n",
        "    while(True):\n",
        "      m_g, b_g = self.gradient()\n",
        "      # TODO Fill this out based on the gradient descent formulation (look at the text cell above)\n",
        "      self.m = self.m - self.alpha * m_g\n",
        "      self.b = self.b - self.alpha * b_g\n",
        "      # Append the cost to the the self.costs list\n",
        "      cost = self.cost()\n",
        "      self.costs.append(cost)\n",
        "\n",
        "      # Check to see if the difference between the costs of the 2 most rescent iterations is less than or equal to self.tol\n",
        "      # NOTE: This check should occur only after you have done more than 2 iterations\n",
        "      if len(self.costs) > 2 and abs(self.costs[-1] - self.costs[-2]) <= self.tol:\n",
        "          break\n",
        "  \n",
        "  def rsq(self):\n",
        "    # TODO Calculate y_hat\n",
        "    y_hat = self.m * self.X + self.b\n",
        "    # Return the rsq using the equation above\n",
        "    rsq = rsq = 1 - np.sum(np.power(self.y - y_hat, 2)) / np.sum(np.power(self.y - np.mean(self.y), 2))\n",
        "    return rsq "
      ]
    },
    {
      "cell_type": "markdown",
      "metadata": {
        "id": "BsFp0zmkhF9F"
      },
      "source": [
        "Run the following cell to get an `slm` object, notice how `m` and `b` are random"
      ]
    },
    {
      "cell_type": "code",
      "execution_count": 37,
      "metadata": {
        "id": "0k1IXKLeKN7e"
      },
      "outputs": [
        {
          "data": {
            "text/plain": [
              "(0.9632301121253973, 0.5501826756091786)"
            ]
          },
          "execution_count": 37,
          "metadata": {},
          "output_type": "execute_result"
        }
      ],
      "source": [
        "slm = SimpleLinearRegression(x, y, 0.01, 0.001)\n",
        "slm.m, slm.b"
      ]
    },
    {
      "cell_type": "markdown",
      "metadata": {
        "id": "aAYHmk3mhO6U"
      },
      "source": [
        "Call the `train` method"
      ]
    },
    {
      "cell_type": "code",
      "execution_count": 38,
      "metadata": {
        "id": "UWAsE7XHKj5a"
      },
      "outputs": [],
      "source": [
        "slm.train()"
      ]
    },
    {
      "cell_type": "markdown",
      "metadata": {
        "id": "syTKjgoOhW2X"
      },
      "source": [
        "See how the values for `m` and `b`changed"
      ]
    },
    {
      "cell_type": "code",
      "execution_count": 39,
      "metadata": {
        "id": "fc0lbKd9NdJP"
      },
      "outputs": [
        {
          "data": {
            "text/plain": [
              "(0.6744888756433016, 0.013363557346452582)"
            ]
          },
          "execution_count": 39,
          "metadata": {},
          "output_type": "execute_result"
        }
      ],
      "source": [
        "slm.m, slm.b"
      ]
    },
    {
      "cell_type": "markdown",
      "metadata": {
        "id": "o6rNOo_uhk3z"
      },
      "source": [
        "Plot this line of best fit alongside the scatter plot for `TOT_LVG_AREA` and `SALE_PRC`."
      ]
    },
    {
      "cell_type": "code",
      "execution_count": 40,
      "metadata": {
        "id": "GPaaFDSZNfTE"
      },
      "outputs": [
        {
          "data": {
            "image/png": "[encoded data removed]",
            "text/plain": [
              "<Figure size 432x288 with 1 Axes>"
            ]
          },
          "metadata": {
            "needs_background": "light"
          },
          "output_type": "display_data"
        }
      ],
      "source": [
        "import matplotlib.pyplot as plt\n",
        "\n",
        "# Create scatter plot of data\n",
        "plt.scatter(x, y, alpha=0.5)\n",
        "\n",
        "# Add line of best fit to plot\n",
        "plt.plot(x, slm.m * x + slm.b, color='red')\n",
        "\n",
        "# Add labels and title to plot\n",
        "plt.xlabel('Total Living Area')\n",
        "plt.ylabel('Sale Price')\n",
        "plt.title('Scatter plot of Total Living Area vs. Sale Price with Line of Best Fit')\n",
        "\n",
        "# Show plot\n",
        "plt.show()"
      ]
    },
    {
      "cell_type": "markdown",
      "metadata": {
        "id": "wN6LE8yehzPZ"
      },
      "source": [
        "Return the `rsq` for your model?\n",
        "\n",
        "**What does the `rsq` value tell you about the data?**"
      ]
    },
    {
      "cell_type": "code",
      "execution_count": 42,
      "metadata": {
        "id": "oH4gO08n2iiC"
      },
      "outputs": [
        {
          "name": "stdout",
          "output_type": "stream",
          "text": [
            "0.4450603215911124\n"
          ]
        }
      ],
      "source": [
        "# Print the rsq value\n",
        "print(slm.rsq())"
      ]
    },
    {
      "cell_type": "markdown",
      "metadata": {
        "id": "U2p8EkrUzog1"
      },
      "source": [
        "# Q2: Simple Linear Regression in `Sklearn`"
      ]
    },
    {
      "cell_type": "markdown",
      "metadata": {
        "id": "j8zza1p_h478"
      },
      "source": [
        "Create a `LinearRegression` model using `sklearn` using the `.fit()` method\n",
        "\n",
        "https://scikit-learn.org/stable/modules/generated/sklearn.linear_model.LinearRegression.html"
      ]
    },
    {
      "cell_type": "code",
      "execution_count": 43,
      "metadata": {
        "id": "hutClv2OwNdK"
      },
      "outputs": [
        {
          "data": {
            "text/plain": [
              "LinearRegression()"
            ]
          },
          "execution_count": 43,
          "metadata": {},
          "output_type": "execute_result"
        }
      ],
      "source": [
        "from sklearn.linear_model import LinearRegression\n",
        "\n",
        "# Create a LinearRegression object\n",
        "lr_model = LinearRegression()\n",
        "\n",
        "# Fit the model to your data\n",
        "lr_model.fit(x, y)"
      ]
    },
    {
      "cell_type": "markdown",
      "metadata": {
        "id": "5__pEEFciC0y"
      },
      "source": [
        "Use the `.score()` method to return the R sqaured value for this model"
      ]
    },
    {
      "cell_type": "code",
      "execution_count": 44,
      "metadata": {
        "colab": {
          "base_uri": "https://localhost:8080/"
        },
        "id": "4jicNJvdwQ8T",
        "outputId": "68be5ba9-acbb-4d84-d651-6650aaa469c7"
      },
      "outputs": [
        {
          "name": "stdout",
          "output_type": "stream",
          "text": [
            "R squared value for sklearn model: 0.44529057237488623\n"
          ]
        }
      ],
      "source": [
        "# calculate R squared value for sklearn model\n",
        "sk_rsq = lr_model.score(x, y)\n",
        "print(\"R squared value for sklearn model:\", sk_rsq)"
      ]
    },
    {
      "cell_type": "markdown",
      "metadata": {
        "id": "3mIWsoeuiK5C"
      },
      "source": [
        "Return the `m` and `b` values for this model created with sklearn (look at the documentation to see how to do this)"
      ]
    },
    {
      "cell_type": "code",
      "execution_count": 45,
      "metadata": {
        "id": "BGrOh341wVqT"
      },
      "outputs": [
        {
          "name": "stdout",
          "output_type": "stream",
          "text": [
            "m: [0.66730096]\n",
            "b: [-6.53275696e-17]\n"
          ]
        }
      ],
      "source": [
        "m = lr_model.coef_[0]\n",
        "b = lr_model.intercept_\n",
        "print(\"m:\", m)\n",
        "print(\"b:\", b)"
      ]
    },
    {
      "cell_type": "markdown",
      "metadata": {
        "id": "juD4rEWYiPNP"
      },
      "source": [
        "Plot the line of best fit from above as well as the one you hard coded:"
      ]
    },
    {
      "cell_type": "code",
      "execution_count": 50,
      "metadata": {
        "id": "A01IvCXtwy_B"
      },
      "outputs": [
        {
          "data": {
            "image/png": "[encoded data removed]",
            "text/plain": [
              "<Figure size 432x288 with 1 Axes>"
            ]
          },
          "metadata": {
            "needs_background": "light"
          },
          "output_type": "display_data"
        }
      ],
      "source": [
        "# Plot the scatter plot\n",
        "plt.scatter(x, y)\n",
        "\n",
        "# Plot the line of best fit from the hard-coded model\n",
        "plt.plot(x, slm.m * x + slm.b, color='red')\n",
        "\n",
        "# Plot the line of best fit from the sklearn model\n",
        "plt.plot(x, lr_model.predict(x), color='green')\n",
        "\n",
        "# Add labels and title\n",
        "plt.xlabel('Total Living Area (square feet)')\n",
        "plt.ylabel('Sale Price (US dollars)')\n",
        "plt.title('Linear Regression Models')\n",
        "plt.legend(['Hard-coded Model', 'Sklearn Model', 'Data Points'])\n",
        "plt.show()"
      ]
    },
    {
      "cell_type": "markdown",
      "metadata": {
        "id": "io7sM67liX2c"
      },
      "source": [
        "**Question: Why are these two lines different?**\n",
        "\n",
        "Feel free to use google :)"
      ]
    },
    {
      "attachments": {},
      "cell_type": "markdown",
      "metadata": {},
      "source": [
        "The two lines are different because they were fit using different algorithms. The first line was fit using gradient descent, which is an iterative optimization algorithm that tries to minimize the mean squared error between the predicted values and the actual values. The second line was fit using ordinary least squares regression, which is a closed-form solution that directly computes the parameters that minimize the sum of the squared residuals between the predicted values and the actual values."
      ]
    },
    {
      "cell_type": "markdown",
      "metadata": {
        "id": "oKx4fSV0zuHv"
      },
      "source": [
        "# Q3: Multiple Linear Regression in `Sklearn`"
      ]
    },
    {
      "cell_type": "markdown",
      "metadata": {
        "id": "EhyqT_2FigbT"
      },
      "source": [
        "Now lets do the same idea but with multiple features. Here `X` will be the data for `'LND_SQFOOT',\t'TOT_LVG_AREA',\t'SPEC_FEAT_VAL',\t'RAIL_DIST',\t'OCEAN_DIST',\t'WATER_DIST',\t'CNTR_DIST',\t'SUBCNTR_DI',\t'HWY_DIST'` and we will be using it to predict `y` which is the price of the house."
      ]
    },
    {
      "cell_type": "code",
      "execution_count": 51,
      "metadata": {
        "id": "Rk0c8u53yM0X"
      },
      "outputs": [],
      "source": [
        "X = df[['LND_SQFOOT',\t'TOT_LVG_AREA',\t'SPEC_FEAT_VAL',\t'RAIL_DIST',\t'OCEAN_DIST',\t'WATER_DIST',\t'CNTR_DIST',\t'SUBCNTR_DI',\t'HWY_DIST']]\n",
        "X = (X - X.mean()) / X.std()\n",
        "y = df['SALE_PRC']\n",
        "y = (y - y.mean()) / y.std()"
      ]
    },
    {
      "cell_type": "markdown",
      "metadata": {
        "id": "n6gja4ADitgc"
      },
      "source": [
        "Train/fit a linear regression model on `X` and `y`"
      ]
    },
    {
      "cell_type": "code",
      "execution_count": 52,
      "metadata": {
        "id": "lUjhLZ1hygW0"
      },
      "outputs": [
        {
          "data": {
            "text/plain": [
              "LinearRegression()"
            ]
          },
          "execution_count": 52,
          "metadata": {},
          "output_type": "execute_result"
        }
      ],
      "source": [
        "from sklearn.linear_model import LinearRegression\n",
        "\n",
        "# create an instance of the LinearRegression class\n",
        "mlr_model = LinearRegression()\n",
        "\n",
        "# fit the model to the data\n",
        "mlr_model.fit(X, y)"
      ]
    },
    {
      "cell_type": "markdown",
      "metadata": {
        "id": "hHxqK4tAi0yQ"
      },
      "source": [
        "Print out the model coefficient/parameters"
      ]
    },
    {
      "cell_type": "code",
      "execution_count": 54,
      "metadata": {
        "id": "3SXk24ZqyvIs"
      },
      "outputs": [
        {
          "name": "stdout",
          "output_type": "stream",
          "text": [
            "[-0.00789818  0.59245506  0.15169119  0.09937606 -0.15919314 -0.04266036\n",
            " -0.29609678 -0.05445948  0.1322939 ]\n",
            "         feature  coefficient\n",
            "0     LND_SQFOOT    -0.007898\n",
            "1   TOT_LVG_AREA     0.592455\n",
            "2  SPEC_FEAT_VAL     0.151691\n",
            "3      RAIL_DIST     0.099376\n",
            "4     OCEAN_DIST    -0.159193\n",
            "5     WATER_DIST    -0.042660\n",
            "6      CNTR_DIST    -0.296097\n",
            "7     SUBCNTR_DI    -0.054459\n",
            "8       HWY_DIST     0.132294\n"
          ]
        }
      ],
      "source": [
        "print(mlr_model.coef_)\n",
        "\n",
        "coef_df = pd.DataFrame({'feature': X.columns, 'coefficient': mlr_model.coef_})\n",
        "print(coef_df)"
      ]
    },
    {
      "cell_type": "markdown",
      "metadata": {
        "id": "auawsXr5i4uI"
      },
      "source": [
        "**Question: According to the model, with feature is the most important for predicting house price?** Hint: a larger coefficient for a specific feature means that it is more important for predicting the independent variable."
      ]
    },
    {
      "attachments": {},
      "cell_type": "markdown",
      "metadata": {},
      "source": [
        "TOT_LVG_AREA with a coefficent of 0.592455"
      ]
    },
    {
      "cell_type": "markdown",
      "metadata": {
        "id": "5wKgqn6bzy3z"
      },
      "source": [
        "# Q4: Logistic Regression in `Sklearn`"
      ]
    },
    {
      "cell_type": "markdown",
      "metadata": {
        "id": "YBFFUGNMz2ST"
      },
      "source": [
        "Lets train a model to predict noise exceeding an acceptable level (`avno60plus`) using `RAIL_DIST` and `HWY_DIST`.\n",
        "\n",
        "Once again I am doing some feature scaling here but don't worry about this just yet :)"
      ]
    },
    {
      "cell_type": "code",
      "execution_count": 55,
      "metadata": {
        "id": "vRGXKNWA0YUq"
      },
      "outputs": [],
      "source": [
        "X1 = (df['RAIL_DIST'].values - np.mean(df['RAIL_DIST'].values)) / np.std(df['RAIL_DIST'].values) \n",
        "X1 = X1.reshape(-1, 1)\n",
        "X2 = (df['HWY_DIST'].values - np.mean(df['HWY_DIST'].values)) / np.std(df['HWY_DIST'].values) \n",
        "X2 = X2.reshape(-1, 1)\n",
        "X = np.hstack([X1, X2])\n",
        "y = df['avno60plus'].values"
      ]
    },
    {
      "cell_type": "markdown",
      "metadata": {
        "id": "vYfIc6wG0k0k"
      },
      "source": [
        "Create a logistic regression model in sklearn and train/fit it to the data.\n",
        "\n",
        "https://scikit-learn.org/stable/modules/generated/sklearn.linear_model.LogisticRegression.html#sklearn.linear_model.LogisticRegression"
      ]
    },
    {
      "cell_type": "code",
      "execution_count": 56,
      "metadata": {
        "id": "6FUrR5Sf3Ijl"
      },
      "outputs": [
        {
          "data": {
            "text/plain": [
              "LogisticRegression()"
            ]
          },
          "execution_count": 56,
          "metadata": {},
          "output_type": "execute_result"
        }
      ],
      "source": [
        "from sklearn.linear_model import LogisticRegression\n",
        "\n",
        "# Create logistic regression model\n",
        "log_reg = LogisticRegression()\n",
        "\n",
        "# Fit model to data\n",
        "log_reg.fit(X, y)"
      ]
    },
    {
      "cell_type": "markdown",
      "metadata": {
        "id": "3A6PnY380qwO"
      },
      "source": [
        "Call the `.score()` method. **What does this tell you?**"
      ]
    },
    {
      "cell_type": "code",
      "execution_count": 57,
      "metadata": {
        "id": "DC5hX-Xj3hot"
      },
      "outputs": [
        {
          "name": "stdout",
          "output_type": "stream",
          "text": [
            "R squared value for sklearn model: 0.9850703416594889\n"
          ]
        }
      ],
      "source": [
        "# calculate R squared value for sklearn model\n",
        "sk_rsq = log_reg.score(X, y)\n",
        "print(\"R squared value for sklearn model:\", sk_rsq)"
      ]
    },
    {
      "cell_type": "markdown",
      "metadata": {
        "id": "B28Zp98602Ec"
      },
      "source": [
        "**Question: According to the model, what is the most important feature, `RAIL_DIST` or  `HWY_DIST` when it comes to modelling noise exceeding an acceptable level?**"
      ]
    },
    {
      "cell_type": "code",
      "execution_count": 58,
      "metadata": {
        "id": "3PfEdwbl7Gyl"
      },
      "outputs": [
        {
          "name": "stdout",
          "output_type": "stream",
          "text": [
            "[[-2.31512335 -0.23095189]]\n"
          ]
        }
      ],
      "source": [
        "print(log_reg.coef_)"
      ]
    },
    {
      "attachments": {},
      "cell_type": "markdown",
      "metadata": {},
      "source": [
        "`RAIL_DIST`"
      ]
    },
    {
      "cell_type": "markdown",
      "metadata": {
        "id": "YtBlR6E93ANo"
      },
      "source": [
        "What to expect for next class:\n",
        "\n",
        "- Imputing missing values\n",
        "- Feature Scaling\n",
        "- How to evaluate models\n",
        "\n",
        "All of this is possible within sklearn so next class will be far more coding related. \n",
        "\n",
        "More specifically we will cover the ideas of a training and test set, confusion matrix, normalizing and standardizing data, and a few more!"
      ]
    }
  ],
  "metadata": {
    "colab": {
      "provenance": []
    },
    "kernelspec": {
      "display_name": "Python 3",
      "language": "python",
      "name": "python3"
    },
    "language_info": {
      "codemirror_mode": {
        "name": "ipython",
        "version": 3
      },
      "file_extension": ".py",
      "mimetype": "text/x-python",
      "name": "python",
      "nbconvert_exporter": "python",
      "pygments_lexer": "ipython3",
      "version": "3.10.4"
    },
    "vscode": {
      "interpreter": {
        "hash": "aee8b7b246df8f9039afb4144a1f6fd8d2ca17a180786b69acc140d282b71a49"
      }
    }
  },
  "nbformat": 4,
  "nbformat_minor": 0
}
