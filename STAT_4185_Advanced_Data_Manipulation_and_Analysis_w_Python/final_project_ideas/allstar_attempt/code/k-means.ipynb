{
 "cells": [
  {
   "cell_type": "code",
   "execution_count": 1,
   "metadata": {},
   "outputs": [
    {
     "ename": "FileNotFoundError",
     "evalue": "[Errno 2] No such file or directory: '/Users/giovanni-lunetta/stat_4185/final_project/data/cleaned.csv'",
     "output_type": "error",
     "traceback": [
      "\u001b[0;31m---------------------------------------------------------------------------\u001b[0m",
      "\u001b[0;31mFileNotFoundError\u001b[0m                         Traceback (most recent call last)",
      "\u001b[1;32m/Users/giovanni-lunetta/stat_4185/final_project/allstar_attempt/code/k-means.ipynb Cell 1\u001b[0m in \u001b[0;36m<cell line: 3>\u001b[0;34m()\u001b[0m\n\u001b[1;32m      <a href='vscode-notebook-cell:/Users/giovanni-lunetta/stat_4185/final_project/allstar_attempt/code/k-means.ipynb#W0sZmlsZQ%3D%3D?line=0'>1</a>\u001b[0m \u001b[39mimport\u001b[39;00m \u001b[39mpandas\u001b[39;00m \u001b[39mas\u001b[39;00m \u001b[39mpd\u001b[39;00m\n\u001b[0;32m----> <a href='vscode-notebook-cell:/Users/giovanni-lunetta/stat_4185/final_project/allstar_attempt/code/k-means.ipynb#W0sZmlsZQ%3D%3D?line=2'>3</a>\u001b[0m df \u001b[39m=\u001b[39m pd\u001b[39m.\u001b[39;49mread_csv(\u001b[39m\"\u001b[39;49m\u001b[39m/Users/giovanni-lunetta/stat_4185/final_project/data/cleaned.csv\u001b[39;49m\u001b[39m\"\u001b[39;49m)\n\u001b[1;32m      <a href='vscode-notebook-cell:/Users/giovanni-lunetta/stat_4185/final_project/allstar_attempt/code/k-means.ipynb#W0sZmlsZQ%3D%3D?line=3'>4</a>\u001b[0m df \u001b[39m=\u001b[39m df\u001b[39m.\u001b[39mdrop(\u001b[39m\"\u001b[39m\u001b[39mUnnamed: 0\u001b[39m\u001b[39m\"\u001b[39m, axis\u001b[39m=\u001b[39m\u001b[39m1\u001b[39m)\n",
      "File \u001b[0;32m/Library/Frameworks/Python.framework/Versions/3.10/lib/python3.10/site-packages/pandas/util/_decorators.py:311\u001b[0m, in \u001b[0;36mdeprecate_nonkeyword_arguments.<locals>.decorate.<locals>.wrapper\u001b[0;34m(*args, **kwargs)\u001b[0m\n\u001b[1;32m    305\u001b[0m \u001b[39mif\u001b[39;00m \u001b[39mlen\u001b[39m(args) \u001b[39m>\u001b[39m num_allow_args:\n\u001b[1;32m    306\u001b[0m     warnings\u001b[39m.\u001b[39mwarn(\n\u001b[1;32m    307\u001b[0m         msg\u001b[39m.\u001b[39mformat(arguments\u001b[39m=\u001b[39marguments),\n\u001b[1;32m    308\u001b[0m         \u001b[39mFutureWarning\u001b[39;00m,\n\u001b[1;32m    309\u001b[0m         stacklevel\u001b[39m=\u001b[39mstacklevel,\n\u001b[1;32m    310\u001b[0m     )\n\u001b[0;32m--> 311\u001b[0m \u001b[39mreturn\u001b[39;00m func(\u001b[39m*\u001b[39;49margs, \u001b[39m*\u001b[39;49m\u001b[39m*\u001b[39;49mkwargs)\n",
      "File \u001b[0;32m/Library/Frameworks/Python.framework/Versions/3.10/lib/python3.10/site-packages/pandas/io/parsers/readers.py:680\u001b[0m, in \u001b[0;36mread_csv\u001b[0;34m(filepath_or_buffer, sep, delimiter, header, names, index_col, usecols, squeeze, prefix, mangle_dupe_cols, dtype, engine, converters, true_values, false_values, skipinitialspace, skiprows, skipfooter, nrows, na_values, keep_default_na, na_filter, verbose, skip_blank_lines, parse_dates, infer_datetime_format, keep_date_col, date_parser, dayfirst, cache_dates, iterator, chunksize, compression, thousands, decimal, lineterminator, quotechar, quoting, doublequote, escapechar, comment, encoding, encoding_errors, dialect, error_bad_lines, warn_bad_lines, on_bad_lines, delim_whitespace, low_memory, memory_map, float_precision, storage_options)\u001b[0m\n\u001b[1;32m    665\u001b[0m kwds_defaults \u001b[39m=\u001b[39m _refine_defaults_read(\n\u001b[1;32m    666\u001b[0m     dialect,\n\u001b[1;32m    667\u001b[0m     delimiter,\n\u001b[0;32m   (...)\u001b[0m\n\u001b[1;32m    676\u001b[0m     defaults\u001b[39m=\u001b[39m{\u001b[39m\"\u001b[39m\u001b[39mdelimiter\u001b[39m\u001b[39m\"\u001b[39m: \u001b[39m\"\u001b[39m\u001b[39m,\u001b[39m\u001b[39m\"\u001b[39m},\n\u001b[1;32m    677\u001b[0m )\n\u001b[1;32m    678\u001b[0m kwds\u001b[39m.\u001b[39mupdate(kwds_defaults)\n\u001b[0;32m--> 680\u001b[0m \u001b[39mreturn\u001b[39;00m _read(filepath_or_buffer, kwds)\n",
      "File \u001b[0;32m/Library/Frameworks/Python.framework/Versions/3.10/lib/python3.10/site-packages/pandas/io/parsers/readers.py:575\u001b[0m, in \u001b[0;36m_read\u001b[0;34m(filepath_or_buffer, kwds)\u001b[0m\n\u001b[1;32m    572\u001b[0m _validate_names(kwds\u001b[39m.\u001b[39mget(\u001b[39m\"\u001b[39m\u001b[39mnames\u001b[39m\u001b[39m\"\u001b[39m, \u001b[39mNone\u001b[39;00m))\n\u001b[1;32m    574\u001b[0m \u001b[39m# Create the parser.\u001b[39;00m\n\u001b[0;32m--> 575\u001b[0m parser \u001b[39m=\u001b[39m TextFileReader(filepath_or_buffer, \u001b[39m*\u001b[39;49m\u001b[39m*\u001b[39;49mkwds)\n\u001b[1;32m    577\u001b[0m \u001b[39mif\u001b[39;00m chunksize \u001b[39mor\u001b[39;00m iterator:\n\u001b[1;32m    578\u001b[0m     \u001b[39mreturn\u001b[39;00m parser\n",
      "File \u001b[0;32m/Library/Frameworks/Python.framework/Versions/3.10/lib/python3.10/site-packages/pandas/io/parsers/readers.py:933\u001b[0m, in \u001b[0;36mTextFileReader.__init__\u001b[0;34m(self, f, engine, **kwds)\u001b[0m\n\u001b[1;32m    930\u001b[0m     \u001b[39mself\u001b[39m\u001b[39m.\u001b[39moptions[\u001b[39m\"\u001b[39m\u001b[39mhas_index_names\u001b[39m\u001b[39m\"\u001b[39m] \u001b[39m=\u001b[39m kwds[\u001b[39m\"\u001b[39m\u001b[39mhas_index_names\u001b[39m\u001b[39m\"\u001b[39m]\n\u001b[1;32m    932\u001b[0m \u001b[39mself\u001b[39m\u001b[39m.\u001b[39mhandles: IOHandles \u001b[39m|\u001b[39m \u001b[39mNone\u001b[39;00m \u001b[39m=\u001b[39m \u001b[39mNone\u001b[39;00m\n\u001b[0;32m--> 933\u001b[0m \u001b[39mself\u001b[39m\u001b[39m.\u001b[39m_engine \u001b[39m=\u001b[39m \u001b[39mself\u001b[39;49m\u001b[39m.\u001b[39;49m_make_engine(f, \u001b[39mself\u001b[39;49m\u001b[39m.\u001b[39;49mengine)\n",
      "File \u001b[0;32m/Library/Frameworks/Python.framework/Versions/3.10/lib/python3.10/site-packages/pandas/io/parsers/readers.py:1217\u001b[0m, in \u001b[0;36mTextFileReader._make_engine\u001b[0;34m(self, f, engine)\u001b[0m\n\u001b[1;32m   1213\u001b[0m     mode \u001b[39m=\u001b[39m \u001b[39m\"\u001b[39m\u001b[39mrb\u001b[39m\u001b[39m\"\u001b[39m\n\u001b[1;32m   1214\u001b[0m \u001b[39m# error: No overload variant of \"get_handle\" matches argument types\u001b[39;00m\n\u001b[1;32m   1215\u001b[0m \u001b[39m# \"Union[str, PathLike[str], ReadCsvBuffer[bytes], ReadCsvBuffer[str]]\"\u001b[39;00m\n\u001b[1;32m   1216\u001b[0m \u001b[39m# , \"str\", \"bool\", \"Any\", \"Any\", \"Any\", \"Any\", \"Any\"\u001b[39;00m\n\u001b[0;32m-> 1217\u001b[0m \u001b[39mself\u001b[39m\u001b[39m.\u001b[39mhandles \u001b[39m=\u001b[39m get_handle(  \u001b[39m# type: ignore[call-overload]\u001b[39;49;00m\n\u001b[1;32m   1218\u001b[0m     f,\n\u001b[1;32m   1219\u001b[0m     mode,\n\u001b[1;32m   1220\u001b[0m     encoding\u001b[39m=\u001b[39;49m\u001b[39mself\u001b[39;49m\u001b[39m.\u001b[39;49moptions\u001b[39m.\u001b[39;49mget(\u001b[39m\"\u001b[39;49m\u001b[39mencoding\u001b[39;49m\u001b[39m\"\u001b[39;49m, \u001b[39mNone\u001b[39;49;00m),\n\u001b[1;32m   1221\u001b[0m     compression\u001b[39m=\u001b[39;49m\u001b[39mself\u001b[39;49m\u001b[39m.\u001b[39;49moptions\u001b[39m.\u001b[39;49mget(\u001b[39m\"\u001b[39;49m\u001b[39mcompression\u001b[39;49m\u001b[39m\"\u001b[39;49m, \u001b[39mNone\u001b[39;49;00m),\n\u001b[1;32m   1222\u001b[0m     memory_map\u001b[39m=\u001b[39;49m\u001b[39mself\u001b[39;49m\u001b[39m.\u001b[39;49moptions\u001b[39m.\u001b[39;49mget(\u001b[39m\"\u001b[39;49m\u001b[39mmemory_map\u001b[39;49m\u001b[39m\"\u001b[39;49m, \u001b[39mFalse\u001b[39;49;00m),\n\u001b[1;32m   1223\u001b[0m     is_text\u001b[39m=\u001b[39;49mis_text,\n\u001b[1;32m   1224\u001b[0m     errors\u001b[39m=\u001b[39;49m\u001b[39mself\u001b[39;49m\u001b[39m.\u001b[39;49moptions\u001b[39m.\u001b[39;49mget(\u001b[39m\"\u001b[39;49m\u001b[39mencoding_errors\u001b[39;49m\u001b[39m\"\u001b[39;49m, \u001b[39m\"\u001b[39;49m\u001b[39mstrict\u001b[39;49m\u001b[39m\"\u001b[39;49m),\n\u001b[1;32m   1225\u001b[0m     storage_options\u001b[39m=\u001b[39;49m\u001b[39mself\u001b[39;49m\u001b[39m.\u001b[39;49moptions\u001b[39m.\u001b[39;49mget(\u001b[39m\"\u001b[39;49m\u001b[39mstorage_options\u001b[39;49m\u001b[39m\"\u001b[39;49m, \u001b[39mNone\u001b[39;49;00m),\n\u001b[1;32m   1226\u001b[0m )\n\u001b[1;32m   1227\u001b[0m \u001b[39massert\u001b[39;00m \u001b[39mself\u001b[39m\u001b[39m.\u001b[39mhandles \u001b[39mis\u001b[39;00m \u001b[39mnot\u001b[39;00m \u001b[39mNone\u001b[39;00m\n\u001b[1;32m   1228\u001b[0m f \u001b[39m=\u001b[39m \u001b[39mself\u001b[39m\u001b[39m.\u001b[39mhandles\u001b[39m.\u001b[39mhandle\n",
      "File \u001b[0;32m/Library/Frameworks/Python.framework/Versions/3.10/lib/python3.10/site-packages/pandas/io/common.py:789\u001b[0m, in \u001b[0;36mget_handle\u001b[0;34m(path_or_buf, mode, encoding, compression, memory_map, is_text, errors, storage_options)\u001b[0m\n\u001b[1;32m    784\u001b[0m \u001b[39melif\u001b[39;00m \u001b[39misinstance\u001b[39m(handle, \u001b[39mstr\u001b[39m):\n\u001b[1;32m    785\u001b[0m     \u001b[39m# Check whether the filename is to be opened in binary mode.\u001b[39;00m\n\u001b[1;32m    786\u001b[0m     \u001b[39m# Binary mode does not support 'encoding' and 'newline'.\u001b[39;00m\n\u001b[1;32m    787\u001b[0m     \u001b[39mif\u001b[39;00m ioargs\u001b[39m.\u001b[39mencoding \u001b[39mand\u001b[39;00m \u001b[39m\"\u001b[39m\u001b[39mb\u001b[39m\u001b[39m\"\u001b[39m \u001b[39mnot\u001b[39;00m \u001b[39min\u001b[39;00m ioargs\u001b[39m.\u001b[39mmode:\n\u001b[1;32m    788\u001b[0m         \u001b[39m# Encoding\u001b[39;00m\n\u001b[0;32m--> 789\u001b[0m         handle \u001b[39m=\u001b[39m \u001b[39mopen\u001b[39;49m(\n\u001b[1;32m    790\u001b[0m             handle,\n\u001b[1;32m    791\u001b[0m             ioargs\u001b[39m.\u001b[39;49mmode,\n\u001b[1;32m    792\u001b[0m             encoding\u001b[39m=\u001b[39;49mioargs\u001b[39m.\u001b[39;49mencoding,\n\u001b[1;32m    793\u001b[0m             errors\u001b[39m=\u001b[39;49merrors,\n\u001b[1;32m    794\u001b[0m             newline\u001b[39m=\u001b[39;49m\u001b[39m\"\u001b[39;49m\u001b[39m\"\u001b[39;49m,\n\u001b[1;32m    795\u001b[0m         )\n\u001b[1;32m    796\u001b[0m     \u001b[39melse\u001b[39;00m:\n\u001b[1;32m    797\u001b[0m         \u001b[39m# Binary mode\u001b[39;00m\n\u001b[1;32m    798\u001b[0m         handle \u001b[39m=\u001b[39m \u001b[39mopen\u001b[39m(handle, ioargs\u001b[39m.\u001b[39mmode)\n",
      "\u001b[0;31mFileNotFoundError\u001b[0m: [Errno 2] No such file or directory: '/Users/giovanni-lunetta/stat_4185/final_project/data/cleaned.csv'"
     ]
    }
   ],
   "source": [
    "import pandas as pd\n",
    "\n",
    "df = pd.read_csv(\"/Users/giovanni-lunetta/stat_4185/final_project/data/cleaned.csv\")\n",
    "df = df.drop(\"Unnamed: 0\", axis=1)"
   ]
  },
  {
   "cell_type": "code",
   "execution_count": 2,
   "metadata": {},
   "outputs": [],
   "source": [
    "# Import necessary libraries\n",
    "from sklearn import datasets # to retrieve the iris Dataset\n",
    "from sklearn.preprocessing import StandardScaler # to standardize the features\n",
    "from sklearn.decomposition import PCA # to apply PCA\n",
    "import numpy as np\n",
    "import matplotlib.pyplot as plt\n",
    "import seaborn as sns"
   ]
  },
  {
   "cell_type": "code",
   "execution_count": 3,
   "metadata": {},
   "outputs": [],
   "source": [
    "from sklearn.model_selection import train_test_split\n",
    "from sklearn.preprocessing import StandardScaler\n",
    "\n",
    "# cast the 'MVP' and 'HOF' columns to string\n",
    "df['MVP'] = df['MVP'].astype(str)\n",
    "df['HOF'] = df['HOF'].astype(str)\n",
    "\n",
    "# select the continuous variables\n",
    "X = df.select_dtypes(include=['float64', 'int64'])\n",
    "\n",
    "# split into training and testing sets\n",
    "X_train, X_test = train_test_split(X, test_size=0.3, random_state=42)"
   ]
  },
  {
   "cell_type": "code",
   "execution_count": 4,
   "metadata": {},
   "outputs": [],
   "source": [
    "cov_mat = np.cov(X_train.T)\n",
    "eigen_vals, eigen_vecs = np.linalg.eig(cov_mat)"
   ]
  },
  {
   "cell_type": "code",
   "execution_count": 5,
   "metadata": {},
   "outputs": [
    {
     "data": {
      "image/png": "[encoded data removed]",
      "text/plain": [
       "<Figure size 576x432 with 1 Axes>"
      ]
     },
     "metadata": {
      "needs_background": "light"
     },
     "output_type": "display_data"
    }
   ],
   "source": [
    "import numpy as np\n",
    "\n",
    "# calculate cumulative sum of explained variances\n",
    "tot = sum(eigen_vals)\n",
    "var_exp = [(i / tot) for i in sorted(eigen_vals, reverse=True)]\n",
    "cum_var_exp = np.cumsum(var_exp)\n",
    "\n",
    "# create a new figure object with size (8,6)\n",
    "fig = plt.figure(figsize=(8,6))\n",
    "\n",
    "# plot explained variances\n",
    "plt.bar(range(1,35), var_exp, alpha=0.5,\n",
    "        align='center', label='individual explained variance')\n",
    "plt.step(range(1,35), cum_var_exp, where='mid',\n",
    "         label='cumulative explained variance')\n",
    "plt.ylabel('Explained variance ratio')\n",
    "plt.xlabel('Principal component index')\n",
    "plt.legend(loc='best')\n",
    "plt.show()"
   ]
  },
  {
   "cell_type": "code",
   "execution_count": 6,
   "metadata": {},
   "outputs": [],
   "source": [
    "# Make a list of (eigenvalue, eigenvector) tuples\n",
    "eigen_pairs = [(np.abs(eigen_vals[i]), eigen_vecs[:, i]) for i in range(len(eigen_vals))]\n",
    "\n",
    "# Sort the (eigenvalue, eigenvector) tuples from high to low\n",
    "eigen_pairs.sort(key=lambda k: k[0], reverse=True)"
   ]
  },
  {
   "cell_type": "code",
   "execution_count": 7,
   "metadata": {},
   "outputs": [
    {
     "name": "stdout",
     "output_type": "stream",
     "text": [
      "Matrix W:\n",
      " [[ 6.40224350e-02  3.13111729e-02  1.43227961e-01]\n",
      " [ 2.88033181e-02  6.56822181e-02  2.07142023e-01]\n",
      " [ 9.94082128e-03  2.62884319e-02  1.78276637e-01]\n",
      " [ 1.45837745e-02  8.65919257e-02  3.51929329e-01]\n",
      " [ 9.72623830e-03 -9.18333474e-03  1.69829037e-01]\n",
      " [ 1.42121582e-02 -1.34407816e-02  3.25627041e-01]\n",
      " [ 1.48851297e-04  3.53670589e-02  8.68372633e-03]\n",
      " [ 4.23321780e-04  9.97865540e-02  2.62174470e-02]\n",
      " [ 9.70154886e-03  2.15100661e-02  1.07030076e-01]\n",
      " [ 1.24424318e-02  1.56127278e-02  1.33752929e-01]\n",
      " [ 2.31906410e-03 -3.80945193e-02  2.01244570e-02]\n",
      " [ 1.07048407e-02 -4.08955896e-02  6.62172424e-02]\n",
      " [ 1.33036633e-02 -1.03283966e-01  9.12075597e-02]\n",
      " [ 8.73114566e-03  1.39518808e-01 -5.94776684e-02]\n",
      " [ 1.92836534e-03  2.31514036e-02 -7.23808724e-03]\n",
      " [ 2.28657008e-03 -1.72942636e-02  1.60250794e-02]\n",
      " [ 3.28152672e-03  3.77889894e-02  2.27005207e-02]\n",
      " [-4.47537632e-04 -1.89753316e-02  1.66627019e-02]\n",
      " [ 2.95855084e-02  1.08992259e-01  4.72354615e-01]\n",
      " [ 1.88703518e-04 -1.29006451e-03  6.43922081e-04]\n",
      " [ 1.97018462e-04 -3.81815987e-04  6.27525984e-04]\n",
      " [ 1.73022442e-04  6.06009078e-03  1.17971143e-03]\n",
      " [ 6.53240297e-05  2.13454614e-03  9.06694456e-04]\n",
      " [ 2.29518397e-04  8.51712118e-05  5.77834222e-04]\n",
      " [ 1.86385062e-04 -1.20759154e-04  3.93424782e-04]\n",
      " [ 8.93817174e-01 -2.94270855e-01 -9.43826991e-02]\n",
      " [ 5.21325594e-02  8.34769891e-02 -2.90115010e-02]\n",
      " [-2.31226404e-02  1.58004715e-01  5.99218981e-02]\n",
      " [ 4.33217154e-01  5.28777020e-01  8.16665432e-02]\n",
      " [ 3.78595157e-02  6.82470815e-02  1.95720894e-01]\n",
      " [ 1.49496692e-02 -2.01503373e-01  8.59917277e-02]\n",
      " [ 3.44008425e-02  6.78811939e-01 -3.14870781e-01]\n",
      " [-5.41597786e-03  3.43521130e-02 -1.85095413e-01]\n",
      " [ 1.54069282e-02  1.45509271e-01  4.19490816e-01]]\n"
     ]
    }
   ],
   "source": [
    "# w = np.hstack((eigen_pairs[0][1][:, np.newaxis],\n",
    "#                eigen_pairs[1][1][:, np.newaxis]))\n",
    "# print('Matrix W:\\n', w)\n",
    "\n",
    "w = np.hstack((eigen_pairs[0][1][:, np.newaxis],\n",
    "               eigen_pairs[1][1][:, np.newaxis],\n",
    "               eigen_pairs[2][1][:, np.newaxis]))\n",
    "print('Matrix W:\\n', w)"
   ]
  },
  {
   "cell_type": "code",
   "execution_count": 8,
   "metadata": {},
   "outputs": [],
   "source": [
    "# transform the first sample vector onto the PCA subspace\n",
    "x = X_train.iloc[0, :]\n",
    "x_pca = x.dot(w)\n",
    "\n",
    "# transform the entire training dataset onto the PCA subspace\n",
    "X_train_pca = X_train.dot(w)"
   ]
  },
  {
   "cell_type": "code",
   "execution_count": 9,
   "metadata": {},
   "outputs": [
    {
     "data": {
      "image/png": "[encoded data removed]",
      "text/plain": [
       "<Figure size 432x288 with 1 Axes>"
      ]
     },
     "metadata": {
      "needs_background": "light"
     },
     "output_type": "display_data"
    }
   ],
   "source": [
    "# fit k-means models with a range of values for the number of clusters\n",
    "from sklearn.cluster import KMeans\n",
    "\n",
    "wcss = []\n",
    "for i in range(1, 11):\n",
    "    kmeans = KMeans(n_clusters=i, init='k-means++', random_state=0)\n",
    "    kmeans.fit(X_train_pca)\n",
    "    wcss.append(kmeans.inertia_)\n",
    "\n",
    "# plot the elbow curve\n",
    "import matplotlib.pyplot as plt\n",
    "\n",
    "plt.plot(range(1, 11), wcss)\n",
    "plt.title('Elbow Method')\n",
    "plt.xlabel('Number of clusters')\n",
    "plt.ylabel('WCSS')\n",
    "plt.show()"
   ]
  },
  {
   "cell_type": "code",
   "execution_count": 11,
   "metadata": {},
   "outputs": [],
   "source": [
    "kmeans = KMeans(n_clusters=3, random_state=0)\n",
    "kmeans.fit(X_train_pca)\n",
    "\n",
    "# predict the clusters for the training data\n",
    "y_train_pred = kmeans.predict(X_train_pca)"
   ]
  },
  {
   "cell_type": "code",
   "execution_count": 55,
   "metadata": {},
   "outputs": [
    {
     "data": {
      "image/png": "[encoded data removed]",
      "text/plain": [
       "<Figure size 432x288 with 1 Axes>"
      ]
     },
     "metadata": {
      "needs_background": "light"
     },
     "output_type": "display_data"
    }
   ],
   "source": [
    "# # assign cluster labels to each data point\n",
    "# y_train_labels = kmeans.labels_\n",
    "\n",
    "# # convert X_train_pca to a NumPy array\n",
    "# X_train_pca_array = X_train_pca.to_numpy()\n",
    "\n",
    "# # create a scatter plot of the first two principal components with color-coded clusters\n",
    "# plt.scatter(X_train_pca_array[:, 0], X_train_pca_array[:, 1], c=y_train_labels)\n",
    "# plt.title('Clusters of training data')\n",
    "# plt.xlabel('Principal Component 1')\n",
    "# plt.ylabel('Principal Component 2')\n",
    "# plt.show()"
   ]
  },
  {
   "cell_type": "code",
   "execution_count": 12,
   "metadata": {},
   "outputs": [
    {
     "data": {
      "application/vnd.plotly.v1+json": {
       "config": {
        "plotlyServerURL": "https://plot.ly"
       },
       "data": [
        {
         "mode": "markers",
         "name": "Cluster 0",
         "showlegend": true,
         "type": "scatter3d",
         "x": [
          130.825573187171,
          117.49577624247891,
          118.88376209533843,
          93.12240941280679,
          83.4542724829796,
          102.11198114654627,
          92.30974714856146,
          124.6872788958696,
          98.04146648841018,
          105.44635843419609,
          114.36022831420914,
          82.63196099898386,
          118.2199495026835,
          126.06418311504727,
          110.2167736230965,
          151.34700813117053,
          145.276528779707,
          108.84146323563458,
          115.86666232642636,
          89.1369351394085,
          102.36500571905368,
          80.77671812768227,
          101.05724600723133,
          144.60513690020008,
          96.2313020286439,
          99.3592709410437,
          130.0850277931675,
          82.23288210549138,
          104.34805792414593,
          119.41374060124306,
          92.21350574235133,
          98.80566631873734,
          85.01794458956404,
          95.93946869674969,
          90.55749305318831,
          116.13814498777465,
          156.48596820805795,
          98.31060980972204,
          104.20754944219432,
          99.90411144226388,
          98.21499849173578,
          122.96486344602611,
          144.20724757557232,
          100.1451650701895,
          114.61716591651685,
          82.88678081762701,
          95.48144395206005,
          99.1648066082823,
          85.4349950235854,
          123.54958437311244,
          107.4984497975559,
          88.35365519505308,
          147.4222207594895,
          119.9391184237051,
          91.86441052141743,
          92.80780204105916,
          116.07106807099147,
          87.25748221520044,
          91.91326372633941,
          94.47565132250344,
          86.86616581851698,
          120.97744932894796,
          142.968015663046,
          92.38103675166401,
          86.18568116471822,
          119.03769047765061,
          105.48318525149621,
          95.57643636551781,
          79.63992845563926,
          92.27582169259976,
          117.47103735513257,
          114.27529783694125,
          95.56335133981844,
          102.56253551744791,
          122.60092682944513,
          123.72206141583237,
          88.1495272057613,
          120.33698739236743,
          87.75949476055415,
          101.32023458984621,
          102.80354770984714,
          85.60607513386908
         ],
         "y": [
          14.583881402533176,
          38.02870070435148,
          24.535779810949375,
          18.030702240078227,
          27.414323610679286,
          44.371668477998995,
          41.6896448190905,
          44.72329517349197,
          28.391780702122553,
          21.484629282639013,
          38.29215979027381,
          22.53452353276587,
          45.68952928374289,
          43.39835140756979,
          17.49492551823078,
          13.584359667645474,
          52.98563353235057,
          42.144701520043995,
          49.540190584349396,
          28.449979944462086,
          30.651761700958144,
          29.49379896443045,
          36.92570430320608,
          42.197933801837806,
          27.17293381239208,
          37.848515172191505,
          28.224201384550867,
          41.398068532691475,
          21.720350056742934,
          54.58491269893929,
          27.997728196645337,
          61.23866105183913,
          57.06363509513532,
          27.072977521230335,
          56.16238389641661,
          24.219076889873957,
          13.29258439519465,
          48.965887437745835,
          32.894145725466664,
          22.559052360461084,
          24.52472339535639,
          41.39661274772459,
          55.89214475426704,
          36.96995388850766,
          38.64864347807032,
          24.002646741988265,
          34.69333037005296,
          27.81922897053366,
          31.763311780183038,
          9.439741160535851,
          42.44010715354891,
          55.13759724340034,
          30.065760414948212,
          33.13802773392345,
          30.545767208111144,
          35.946640112541104,
          42.90031099899437,
          41.26893125789058,
          15.762342728030406,
          25.070942186571315,
          38.94664653183669,
          34.2034854388797,
          28.425820386162407,
          35.072731976191626,
          33.89583296174282,
          56.556720028694585,
          53.12753712072888,
          20.87665928398688,
          12.047932183515607,
          30.33221653666566,
          27.493132154257946,
          20.60183767129142,
          56.51218197156754,
          34.36997808829651,
          47.30178331851758,
          23.970951084068574,
          28.7287170754228,
          40.70457516569644,
          25.431207282266044,
          59.30171466693813,
          36.84853415250784,
          26.55199715588875
         ],
         "z": [
          32.36698614587763,
          47.39844346580644,
          30.920663582875736,
          19.111926125074955,
          28.45026602124365,
          41.9123698362802,
          24.231963917878332,
          15.4159762890277,
          27.715575195090302,
          16.75833396833189,
          18.769083799914185,
          35.19631800864013,
          14.47523703469795,
          41.13963584906287,
          24.988807512988956,
          29.38677851921723,
          14.304332536911918,
          31.987625926135234,
          39.44774213094459,
          34.03359002548889,
          29.242361869074152,
          33.450201281468445,
          37.58036148119888,
          30.336933262148893,
          37.967855030718425,
          27.587077798083033,
          35.93803532318503,
          42.85102418136031,
          25.68891561715618,
          36.99449297953369,
          30.079571261322165,
          31.44185753280347,
          21.785189969231585,
          20.54901652434016,
          29.63831942161547,
          29.306646861795155,
          27.612717825035208,
          23.772686368927427,
          33.625991966358455,
          38.01742379115641,
          34.38832825933674,
          22.005978084693286,
          37.92725891126104,
          48.5468958037679,
          39.914100181836965,
          35.617273867354236,
          30.373034708247054,
          42.35753049483311,
          22.362274850094668,
          23.351388059258156,
          36.24885784661612,
          23.01274657344594,
          39.56388524047618,
          25.393717684473543,
          38.422437288674445,
          34.7382588302858,
          30.83355650652181,
          34.461088763218896,
          19.122547305686687,
          35.83814465430516,
          42.02283403681603,
          41.842665317520726,
          41.953641045506366,
          24.84712662398103,
          22.562865717079447,
          46.18182978629201,
          10.062754291408705,
          30.598893074417358,
          17.259219204514913,
          32.05566967880027,
          29.511533224931345,
          26.068113012787673,
          38.456675909508974,
          39.867135613936604,
          20.02144539630202,
          33.73384118265845,
          33.49392967951392,
          22.587673447991733,
          36.42581693369081,
          26.160323637853285,
          27.302714497803922,
          35.2191356720087
         ]
        },
        {
         "mode": "markers",
         "name": "Cluster 1",
         "showlegend": true,
         "type": "scatter3d",
         "x": [
          47.66922459183265,
          68.61915468147924,
          77.07396100304871,
          55.20529247307438,
          81.1801459298683,
          59.54962858455138,
          47.23593169744596,
          51.84080321684912,
          55.72778163326608,
          28.575095400762546,
          56.63825788853284,
          19.9263762663624,
          70.22572097861884,
          42.077912727218596,
          43.068319458786924,
          39.436128322469344,
          27.77982980930917,
          74.05498836618706,
          60.524631600707124,
          42.88836207457828,
          75.95336620102617,
          65.98373151830899,
          53.872572562409054,
          75.74589326322146,
          76.08384410812998,
          70.30012630927301,
          52.86067059856043,
          46.630392099129246,
          57.04788994303546,
          63.91502279351968,
          57.78480717771241,
          76.00117230707416,
          61.21973068104517,
          60.554346126940715,
          37.999872133910664,
          38.58581915148873,
          44.90456358884034,
          71.58364042420949,
          41.631051227396696,
          39.61337693926648,
          72.39120495855983,
          71.92388686343027,
          29.915065764064696,
          48.856655208889194,
          78.36964670615264,
          72.54092226303814,
          41.82114172296683,
          47.937757900882225,
          43.168344214966545,
          79.14246781031684,
          74.5179827333403,
          78.04895428865595,
          59.991638419712245,
          56.370688639588195,
          66.42363587345416,
          77.67419413691883,
          48.092979327304484,
          78.76572366923791,
          27.949457052947697,
          53.35456247656715,
          62.58811856488568,
          61.16755387841968,
          54.011759023372406,
          50.167436948890774,
          48.77555314235041,
          80.04149457757083,
          44.64728754386068,
          79.70267226621466,
          47.08117998696873,
          45.28595088092001,
          28.770408854907682,
          48.97966670088258,
          61.96497342137472,
          32.794485752767905,
          62.264889855223544,
          43.02307270713698,
          31.30845590144682,
          31.324588246678516,
          57.72824958270498,
          73.13814689957213,
          24.280384310203587,
          65.44179836524795,
          64.8002940779665,
          62.941298914248144,
          16.602600687319292,
          54.38407875743735,
          31.490110924518692,
          74.38848114191187,
          38.13444573883097,
          48.50069142618532,
          57.41196655321133,
          26.752981775980928,
          78.77560308454672,
          60.428078133692225,
          56.39246168596841,
          75.58651336806501,
          68.8977437974096,
          41.98995921035064,
          21.40756277287787,
          65.25110171709409,
          62.30342161408865,
          51.67392725512002,
          73.17054555844798,
          75.25539850327914,
          28.175423304323463,
          67.11643289747603,
          61.705902619512365,
          65.95439799875129,
          51.399493822561936,
          44.162513500875015,
          66.52008978895248,
          59.149309094606465,
          58.15601789990288,
          48.865697565222796,
          78.62058973899077,
          53.47702894465591,
          58.119378992616774,
          80.40531715138094,
          44.76671606083002,
          36.69475111095206,
          64.32064332593914,
          51.44136508348629,
          25.36582140176817,
          37.25468029033398,
          72.5300938760496,
          34.30343376628149
         ],
         "y": [
          39.750589412851916,
          44.12155542843101,
          26.687596546497574,
          48.310381708817516,
          49.35577935106353,
          37.75678653137118,
          37.988960541201976,
          40.25670054079676,
          70.86805229842186,
          58.68472577328569,
          15.004151631943316,
          61.82288845645783,
          46.996111458566716,
          26.645928704393505,
          36.69917901774099,
          49.16542699883211,
          42.22487340962154,
          28.790940089712063,
          36.76477276611683,
          37.55642269465701,
          24.931632191109593,
          50.952341428441926,
          26.88778791309298,
          20.09860035692133,
          30.380988815795316,
          21.46601815383906,
          21.85084044621299,
          35.93464245580627,
          30.75543589122675,
          26.109183503407525,
          36.48111411898314,
          49.99239711930832,
          18.238852892444854,
          40.73439553488661,
          36.47575825624622,
          51.9275793044806,
          32.82041704040905,
          34.11641291454113,
          35.52270147702956,
          26.888912812738194,
          41.760372557912774,
          37.78109480207662,
          51.45900887066967,
          47.84049333800508,
          59.478906661919005,
          54.24313024338816,
          51.46290469972055,
          53.69569659040094,
          42.57979831732716,
          34.439310384665816,
          21.791560795613602,
          29.69218356352825,
          48.97440005238679,
          41.64932067424376,
          40.05655459678352,
          21.946254931188115,
          31.676718020098047,
          37.322232004071196,
          27.78901447375122,
          43.03776857879711,
          36.15446675453472,
          42.777317519822006,
          27.245424914026977,
          39.2166118981091,
          44.19635589230158,
          38.647423860017454,
          70.76748084866243,
          55.81695752076276,
          31.9580890175579,
          51.97863755993164,
          46.28314484018915,
          37.54065115220516,
          30.06380007196432,
          46.28592376952738,
          32.58676249239949,
          30.77474915814665,
          56.652442575975904,
          37.44995028481657,
          52.03422217298695,
          40.557443091382,
          51.24450631973178,
          29.571250298006746,
          51.26378333335363,
          36.73557107743228,
          49.05443981445624,
          29.367180397460224,
          40.61189717669266,
          47.06292306295137,
          37.80550802457377,
          51.031411520634165,
          33.392467816337344,
          34.72702386290831,
          45.886287888769246,
          41.135073762437955,
          39.687789118237994,
          35.87461963218855,
          37.78628945135293,
          32.098497155423495,
          58.3327812252069,
          22.717840228128438,
          44.2331296063162,
          29.293481975230698,
          32.81136629302148,
          45.906972732849006,
          62.2110599903245,
          19.697131157430118,
          27.32571928564468,
          48.749063744047255,
          38.01245831231417,
          37.51489777288539,
          42.466084508470665,
          47.62308913801376,
          34.01658055853293,
          42.368515380895886,
          40.66583126766311,
          31.415724807234486,
          42.65040720234414,
          33.68033969252383,
          37.72005009142788,
          39.09524602008543,
          45.75958278538693,
          39.45270951820904,
          34.999463552019776,
          24.97143101968869,
          25.368644078356784,
          46.53049996009151
         ],
         "z": [
          29.770307590061627,
          15.017629912110923,
          35.642573334696756,
          15.174119630872113,
          17.177834232145745,
          37.52505168401747,
          37.94752688509703,
          30.04370874070279,
          44.32792883325345,
          30.98567828768876,
          23.087962480656966,
          33.32421578680457,
          51.16733776686145,
          23.073455238520395,
          34.98064600538467,
          37.73294935606311,
          23.609698733600343,
          32.78769825873224,
          28.35683262045891,
          33.166671035770584,
          36.3770602952526,
          32.17256638141844,
          29.818375291414554,
          26.326769469865862,
          40.623864144875085,
          30.44320231451609,
          19.877977771387574,
          35.95668983530898,
          38.023468588015255,
          31.55695005015345,
          34.33391325249274,
          26.901345478460495,
          24.21196989478801,
          31.029965392752562,
          32.7525650295246,
          38.24454203407971,
          33.8365794964742,
          33.583923279866525,
          26.283460588821853,
          26.22288526419989,
          28.647322550621475,
          27.62017936211798,
          28.706416216111982,
          27.419980707462326,
          26.206624784192854,
          13.268287234898656,
          25.705675849371897,
          29.04597426775628,
          13.86986443254666,
          32.06320213053633,
          28.23275096046003,
          30.08332531479452,
          18.85649621644768,
          29.636835486346513,
          38.25827063112078,
          32.23055921518521,
          33.350003999771275,
          36.638015265840075,
          29.660243276354258,
          45.27199920050643,
          34.042070499174905,
          32.74264094818079,
          42.503992633123815,
          18.29177512430329,
          38.037293881800856,
          19.252757514247463,
          37.64473047278275,
          23.448973377486343,
          33.772251881123715,
          42.078480564561545,
          36.902036443048615,
          30.03018756645691,
          29.531827113929722,
          29.467048898730486,
          28.40952013245391,
          27.406270658405116,
          35.85118850649119,
          39.99369444591315,
          24.189934670255536,
          28.355633680616673,
          48.8247379479378,
          23.832079893081435,
          23.109260056425015,
          22.734796529788447,
          42.1542853035444,
          29.140586132421447,
          33.389667496987464,
          27.99967465743923,
          17.360007126527723,
          36.565885586300105,
          30.524236843992245,
          37.10832227109396,
          27.431628492266896,
          41.71233945566081,
          36.27794219901427,
          36.557541741058174,
          32.96375310381829,
          40.01082263172412,
          31.21010367913988,
          39.62734711591766,
          18.091457845948458,
          27.137205923463444,
          26.42386063246821,
          30.21026529927914,
          25.09729536681892,
          19.67736975756636,
          33.64992312370256,
          27.680489703388904,
          34.095188973386705,
          41.932615179866005,
          35.76548027482567,
          21.60639137056901,
          32.39817773005005,
          37.40917146224464,
          39.21587380000141,
          34.629836047740056,
          23.526663142507363,
          36.56365471296062,
          35.08496662395807,
          36.56729956821831,
          21.94600842440651,
          29.519582119025774,
          36.42483022697947,
          26.6533696694169,
          31.756416987117642,
          33.88833733343882
         ]
        },
        {
         "mode": "markers",
         "name": "Cluster 2",
         "showlegend": true,
         "type": "scatter3d",
         "x": [
          160.3837130242195,
          163.9658555179876,
          165.43114972002198,
          198.5323715292765,
          192.30065527518093,
          229.939359375802,
          173.4212651650057,
          301.70336940008497,
          170.60216807325904,
          183.78266472821997,
          183.45625389781017,
          251.9691727519139,
          234.3265997836041,
          202.55366540190323,
          161.78260751005968,
          162.65363056553775,
          188.5558905272249,
          204.5450496269996,
          241.00840311046503,
          221.9774252887098,
          233.02932204119386,
          291.2743343290067
         ],
         "y": [
          50.62033534480301,
          57.90038773759419,
          48.01031581176388,
          46.70446503297375,
          30.70520879436712,
          28.001473032829693,
          50.29897556953769,
          66.3134561876525,
          38.726127901380174,
          61.07717280990358,
          56.44575021483521,
          55.15486730048438,
          59.22691693822002,
          36.75261164158349,
          32.0112275228291,
          36.01962936249669,
          47.67653362320954,
          29.916940850603275,
          65.83564335278838,
          40.13797355111153,
          30.26811190202036,
          8.918701680237964
         ],
         "z": [
          34.186529122683844,
          16.383459308243097,
          23.863158783842632,
          40.96502113199565,
          25.393393584085285,
          34.379407537640375,
          41.34444279366078,
          37.5771111143064,
          32.31317233061411,
          24.38830368674749,
          32.65828494395657,
          48.26434733848621,
          18.448729814182997,
          36.06351641424878,
          30.73127889153148,
          30.272754196151812,
          43.17433754510649,
          42.3220862852757,
          6.98115156445468,
          32.73275960899266,
          34.12061260976555,
          33.47108401136343
         ]
        },
        {
         "mode": "markers",
         "name": "Cluster 3",
         "showlegend": true,
         "type": "scatter3d",
         "x": [],
         "y": [],
         "z": []
        },
        {
         "mode": "markers",
         "name": "Cluster 4",
         "showlegend": true,
         "type": "scatter3d",
         "x": [],
         "y": [],
         "z": []
        }
       ],
       "layout": {
        "hovermode": "closest",
        "scene": {
         "xaxis": {
          "title": {
           "text": "Principal Component 1"
          }
         },
         "yaxis": {
          "title": {
           "text": "Principal Component 2"
          }
         },
         "zaxis": {
          "title": {
           "text": "Principal Component 3"
          }
         }
        },
        "template": {
         "data": {
          "bar": [
           {
            "error_x": {
             "color": "#2a3f5f"
            },
            "error_y": {
             "color": "#2a3f5f"
            },
            "marker": {
             "line": {
              "color": "#E5ECF6",
              "width": 0.5
             },
             "pattern": {
              "fillmode": "overlay",
              "size": 10,
              "solidity": 0.2
             }
            },
            "type": "bar"
           }
          ],
          "barpolar": [
           {
            "marker": {
             "line": {
              "color": "#E5ECF6",
              "width": 0.5
             },
             "pattern": {
              "fillmode": "overlay",
              "size": 10,
              "solidity": 0.2
             }
            },
            "type": "barpolar"
           }
          ],
          "carpet": [
           {
            "aaxis": {
             "endlinecolor": "#2a3f5f",
             "gridcolor": "white",
             "linecolor": "white",
             "minorgridcolor": "white",
             "startlinecolor": "#2a3f5f"
            },
            "baxis": {
             "endlinecolor": "#2a3f5f",
             "gridcolor": "white",
             "linecolor": "white",
             "minorgridcolor": "white",
             "startlinecolor": "#2a3f5f"
            },
            "type": "carpet"
           }
          ],
          "choropleth": [
           {
            "colorbar": {
             "outlinewidth": 0,
             "ticks": ""
            },
            "type": "choropleth"
           }
          ],
          "contour": [
           {
            "colorbar": {
             "outlinewidth": 0,
             "ticks": ""
            },
            "colorscale": [
             [
              0,
              "#0d0887"
             ],
             [
              0.1111111111111111,
              "#46039f"
             ],
             [
              0.2222222222222222,
              "#7201a8"
             ],
             [
              0.3333333333333333,
              "#9c179e"
             ],
             [
              0.4444444444444444,
              "#bd3786"
             ],
             [
              0.5555555555555556,
              "#d8576b"
             ],
             [
              0.6666666666666666,
              "#ed7953"
             ],
             [
              0.7777777777777778,
              "#fb9f3a"
             ],
             [
              0.8888888888888888,
              "#fdca26"
             ],
             [
              1,
              "#f0f921"
             ]
            ],
            "type": "contour"
           }
          ],
          "contourcarpet": [
           {
            "colorbar": {
             "outlinewidth": 0,
             "ticks": ""
            },
            "type": "contourcarpet"
           }
          ],
          "heatmap": [
           {
            "colorbar": {
             "outlinewidth": 0,
             "ticks": ""
            },
            "colorscale": [
             [
              0,
              "#0d0887"
             ],
             [
              0.1111111111111111,
              "#46039f"
             ],
             [
              0.2222222222222222,
              "#7201a8"
             ],
             [
              0.3333333333333333,
              "#9c179e"
             ],
             [
              0.4444444444444444,
              "#bd3786"
             ],
             [
              0.5555555555555556,
              "#d8576b"
             ],
             [
              0.6666666666666666,
              "#ed7953"
             ],
             [
              0.7777777777777778,
              "#fb9f3a"
             ],
             [
              0.8888888888888888,
              "#fdca26"
             ],
             [
              1,
              "#f0f921"
             ]
            ],
            "type": "heatmap"
           }
          ],
          "heatmapgl": [
           {
            "colorbar": {
             "outlinewidth": 0,
             "ticks": ""
            },
            "colorscale": [
             [
              0,
              "#0d0887"
             ],
             [
              0.1111111111111111,
              "#46039f"
             ],
             [
              0.2222222222222222,
              "#7201a8"
             ],
             [
              0.3333333333333333,
              "#9c179e"
             ],
             [
              0.4444444444444444,
              "#bd3786"
             ],
             [
              0.5555555555555556,
              "#d8576b"
             ],
             [
              0.6666666666666666,
              "#ed7953"
             ],
             [
              0.7777777777777778,
              "#fb9f3a"
             ],
             [
              0.8888888888888888,
              "#fdca26"
             ],
             [
              1,
              "#f0f921"
             ]
            ],
            "type": "heatmapgl"
           }
          ],
          "histogram": [
           {
            "marker": {
             "pattern": {
              "fillmode": "overlay",
              "size": 10,
              "solidity": 0.2
             }
            },
            "type": "histogram"
           }
          ],
          "histogram2d": [
           {
            "colorbar": {
             "outlinewidth": 0,
             "ticks": ""
            },
            "colorscale": [
             [
              0,
              "#0d0887"
             ],
             [
              0.1111111111111111,
              "#46039f"
             ],
             [
              0.2222222222222222,
              "#7201a8"
             ],
             [
              0.3333333333333333,
              "#9c179e"
             ],
             [
              0.4444444444444444,
              "#bd3786"
             ],
             [
              0.5555555555555556,
              "#d8576b"
             ],
             [
              0.6666666666666666,
              "#ed7953"
             ],
             [
              0.7777777777777778,
              "#fb9f3a"
             ],
             [
              0.8888888888888888,
              "#fdca26"
             ],
             [
              1,
              "#f0f921"
             ]
            ],
            "type": "histogram2d"
           }
          ],
          "histogram2dcontour": [
           {
            "colorbar": {
             "outlinewidth": 0,
             "ticks": ""
            },
            "colorscale": [
             [
              0,
              "#0d0887"
             ],
             [
              0.1111111111111111,
              "#46039f"
             ],
             [
              0.2222222222222222,
              "#7201a8"
             ],
             [
              0.3333333333333333,
              "#9c179e"
             ],
             [
              0.4444444444444444,
              "#bd3786"
             ],
             [
              0.5555555555555556,
              "#d8576b"
             ],
             [
              0.6666666666666666,
              "#ed7953"
             ],
             [
              0.7777777777777778,
              "#fb9f3a"
             ],
             [
              0.8888888888888888,
              "#fdca26"
             ],
             [
              1,
              "#f0f921"
             ]
            ],
            "type": "histogram2dcontour"
           }
          ],
          "mesh3d": [
           {
            "colorbar": {
             "outlinewidth": 0,
             "ticks": ""
            },
            "type": "mesh3d"
           }
          ],
          "parcoords": [
           {
            "line": {
             "colorbar": {
              "outlinewidth": 0,
              "ticks": ""
             }
            },
            "type": "parcoords"
           }
          ],
          "pie": [
           {
            "automargin": true,
            "type": "pie"
           }
          ],
          "scatter": [
           {
            "fillpattern": {
             "fillmode": "overlay",
             "size": 10,
             "solidity": 0.2
            },
            "type": "scatter"
           }
          ],
          "scatter3d": [
           {
            "line": {
             "colorbar": {
              "outlinewidth": 0,
              "ticks": ""
             }
            },
            "marker": {
             "colorbar": {
              "outlinewidth": 0,
              "ticks": ""
             }
            },
            "type": "scatter3d"
           }
          ],
          "scattercarpet": [
           {
            "marker": {
             "colorbar": {
              "outlinewidth": 0,
              "ticks": ""
             }
            },
            "type": "scattercarpet"
           }
          ],
          "scattergeo": [
           {
            "marker": {
             "colorbar": {
              "outlinewidth": 0,
              "ticks": ""
             }
            },
            "type": "scattergeo"
           }
          ],
          "scattergl": [
           {
            "marker": {
             "colorbar": {
              "outlinewidth": 0,
              "ticks": ""
             }
            },
            "type": "scattergl"
           }
          ],
          "scattermapbox": [
           {
            "marker": {
             "colorbar": {
              "outlinewidth": 0,
              "ticks": ""
             }
            },
            "type": "scattermapbox"
           }
          ],
          "scatterpolar": [
           {
            "marker": {
             "colorbar": {
              "outlinewidth": 0,
              "ticks": ""
             }
            },
            "type": "scatterpolar"
           }
          ],
          "scatterpolargl": [
           {
            "marker": {
             "colorbar": {
              "outlinewidth": 0,
              "ticks": ""
             }
            },
            "type": "scatterpolargl"
           }
          ],
          "scatterternary": [
           {
            "marker": {
             "colorbar": {
              "outlinewidth": 0,
              "ticks": ""
             }
            },
            "type": "scatterternary"
           }
          ],
          "surface": [
           {
            "colorbar": {
             "outlinewidth": 0,
             "ticks": ""
            },
            "colorscale": [
             [
              0,
              "#0d0887"
             ],
             [
              0.1111111111111111,
              "#46039f"
             ],
             [
              0.2222222222222222,
              "#7201a8"
             ],
             [
              0.3333333333333333,
              "#9c179e"
             ],
             [
              0.4444444444444444,
              "#bd3786"
             ],
             [
              0.5555555555555556,
              "#d8576b"
             ],
             [
              0.6666666666666666,
              "#ed7953"
             ],
             [
              0.7777777777777778,
              "#fb9f3a"
             ],
             [
              0.8888888888888888,
              "#fdca26"
             ],
             [
              1,
              "#f0f921"
             ]
            ],
            "type": "surface"
           }
          ],
          "table": [
           {
            "cells": {
             "fill": {
              "color": "#EBF0F8"
             },
             "line": {
              "color": "white"
             }
            },
            "header": {
             "fill": {
              "color": "#C8D4E3"
             },
             "line": {
              "color": "white"
             }
            },
            "type": "table"
           }
          ]
         },
         "layout": {
          "annotationdefaults": {
           "arrowcolor": "#2a3f5f",
           "arrowhead": 0,
           "arrowwidth": 1
          },
          "autotypenumbers": "strict",
          "coloraxis": {
           "colorbar": {
            "outlinewidth": 0,
            "ticks": ""
           }
          },
          "colorscale": {
           "diverging": [
            [
             0,
             "#8e0152"
            ],
            [
             0.1,
             "#c51b7d"
            ],
            [
             0.2,
             "#de77ae"
            ],
            [
             0.3,
             "#f1b6da"
            ],
            [
             0.4,
             "#fde0ef"
            ],
            [
             0.5,
             "#f7f7f7"
            ],
            [
             0.6,
             "#e6f5d0"
            ],
            [
             0.7,
             "#b8e186"
            ],
            [
             0.8,
             "#7fbc41"
            ],
            [
             0.9,
             "#4d9221"
            ],
            [
             1,
             "#276419"
            ]
           ],
           "sequential": [
            [
             0,
             "#0d0887"
            ],
            [
             0.1111111111111111,
             "#46039f"
            ],
            [
             0.2222222222222222,
             "#7201a8"
            ],
            [
             0.3333333333333333,
             "#9c179e"
            ],
            [
             0.4444444444444444,
             "#bd3786"
            ],
            [
             0.5555555555555556,
             "#d8576b"
            ],
            [
             0.6666666666666666,
             "#ed7953"
            ],
            [
             0.7777777777777778,
             "#fb9f3a"
            ],
            [
             0.8888888888888888,
             "#fdca26"
            ],
            [
             1,
             "#f0f921"
            ]
           ],
           "sequentialminus": [
            [
             0,
             "#0d0887"
            ],
            [
             0.1111111111111111,
             "#46039f"
            ],
            [
             0.2222222222222222,
             "#7201a8"
            ],
            [
             0.3333333333333333,
             "#9c179e"
            ],
            [
             0.4444444444444444,
             "#bd3786"
            ],
            [
             0.5555555555555556,
             "#d8576b"
            ],
            [
             0.6666666666666666,
             "#ed7953"
            ],
            [
             0.7777777777777778,
             "#fb9f3a"
            ],
            [
             0.8888888888888888,
             "#fdca26"
            ],
            [
             1,
             "#f0f921"
            ]
           ]
          },
          "colorway": [
           "#636efa",
           "#EF553B",
           "#00cc96",
           "#ab63fa",
           "#FFA15A",
           "#19d3f3",
           "#FF6692",
           "#B6E880",
           "#FF97FF",
           "#FECB52"
          ],
          "font": {
           "color": "#2a3f5f"
          },
          "geo": {
           "bgcolor": "white",
           "lakecolor": "white",
           "landcolor": "#E5ECF6",
           "showlakes": true,
           "showland": true,
           "subunitcolor": "white"
          },
          "hoverlabel": {
           "align": "left"
          },
          "hovermode": "closest",
          "mapbox": {
           "style": "light"
          },
          "paper_bgcolor": "white",
          "plot_bgcolor": "#E5ECF6",
          "polar": {
           "angularaxis": {
            "gridcolor": "white",
            "linecolor": "white",
            "ticks": ""
           },
           "bgcolor": "#E5ECF6",
           "radialaxis": {
            "gridcolor": "white",
            "linecolor": "white",
            "ticks": ""
           }
          },
          "scene": {
           "xaxis": {
            "backgroundcolor": "#E5ECF6",
            "gridcolor": "white",
            "gridwidth": 2,
            "linecolor": "white",
            "showbackground": true,
            "ticks": "",
            "zerolinecolor": "white"
           },
           "yaxis": {
            "backgroundcolor": "#E5ECF6",
            "gridcolor": "white",
            "gridwidth": 2,
            "linecolor": "white",
            "showbackground": true,
            "ticks": "",
            "zerolinecolor": "white"
           },
           "zaxis": {
            "backgroundcolor": "#E5ECF6",
            "gridcolor": "white",
            "gridwidth": 2,
            "linecolor": "white",
            "showbackground": true,
            "ticks": "",
            "zerolinecolor": "white"
           }
          },
          "shapedefaults": {
           "line": {
            "color": "#2a3f5f"
           }
          },
          "ternary": {
           "aaxis": {
            "gridcolor": "white",
            "linecolor": "white",
            "ticks": ""
           },
           "baxis": {
            "gridcolor": "white",
            "linecolor": "white",
            "ticks": ""
           },
           "bgcolor": "#E5ECF6",
           "caxis": {
            "gridcolor": "white",
            "linecolor": "white",
            "ticks": ""
           }
          },
          "title": {
           "x": 0.05
          },
          "xaxis": {
           "automargin": true,
           "gridcolor": "white",
           "linecolor": "white",
           "ticks": "",
           "title": {
            "standoff": 15
           },
           "zerolinecolor": "white",
           "zerolinewidth": 2
          },
          "yaxis": {
           "automargin": true,
           "gridcolor": "white",
           "linecolor": "white",
           "ticks": "",
           "title": {
            "standoff": 15
           },
           "zerolinecolor": "white",
           "zerolinewidth": 2
          }
         }
        },
        "title": {
         "text": "K-Means Clustering of NBA Player Statistics"
        }
       }
      }
     },
     "metadata": {},
     "output_type": "display_data"
    }
   ],
   "source": [
    "import plotly.graph_objs as go\n",
    "\n",
    "# create the trace for each cluster\n",
    "cluster_traces = []\n",
    "for i in range(5):\n",
    "    cluster_data = X_train_pca[y_train_pred == i]\n",
    "    trace = go.Scatter3d(x=cluster_data.iloc[:, 0], y=cluster_data.iloc[:, 1], z=cluster_data.iloc[:, 2], \n",
    "                         mode='markers', name='Cluster {}'.format(i), showlegend=True)\n",
    "    cluster_traces.append(trace)\n",
    "\n",
    "# create the layout for the plot\n",
    "layout = go.Layout(\n",
    "    title='K-Means Clustering of NBA Player Statistics',\n",
    "    scene=dict(\n",
    "        xaxis=dict(title='Principal Component 1'),\n",
    "        yaxis=dict(title='Principal Component 2'),\n",
    "        zaxis=dict(title='Principal Component 3')\n",
    "    ),\n",
    "    hovermode='closest'\n",
    ")\n",
    "\n",
    "# create the figure object and add the traces and layout\n",
    "fig = go.Figure(data=cluster_traces, layout=layout)\n",
    "\n",
    "# show the plot\n",
    "fig.show()"
   ]
  },
  {
   "attachments": {},
   "cell_type": "markdown",
   "metadata": {},
   "source": [
    "Ref: https://towardsdatascience.com/principal-component-analysis-for-dimensionality-reduction-115a3d157bad"
   ]
  },
  {
   "cell_type": "code",
   "execution_count": null,
   "metadata": {},
   "outputs": [],
   "source": []
  },
  {
   "cell_type": "markdown",
   "metadata": {},
   "source": []
  }
 ],
 "metadata": {
  "kernelspec": {
   "display_name": "Python 3",
   "language": "python",
   "name": "python3"
  },
  "language_info": {
   "codemirror_mode": {
    "name": "ipython",
    "version": 3
   },
   "file_extension": ".py",
   "mimetype": "text/x-python",
   "name": "python",
   "nbconvert_exporter": "python",
   "pygments_lexer": "ipython3",
   "version": "3.10.4"
  },
  "orig_nbformat": 4,
  "vscode": {
   "interpreter": {
    "hash": "aee8b7b246df8f9039afb4144a1f6fd8d2ca17a180786b69acc140d282b71a49"
   }
  }
 },
 "nbformat": 4,
 "nbformat_minor": 2
}
