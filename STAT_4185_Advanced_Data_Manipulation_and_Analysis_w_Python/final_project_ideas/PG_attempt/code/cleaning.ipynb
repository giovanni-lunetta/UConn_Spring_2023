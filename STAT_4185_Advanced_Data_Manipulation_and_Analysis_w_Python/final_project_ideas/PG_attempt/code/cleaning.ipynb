{
 "cells": [
  {
   "cell_type": "code",
   "execution_count": 6,
   "metadata": {},
   "outputs": [],
   "source": [
    "import pandas as pd\n",
    "\n",
    "df = pd.read_csv(\"/Users/giovanni-lunetta/stat_4185/final_project/PG_attempt/data/10_year.csv\")"
   ]
  },
  {
   "cell_type": "code",
   "execution_count": 7,
   "metadata": {},
   "outputs": [],
   "source": [
    "df = df.drop(['Rk', 'Team', '-9999', 'GS', 'From', 'To'], axis=1)"
   ]
  },
  {
   "cell_type": "code",
   "execution_count": 8,
   "metadata": {},
   "outputs": [],
   "source": [
    "df = df[df['MP'] >= 12]\n",
    "df = df[df['G'] >= 21]"
   ]
  },
  {
   "cell_type": "code",
   "execution_count": 9,
   "metadata": {},
   "outputs": [
    {
     "name": "stdout",
     "output_type": "stream",
     "text": [
      "Player    0.000000\n",
      "Age       0.000000\n",
      "G         0.000000\n",
      "MP        0.000000\n",
      "FG        0.000000\n",
      "FGA       0.000000\n",
      "2P        0.000000\n",
      "2PA       0.000000\n",
      "3P        0.000000\n",
      "3PA       0.000000\n",
      "FT        0.000000\n",
      "FTA       0.000000\n",
      "ORB       0.000000\n",
      "DRB       0.000000\n",
      "TRB       0.000000\n",
      "AST       0.000000\n",
      "STL       0.000000\n",
      "BLK       0.000000\n",
      "TOV       0.000000\n",
      "PF        0.000000\n",
      "PTS       0.000000\n",
      "FG%       0.000000\n",
      "2P%       0.000000\n",
      "3P%       1.861993\n",
      "FT%       0.000000\n",
      "TS%       0.000000\n",
      "eFG%      0.000000\n",
      "Pos       0.000000\n",
      "dtype: float64\n"
     ]
    }
   ],
   "source": [
    "print((df.isnull().sum() * 100)/ len(df))"
   ]
  },
  {
   "cell_type": "code",
   "execution_count": 10,
   "metadata": {},
   "outputs": [],
   "source": [
    "df['3P%'] = df['3P%'].fillna(0)"
   ]
  },
  {
   "cell_type": "code",
   "execution_count": 11,
   "metadata": {},
   "outputs": [],
   "source": [
    "df = df.to_csv(\"/Users/giovanni-lunetta/stat_4185/final_project/PG_attempt/data/cleaned.csv\", index=False)"
   ]
  }
 ],
 "metadata": {
  "kernelspec": {
   "display_name": "Python 3",
   "language": "python",
   "name": "python3"
  },
  "language_info": {
   "codemirror_mode": {
    "name": "ipython",
    "version": 3
   },
   "file_extension": ".py",
   "mimetype": "text/x-python",
   "name": "python",
   "nbconvert_exporter": "python",
   "pygments_lexer": "ipython3",
   "version": "3.10.4"
  },
  "orig_nbformat": 4
 },
 "nbformat": 4,
 "nbformat_minor": 2
}
