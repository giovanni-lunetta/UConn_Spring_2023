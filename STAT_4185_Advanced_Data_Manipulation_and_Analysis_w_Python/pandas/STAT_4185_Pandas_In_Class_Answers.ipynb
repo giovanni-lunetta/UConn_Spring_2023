{
  "cells": [
    {
      "cell_type": "markdown",
      "metadata": {
        "id": "vfMlEtLUFGYj"
      },
      "source": [
        "# `Pandas`\n",
        "\n",
        "![image.png](data:image/png;base64,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)\n",
        "\n",
        "\n",
        "The `pandas` library is practically use for any data manipulation task in python. As a result, learning `pandas` is a great skill to have as data scientists. \n",
        "\n",
        "During this class time we will be using the `colleges_dataset_not_cleaned.csv` datset we made last class after web scraping money.com \n",
        "\n",
        "Before we do anything lets first explore the datasets first (visually)"
      ]
    },
    {
      "cell_type": "markdown",
      "metadata": {
        "id": "ebuJ1B1gNCA0"
      },
      "source": [
        "Lets first start off by importing the `pandas` and `numpy` libraries"
      ]
    },
    {
      "cell_type": "code",
      "execution_count": 3,
      "metadata": {
        "id": "X81PeRmbLRUh"
      },
      "outputs": [],
      "source": [
        "import pandas as pd\n",
        "pd.options.display.max_columns = 30\n",
        "import numpy as np"
      ]
    },
    {
      "cell_type": "markdown",
      "metadata": {
        "id": "25lnqwTXFGYq"
      },
      "source": [
        "Before we can even do anything to this dataset we need to load it. Load in the dataset using `pandas` below."
      ]
    },
    {
      "cell_type": "code",
      "execution_count": 4,
      "metadata": {
        "id": "PUzeTyL40jnK"
      },
      "outputs": [],
      "source": [
        "college_df = pd.read_csv(r'/content/colleges_dataset_not_cleaned.csv')"
      ]
    },
    {
      "cell_type": "markdown",
      "metadata": {
        "id": "cugjn0K7FGYr"
      },
      "source": [
        "## Exploring the Data\n",
        "\n",
        "Awesome, now lets explore the datset with `pandas`"
      ]
    },
    {
      "cell_type": "code",
      "execution_count": 6,
      "metadata": {
        "colab": {
          "base_uri": "https://localhost:8080/",
          "height": 409
        },
        "id": "fDws5BrX0py1",
        "outputId": "146051ab-9611-4d55-8cd6-6326afd24aeb"
      },
      "outputs": [
        {
          "data": {
            "text/html": [
              "\n",
              "  <div id=\"df-77b7e675-2989-4c30-a36b-3a9d2f72123f\">\n",
              "    <div class=\"colab-df-container\">\n",
              "      <div>\n",
              "<style scoped>\n",
              "    .dataframe tbody tr th:only-of-type {\n",
              "        vertical-align: middle;\n",
              "    }\n",
              "\n",
              "    .dataframe tbody tr th {\n",
              "        vertical-align: top;\n",
              "    }\n",
              "\n",
              "    .dataframe thead th {\n",
              "        text-align: right;\n",
              "    }\n",
              "</style>\n",
              "<table border=\"1\" class=\"dataframe\">\n",
              "  <thead>\n",
              "    <tr style=\"text-align: right;\">\n",
              "      <th></th>\n",
              "      <th>Unnamed: 0</th>\n",
              "      <th>college_names</th>\n",
              "      <th>college_location</th>\n",
              "      <th>overall_score</th>\n",
              "      <th>acceptance_rate</th>\n",
              "      <th>Est_full_price_22_23</th>\n",
              "      <th>Est_price_with_avg_grant</th>\n",
              "      <th>percent_of_student_who_get_grants</th>\n",
              "      <th>graduation_rate</th>\n",
              "      <th>early_career_earnings</th>\n",
              "      <th>avg_price_for_low_income_students</th>\n",
              "      <th>median_sat_act_score</th>\n",
              "      <th>sat_act_required</th>\n",
              "      <th>undergrad_enrollment</th>\n",
              "      <th>percent_of_students_with_need_who_get_grants</th>\n",
              "      <th>percent_of_need_met</th>\n",
              "      <th>percent_of_students_who_get_merit_grants</th>\n",
              "      <th>avg_merit_grant</th>\n",
              "      <th>avg_time_to_a_degree</th>\n",
              "      <th>median_student_debt</th>\n",
              "      <th>percent_earning_more_than_a_high_school_grad</th>\n",
              "    </tr>\n",
              "  </thead>\n",
              "  <tbody>\n",
              "    <tr>\n",
              "      <th>0</th>\n",
              "      <td>0</td>\n",
              "      <td>University of Michigan</td>\n",
              "      <td>Ann Arbor, MI</td>\n",
              "      <td>89.41</td>\n",
              "      <td>\\n                  23%\\n</td>\n",
              "      <td>\\n                  $32,400\\n</td>\n",
              "      <td>\\n                  $18,800\\n</td>\n",
              "      <td>\\n                  53%\\n</td>\n",
              "      <td>\\n                  92%\\n</td>\n",
              "      <td>\\n                  $75,840\\n</td>\n",
              "      <td>$2,670</td>\n",
              "      <td>1440/33</td>\n",
              "      <td>No</td>\n",
              "      <td>31,050</td>\n",
              "      <td>81%</td>\n",
              "      <td>92%</td>\n",
              "      <td>11%</td>\n",
              "      <td>$5,670</td>\n",
              "      <td>4.2 years</td>\n",
              "      <td>$18,526</td>\n",
              "      <td>81%</td>\n",
              "    </tr>\n",
              "    <tr>\n",
              "      <th>1</th>\n",
              "      <td>1</td>\n",
              "      <td>University of North Carolina at Chapel Hill</td>\n",
              "      <td>Chapel Hill, NC</td>\n",
              "      <td>86.22</td>\n",
              "      <td>\\n                  23%\\n</td>\n",
              "      <td>\\n                  $25,200\\n</td>\n",
              "      <td>\\n                  $10,600\\n</td>\n",
              "      <td>\\n                  53%\\n</td>\n",
              "      <td>\\n                  89%\\n</td>\n",
              "      <td>\\n                  $61,920\\n</td>\n",
              "      <td>$3,750</td>\n",
              "      <td>1410/31</td>\n",
              "      <td>No</td>\n",
              "      <td>19,010</td>\n",
              "      <td>90%</td>\n",
              "      <td>100%</td>\n",
              "      <td>5%</td>\n",
              "      <td>$7,030</td>\n",
              "      <td>4.1 years</td>\n",
              "      <td>$14,500</td>\n",
              "      <td>78%</td>\n",
              "    </tr>\n",
              "    <tr>\n",
              "      <th>2</th>\n",
              "      <td>2</td>\n",
              "      <td>University of Virginia</td>\n",
              "      <td>Charlottesville, VA</td>\n",
              "      <td>86.11</td>\n",
              "      <td>\\n                  24%\\n</td>\n",
              "      <td>\\n                  $36,700\\n</td>\n",
              "      <td>\\n                  $20,100\\n</td>\n",
              "      <td>\\n                  48%\\n</td>\n",
              "      <td>\\n                  94%\\n</td>\n",
              "      <td>\\n                  $77,050\\n</td>\n",
              "      <td>$12,480</td>\n",
              "      <td>1430/32</td>\n",
              "      <td>No</td>\n",
              "      <td>16,720</td>\n",
              "      <td>91%</td>\n",
              "      <td>100%</td>\n",
              "      <td>4%</td>\n",
              "      <td>$5,630</td>\n",
              "      <td>4.1 years</td>\n",
              "      <td>$18,250</td>\n",
              "      <td>84%</td>\n",
              "    </tr>\n",
              "    <tr>\n",
              "      <th>3</th>\n",
              "      <td>3</td>\n",
              "      <td>Massachusetts Maritime Academy</td>\n",
              "      <td>Buzzards Bay, MA</td>\n",
              "      <td>86.07</td>\n",
              "      <td>\\n                  91%\\n</td>\n",
              "      <td>\\n                  $31,600\\n</td>\n",
              "      <td>\\n                  $18,600\\n</td>\n",
              "      <td>\\n                  43%\\n</td>\n",
              "      <td>\\n                  73%\\n</td>\n",
              "      <td>\\n                  $91,670\\n</td>\n",
              "      <td>$6,380</td>\n",
              "      <td>1100/22</td>\n",
              "      <td>No</td>\n",
              "      <td>1,650</td>\n",
              "      <td>56%</td>\n",
              "      <td>71%</td>\n",
              "      <td>11%</td>\n",
              "      <td>$5,530</td>\n",
              "      <td>4.2 years</td>\n",
              "      <td>$26,000</td>\n",
              "      <td>91%</td>\n",
              "    </tr>\n",
              "    <tr>\n",
              "      <th>4</th>\n",
              "      <td>4</td>\n",
              "      <td>Virginia Military Institute</td>\n",
              "      <td>Lexington, VA</td>\n",
              "      <td>85.14</td>\n",
              "      <td>\\n                  60%\\n</td>\n",
              "      <td>\\n                  $33,300\\n</td>\n",
              "      <td>\\n                  $20,000\\n</td>\n",
              "      <td>\\n                  85%\\n</td>\n",
              "      <td>\\n                  78%\\n</td>\n",
              "      <td>\\n                  $71,910\\n</td>\n",
              "      <td>$10,560</td>\n",
              "      <td>1180/25</td>\n",
              "      <td>No</td>\n",
              "      <td>1,700</td>\n",
              "      <td>77%</td>\n",
              "      <td>88%</td>\n",
              "      <td>14%</td>\n",
              "      <td>$13,100</td>\n",
              "      <td>4.1 years</td>\n",
              "      <td>$21,500</td>\n",
              "      <td>85%</td>\n",
              "    </tr>\n",
              "  </tbody>\n",
              "</table>\n",
              "</div>\n",
              "      <button class=\"colab-df-convert\" onclick=\"convertToInteractive('df-77b7e675-2989-4c30-a36b-3a9d2f72123f')\"\n",
              "              title=\"Convert this dataframe to an interactive table.\"\n",
              "              style=\"display:none;\">\n",
              "        \n",
              "  <svg xmlns=\"http://www.w3.org/2000/svg\" height=\"24px\"viewBox=\"0 0 24 24\"\n",
              "       width=\"24px\">\n",
              "    <path d=\"M0 0h24v24H0V0z\" fill=\"none\"/>\n",
              "    <path d=\"M18.56 5.44l.94 2.06.94-2.06 2.06-.94-2.06-.94-.94-2.06-.94 2.06-2.06.94zm-11 1L8.5 8.5l.94-2.06 2.06-.94-2.06-.94L8.5 2.5l-.94 2.06-2.06.94zm10 10l.94 2.06.94-2.06 2.06-.94-2.06-.94-.94-2.06-.94 2.06-2.06.94z\"/><path d=\"M17.41 7.96l-1.37-1.37c-.4-.4-.92-.59-1.43-.59-.52 0-1.04.2-1.43.59L10.3 9.45l-7.72 7.72c-.78.78-.78 2.05 0 2.83L4 21.41c.39.39.9.59 1.41.59.51 0 1.02-.2 1.41-.59l7.78-7.78 2.81-2.81c.8-.78.8-2.07 0-2.86zM5.41 20L4 18.59l7.72-7.72 1.47 1.35L5.41 20z\"/>\n",
              "  </svg>\n",
              "      </button>\n",
              "      \n",
              "  <style>\n",
              "    .colab-df-container {\n",
              "      display:flex;\n",
              "      flex-wrap:wrap;\n",
              "      gap: 12px;\n",
              "    }\n",
              "\n",
              "    .colab-df-convert {\n",
              "      background-color: #E8F0FE;\n",
              "      border: none;\n",
              "      border-radius: 50%;\n",
              "      cursor: pointer;\n",
              "      display: none;\n",
              "      fill: #1967D2;\n",
              "      height: 32px;\n",
              "      padding: 0 0 0 0;\n",
              "      width: 32px;\n",
              "    }\n",
              "\n",
              "    .colab-df-convert:hover {\n",
              "      background-color: #E2EBFA;\n",
              "      box-shadow: 0px 1px 2px rgba(60, 64, 67, 0.3), 0px 1px 3px 1px rgba(60, 64, 67, 0.15);\n",
              "      fill: #174EA6;\n",
              "    }\n",
              "\n",
              "    [theme=dark] .colab-df-convert {\n",
              "      background-color: #3B4455;\n",
              "      fill: #D2E3FC;\n",
              "    }\n",
              "\n",
              "    [theme=dark] .colab-df-convert:hover {\n",
              "      background-color: #434B5C;\n",
              "      box-shadow: 0px 1px 3px 1px rgba(0, 0, 0, 0.15);\n",
              "      filter: drop-shadow(0px 1px 2px rgba(0, 0, 0, 0.3));\n",
              "      fill: #FFFFFF;\n",
              "    }\n",
              "  </style>\n",
              "\n",
              "      <script>\n",
              "        const buttonEl =\n",
              "          document.querySelector('#df-77b7e675-2989-4c30-a36b-3a9d2f72123f button.colab-df-convert');\n",
              "        buttonEl.style.display =\n",
              "          google.colab.kernel.accessAllowed ? 'block' : 'none';\n",
              "\n",
              "        async function convertToInteractive(key) {\n",
              "          const element = document.querySelector('#df-77b7e675-2989-4c30-a36b-3a9d2f72123f');\n",
              "          const dataTable =\n",
              "            await google.colab.kernel.invokeFunction('convertToInteractive',\n",
              "                                                     [key], {});\n",
              "          if (!dataTable) return;\n",
              "\n",
              "          const docLinkHtml = 'Like what you see? Visit the ' +\n",
              "            '<a target=\"_blank\" href=https://colab.research.google.com/notebooks/data_table.ipynb>data table notebook</a>'\n",
              "            + ' to learn more about interactive tables.';\n",
              "          element.innerHTML = '';\n",
              "          dataTable['output_type'] = 'display_data';\n",
              "          await google.colab.output.renderOutput(dataTable, element);\n",
              "          const docLink = document.createElement('div');\n",
              "          docLink.innerHTML = docLinkHtml;\n",
              "          element.appendChild(docLink);\n",
              "        }\n",
              "      </script>\n",
              "    </div>\n",
              "  </div>\n",
              "  "
            ],
            "text/plain": [
              "   Unnamed: 0                                college_names  \\\n",
              "0           0                       University of Michigan   \n",
              "1           1  University of North Carolina at Chapel Hill   \n",
              "2           2                       University of Virginia   \n",
              "3           3               Massachusetts Maritime Academy   \n",
              "4           4                  Virginia Military Institute   \n",
              "\n",
              "      college_location  overall_score  \\\n",
              "0        Ann Arbor, MI          89.41   \n",
              "1      Chapel Hill, NC          86.22   \n",
              "2  Charlottesville, VA          86.11   \n",
              "3     Buzzards Bay, MA          86.07   \n",
              "4        Lexington, VA          85.14   \n",
              "\n",
              "                           acceptance_rate  \\\n",
              "0  \\n                  23%\\n                 \n",
              "1  \\n                  23%\\n                 \n",
              "2  \\n                  24%\\n                 \n",
              "3  \\n                  91%\\n                 \n",
              "4  \\n                  60%\\n                 \n",
              "\n",
              "                          Est_full_price_22_23  \\\n",
              "0  \\n                  $32,400\\n                 \n",
              "1  \\n                  $25,200\\n                 \n",
              "2  \\n                  $36,700\\n                 \n",
              "3  \\n                  $31,600\\n                 \n",
              "4  \\n                  $33,300\\n                 \n",
              "\n",
              "                      Est_price_with_avg_grant  \\\n",
              "0  \\n                  $18,800\\n                 \n",
              "1  \\n                  $10,600\\n                 \n",
              "2  \\n                  $20,100\\n                 \n",
              "3  \\n                  $18,600\\n                 \n",
              "4  \\n                  $20,000\\n                 \n",
              "\n",
              "         percent_of_student_who_get_grants  \\\n",
              "0  \\n                  53%\\n                 \n",
              "1  \\n                  53%\\n                 \n",
              "2  \\n                  48%\\n                 \n",
              "3  \\n                  43%\\n                 \n",
              "4  \\n                  85%\\n                 \n",
              "\n",
              "                           graduation_rate  \\\n",
              "0  \\n                  92%\\n                 \n",
              "1  \\n                  89%\\n                 \n",
              "2  \\n                  94%\\n                 \n",
              "3  \\n                  73%\\n                 \n",
              "4  \\n                  78%\\n                 \n",
              "\n",
              "                         early_career_earnings  \\\n",
              "0  \\n                  $75,840\\n                 \n",
              "1  \\n                  $61,920\\n                 \n",
              "2  \\n                  $77,050\\n                 \n",
              "3  \\n                  $91,670\\n                 \n",
              "4  \\n                  $71,910\\n                 \n",
              "\n",
              "  avg_price_for_low_income_students median_sat_act_score sat_act_required  \\\n",
              "0                            $2,670              1440/33               No   \n",
              "1                            $3,750              1410/31               No   \n",
              "2                           $12,480              1430/32               No   \n",
              "3                            $6,380              1100/22               No   \n",
              "4                           $10,560              1180/25               No   \n",
              "\n",
              "  undergrad_enrollment percent_of_students_with_need_who_get_grants  \\\n",
              "0               31,050                                          81%   \n",
              "1               19,010                                          90%   \n",
              "2               16,720                                          91%   \n",
              "3                1,650                                          56%   \n",
              "4                1,700                                          77%   \n",
              "\n",
              "  percent_of_need_met percent_of_students_who_get_merit_grants  \\\n",
              "0                 92%                                      11%   \n",
              "1                100%                                       5%   \n",
              "2                100%                                       4%   \n",
              "3                 71%                                      11%   \n",
              "4                 88%                                      14%   \n",
              "\n",
              "  avg_merit_grant avg_time_to_a_degree median_student_debt  \\\n",
              "0          $5,670            4.2 years             $18,526   \n",
              "1          $7,030            4.1 years             $14,500   \n",
              "2          $5,630            4.1 years             $18,250   \n",
              "3          $5,530            4.2 years             $26,000   \n",
              "4         $13,100            4.1 years             $21,500   \n",
              "\n",
              "  percent_earning_more_than_a_high_school_grad  \n",
              "0                                          81%  \n",
              "1                                          78%  \n",
              "2                                          84%  \n",
              "3                                          91%  \n",
              "4                                          85%  "
            ]
          },
          "execution_count": 6,
          "metadata": {},
          "output_type": "execute_result"
        }
      ],
      "source": [
        "college_df.head()"
      ]
    },
    {
      "cell_type": "code",
      "execution_count": 7,
      "metadata": {
        "colab": {
          "base_uri": "https://localhost:8080/"
        },
        "id": "ibko-bmK5aOY",
        "outputId": "4d40927f-4249-4fbd-a708-f27907299abf"
      },
      "outputs": [
        {
          "data": {
            "text/plain": [
              "(623, 21)"
            ]
          },
          "execution_count": 7,
          "metadata": {},
          "output_type": "execute_result"
        }
      ],
      "source": [
        "college_df.shape"
      ]
    },
    {
      "cell_type": "code",
      "execution_count": 8,
      "metadata": {
        "colab": {
          "base_uri": "https://localhost:8080/"
        },
        "id": "ju0S2LIvFGYs",
        "outputId": "af3bfc65-e713-4c6b-c1d7-1c7c3a001dfc"
      },
      "outputs": [
        {
          "data": {
            "text/plain": [
              "Unnamed: 0                                        int64\n",
              "college_names                                    object\n",
              "college_location                                 object\n",
              "overall_score                                   float64\n",
              "acceptance_rate                                  object\n",
              "Est_full_price_22_23                             object\n",
              "Est_price_with_avg_grant                         object\n",
              "percent_of_student_who_get_grants                object\n",
              "graduation_rate                                  object\n",
              "early_career_earnings                            object\n",
              "avg_price_for_low_income_students                object\n",
              "median_sat_act_score                             object\n",
              "sat_act_required                                 object\n",
              "undergrad_enrollment                             object\n",
              "percent_of_students_with_need_who_get_grants     object\n",
              "percent_of_need_met                              object\n",
              "percent_of_students_who_get_merit_grants         object\n",
              "avg_merit_grant                                  object\n",
              "avg_time_to_a_degree                             object\n",
              "median_student_debt                              object\n",
              "percent_earning_more_than_a_high_school_grad     object\n",
              "dtype: object"
            ]
          },
          "execution_count": 8,
          "metadata": {},
          "output_type": "execute_result"
        }
      ],
      "source": [
        "college_df.dtypes"
      ]
    },
    {
      "cell_type": "markdown",
      "metadata": {
        "id": "412uNbZdY3Ha"
      },
      "source": [
        "Notice that we can't really do much with this data because it is very messy."
      ]
    },
    {
      "cell_type": "markdown",
      "metadata": {
        "id": "a5ZmsdQlFGYt"
      },
      "source": [
        "## Cleaning the Data"
      ]
    },
    {
      "cell_type": "markdown",
      "metadata": {
        "id": "yfb0KR3EFGYt"
      },
      "source": [
        "First lets delete the column `Unnamed: 0`, this is bascially the index, but we don't need this since `pandas` does this for us"
      ]
    },
    {
      "cell_type": "code",
      "execution_count": 9,
      "metadata": {
        "id": "vHn8NyBzFGYt"
      },
      "outputs": [],
      "source": [
        "college_df.drop(['Unnamed: 0'], axis=1, inplace=True)"
      ]
    },
    {
      "cell_type": "markdown",
      "metadata": {
        "id": "58MunM9ZZrHu"
      },
      "source": [
        "### Expanding Columns"
      ]
    },
    {
      "cell_type": "markdown",
      "metadata": {
        "id": "NsUOI_DdFGYw"
      },
      "source": [
        "Now lets expand some of these columns. Create the following columns - \n",
        "\n",
        "1) `Town` and `State` that are the town and state of their respectize college\n",
        "\n",
        "2) `median_sat` and `median_act` that are the sat and act of the respective college\n",
        "\n",
        "Hint: https://pandas.pydata.org/pandas-docs/stable/reference/api/pandas.Series.str.split.html"
      ]
    },
    {
      "cell_type": "code",
      "execution_count": 10,
      "metadata": {
        "id": "_bQfxav66U-f"
      },
      "outputs": [],
      "source": [
        "college_df[[\"Town\", \"State\"]] = college_df['college_location'].str.split(',', expand=True)\n",
        "college_df[[\"median_sat\", \"median_act\"]] = college_df['median_sat_act_score'].str.split('/', expand=True)\n",
        "# college_df[[\"avg_time_to_a_degree\", \"del_years\"]] = college_df['avg_time_to_a_degree'].str.split(' ', expand=True)"
      ]
    },
    {
      "cell_type": "code",
      "execution_count": 11,
      "metadata": {
        "id": "nI8t3VBZ7tcE"
      },
      "outputs": [],
      "source": [
        "# college_df.head()"
      ]
    },
    {
      "cell_type": "markdown",
      "metadata": {
        "id": "TptpNodiFGYx"
      },
      "source": [
        "Notice how the original columns are still there, drop these columns inplace"
      ]
    },
    {
      "cell_type": "code",
      "execution_count": 12,
      "metadata": {
        "id": "2lQleCGc7vEI"
      },
      "outputs": [],
      "source": [
        "college_df.drop([\"college_location\", \"median_sat_act_score\"], axis=1, inplace=True)"
      ]
    },
    {
      "cell_type": "code",
      "execution_count": 13,
      "metadata": {
        "id": "cuiptwhZ781C"
      },
      "outputs": [],
      "source": [
        "# college_df.head()"
      ]
    },
    {
      "cell_type": "markdown",
      "metadata": {
        "id": "4dHkiUt3ak3q"
      },
      "source": [
        "Try doing something similar with the `avg_time_to_a_degree` columns. How can we get rid of the string 'years'."
      ]
    },
    {
      "cell_type": "code",
      "execution_count": 14,
      "metadata": {
        "id": "9v46rG5TFGY2"
      },
      "outputs": [],
      "source": [
        "college_df[[\"avg_time_to_a_degree\", \"del_years\"]] = college_df['avg_time_to_a_degree'].str.split(' ', expand=True)"
      ]
    },
    {
      "cell_type": "code",
      "execution_count": 15,
      "metadata": {
        "id": "FK-yHlo1FGY2"
      },
      "outputs": [],
      "source": [
        "college_df.drop(['del_years'], axis = 1, inplace=True)"
      ]
    },
    {
      "cell_type": "markdown",
      "metadata": {
        "id": "zw5xem3naHlD"
      },
      "source": [
        "### Dealing With Whitespace"
      ]
    },
    {
      "cell_type": "markdown",
      "metadata": {
        "id": "pzsKWhe0FGYx"
      },
      "source": [
        "Print out the 3rd element of the first row, what do you notice?"
      ]
    },
    {
      "cell_type": "code",
      "execution_count": 16,
      "metadata": {
        "colab": {
          "base_uri": "https://localhost:8080/",
          "height": 35
        },
        "id": "CaOXKXAJ5_xG",
        "outputId": "44b9fe90-966b-40a5-8f9c-92afa788ac63"
      },
      "outputs": [
        {
          "data": {
            "application/vnd.google.colaboratory.intrinsic+json": {
              "type": "string"
            },
            "text/plain": [
              "'\\n                  $32,400\\n              '"
            ]
          },
          "execution_count": 16,
          "metadata": {},
          "output_type": "execute_result"
        }
      ],
      "source": [
        "college_df.iloc[0, 3]"
      ]
    },
    {
      "cell_type": "code",
      "execution_count": 17,
      "metadata": {
        "colab": {
          "base_uri": "https://localhost:8080/",
          "height": 392
        },
        "id": "_1mAQ0hjFGYx",
        "outputId": "f7e9202e-dab1-4e13-a16c-e4efa262bc2c"
      },
      "outputs": [
        {
          "data": {
            "text/html": [
              "\n",
              "  <div id=\"df-ca338add-a01f-4065-b6a3-d47d4472c9ec\">\n",
              "    <div class=\"colab-df-container\">\n",
              "      <div>\n",
              "<style scoped>\n",
              "    .dataframe tbody tr th:only-of-type {\n",
              "        vertical-align: middle;\n",
              "    }\n",
              "\n",
              "    .dataframe tbody tr th {\n",
              "        vertical-align: top;\n",
              "    }\n",
              "\n",
              "    .dataframe thead th {\n",
              "        text-align: right;\n",
              "    }\n",
              "</style>\n",
              "<table border=\"1\" class=\"dataframe\">\n",
              "  <thead>\n",
              "    <tr style=\"text-align: right;\">\n",
              "      <th></th>\n",
              "      <th>college_names</th>\n",
              "      <th>overall_score</th>\n",
              "      <th>acceptance_rate</th>\n",
              "      <th>Est_full_price_22_23</th>\n",
              "      <th>Est_price_with_avg_grant</th>\n",
              "      <th>percent_of_student_who_get_grants</th>\n",
              "      <th>graduation_rate</th>\n",
              "      <th>early_career_earnings</th>\n",
              "      <th>avg_price_for_low_income_students</th>\n",
              "      <th>sat_act_required</th>\n",
              "      <th>undergrad_enrollment</th>\n",
              "      <th>percent_of_students_with_need_who_get_grants</th>\n",
              "      <th>percent_of_need_met</th>\n",
              "      <th>percent_of_students_who_get_merit_grants</th>\n",
              "      <th>avg_merit_grant</th>\n",
              "      <th>avg_time_to_a_degree</th>\n",
              "      <th>median_student_debt</th>\n",
              "      <th>percent_earning_more_than_a_high_school_grad</th>\n",
              "      <th>Town</th>\n",
              "      <th>State</th>\n",
              "      <th>median_sat</th>\n",
              "      <th>median_act</th>\n",
              "    </tr>\n",
              "  </thead>\n",
              "  <tbody>\n",
              "    <tr>\n",
              "      <th>0</th>\n",
              "      <td>University of Michigan</td>\n",
              "      <td>89.41</td>\n",
              "      <td>\\n                  23%\\n</td>\n",
              "      <td>\\n                  $32,400\\n</td>\n",
              "      <td>\\n                  $18,800\\n</td>\n",
              "      <td>\\n                  53%\\n</td>\n",
              "      <td>\\n                  92%\\n</td>\n",
              "      <td>\\n                  $75,840\\n</td>\n",
              "      <td>$2,670</td>\n",
              "      <td>No</td>\n",
              "      <td>31,050</td>\n",
              "      <td>81%</td>\n",
              "      <td>92%</td>\n",
              "      <td>11%</td>\n",
              "      <td>$5,670</td>\n",
              "      <td>4.2</td>\n",
              "      <td>$18,526</td>\n",
              "      <td>81%</td>\n",
              "      <td>Ann Arbor</td>\n",
              "      <td>MI</td>\n",
              "      <td>1440</td>\n",
              "      <td>33</td>\n",
              "    </tr>\n",
              "    <tr>\n",
              "      <th>1</th>\n",
              "      <td>University of North Carolina at Chapel Hill</td>\n",
              "      <td>86.22</td>\n",
              "      <td>\\n                  23%\\n</td>\n",
              "      <td>\\n                  $25,200\\n</td>\n",
              "      <td>\\n                  $10,600\\n</td>\n",
              "      <td>\\n                  53%\\n</td>\n",
              "      <td>\\n                  89%\\n</td>\n",
              "      <td>\\n                  $61,920\\n</td>\n",
              "      <td>$3,750</td>\n",
              "      <td>No</td>\n",
              "      <td>19,010</td>\n",
              "      <td>90%</td>\n",
              "      <td>100%</td>\n",
              "      <td>5%</td>\n",
              "      <td>$7,030</td>\n",
              "      <td>4.1</td>\n",
              "      <td>$14,500</td>\n",
              "      <td>78%</td>\n",
              "      <td>Chapel Hill</td>\n",
              "      <td>NC</td>\n",
              "      <td>1410</td>\n",
              "      <td>31</td>\n",
              "    </tr>\n",
              "    <tr>\n",
              "      <th>2</th>\n",
              "      <td>University of Virginia</td>\n",
              "      <td>86.11</td>\n",
              "      <td>\\n                  24%\\n</td>\n",
              "      <td>\\n                  $36,700\\n</td>\n",
              "      <td>\\n                  $20,100\\n</td>\n",
              "      <td>\\n                  48%\\n</td>\n",
              "      <td>\\n                  94%\\n</td>\n",
              "      <td>\\n                  $77,050\\n</td>\n",
              "      <td>$12,480</td>\n",
              "      <td>No</td>\n",
              "      <td>16,720</td>\n",
              "      <td>91%</td>\n",
              "      <td>100%</td>\n",
              "      <td>4%</td>\n",
              "      <td>$5,630</td>\n",
              "      <td>4.1</td>\n",
              "      <td>$18,250</td>\n",
              "      <td>84%</td>\n",
              "      <td>Charlottesville</td>\n",
              "      <td>VA</td>\n",
              "      <td>1430</td>\n",
              "      <td>32</td>\n",
              "    </tr>\n",
              "    <tr>\n",
              "      <th>3</th>\n",
              "      <td>Massachusetts Maritime Academy</td>\n",
              "      <td>86.07</td>\n",
              "      <td>\\n                  91%\\n</td>\n",
              "      <td>\\n                  $31,600\\n</td>\n",
              "      <td>\\n                  $18,600\\n</td>\n",
              "      <td>\\n                  43%\\n</td>\n",
              "      <td>\\n                  73%\\n</td>\n",
              "      <td>\\n                  $91,670\\n</td>\n",
              "      <td>$6,380</td>\n",
              "      <td>No</td>\n",
              "      <td>1,650</td>\n",
              "      <td>56%</td>\n",
              "      <td>71%</td>\n",
              "      <td>11%</td>\n",
              "      <td>$5,530</td>\n",
              "      <td>4.2</td>\n",
              "      <td>$26,000</td>\n",
              "      <td>91%</td>\n",
              "      <td>Buzzards Bay</td>\n",
              "      <td>MA</td>\n",
              "      <td>1100</td>\n",
              "      <td>22</td>\n",
              "    </tr>\n",
              "    <tr>\n",
              "      <th>4</th>\n",
              "      <td>Virginia Military Institute</td>\n",
              "      <td>85.14</td>\n",
              "      <td>\\n                  60%\\n</td>\n",
              "      <td>\\n                  $33,300\\n</td>\n",
              "      <td>\\n                  $20,000\\n</td>\n",
              "      <td>\\n                  85%\\n</td>\n",
              "      <td>\\n                  78%\\n</td>\n",
              "      <td>\\n                  $71,910\\n</td>\n",
              "      <td>$10,560</td>\n",
              "      <td>No</td>\n",
              "      <td>1,700</td>\n",
              "      <td>77%</td>\n",
              "      <td>88%</td>\n",
              "      <td>14%</td>\n",
              "      <td>$13,100</td>\n",
              "      <td>4.1</td>\n",
              "      <td>$21,500</td>\n",
              "      <td>85%</td>\n",
              "      <td>Lexington</td>\n",
              "      <td>VA</td>\n",
              "      <td>1180</td>\n",
              "      <td>25</td>\n",
              "    </tr>\n",
              "  </tbody>\n",
              "</table>\n",
              "</div>\n",
              "      <button class=\"colab-df-convert\" onclick=\"convertToInteractive('df-ca338add-a01f-4065-b6a3-d47d4472c9ec')\"\n",
              "              title=\"Convert this dataframe to an interactive table.\"\n",
              "              style=\"display:none;\">\n",
              "        \n",
              "  <svg xmlns=\"http://www.w3.org/2000/svg\" height=\"24px\"viewBox=\"0 0 24 24\"\n",
              "       width=\"24px\">\n",
              "    <path d=\"M0 0h24v24H0V0z\" fill=\"none\"/>\n",
              "    <path d=\"M18.56 5.44l.94 2.06.94-2.06 2.06-.94-2.06-.94-.94-2.06-.94 2.06-2.06.94zm-11 1L8.5 8.5l.94-2.06 2.06-.94-2.06-.94L8.5 2.5l-.94 2.06-2.06.94zm10 10l.94 2.06.94-2.06 2.06-.94-2.06-.94-.94-2.06-.94 2.06-2.06.94z\"/><path d=\"M17.41 7.96l-1.37-1.37c-.4-.4-.92-.59-1.43-.59-.52 0-1.04.2-1.43.59L10.3 9.45l-7.72 7.72c-.78.78-.78 2.05 0 2.83L4 21.41c.39.39.9.59 1.41.59.51 0 1.02-.2 1.41-.59l7.78-7.78 2.81-2.81c.8-.78.8-2.07 0-2.86zM5.41 20L4 18.59l7.72-7.72 1.47 1.35L5.41 20z\"/>\n",
              "  </svg>\n",
              "      </button>\n",
              "      \n",
              "  <style>\n",
              "    .colab-df-container {\n",
              "      display:flex;\n",
              "      flex-wrap:wrap;\n",
              "      gap: 12px;\n",
              "    }\n",
              "\n",
              "    .colab-df-convert {\n",
              "      background-color: #E8F0FE;\n",
              "      border: none;\n",
              "      border-radius: 50%;\n",
              "      cursor: pointer;\n",
              "      display: none;\n",
              "      fill: #1967D2;\n",
              "      height: 32px;\n",
              "      padding: 0 0 0 0;\n",
              "      width: 32px;\n",
              "    }\n",
              "\n",
              "    .colab-df-convert:hover {\n",
              "      background-color: #E2EBFA;\n",
              "      box-shadow: 0px 1px 2px rgba(60, 64, 67, 0.3), 0px 1px 3px 1px rgba(60, 64, 67, 0.15);\n",
              "      fill: #174EA6;\n",
              "    }\n",
              "\n",
              "    [theme=dark] .colab-df-convert {\n",
              "      background-color: #3B4455;\n",
              "      fill: #D2E3FC;\n",
              "    }\n",
              "\n",
              "    [theme=dark] .colab-df-convert:hover {\n",
              "      background-color: #434B5C;\n",
              "      box-shadow: 0px 1px 3px 1px rgba(0, 0, 0, 0.15);\n",
              "      filter: drop-shadow(0px 1px 2px rgba(0, 0, 0, 0.3));\n",
              "      fill: #FFFFFF;\n",
              "    }\n",
              "  </style>\n",
              "\n",
              "      <script>\n",
              "        const buttonEl =\n",
              "          document.querySelector('#df-ca338add-a01f-4065-b6a3-d47d4472c9ec button.colab-df-convert');\n",
              "        buttonEl.style.display =\n",
              "          google.colab.kernel.accessAllowed ? 'block' : 'none';\n",
              "\n",
              "        async function convertToInteractive(key) {\n",
              "          const element = document.querySelector('#df-ca338add-a01f-4065-b6a3-d47d4472c9ec');\n",
              "          const dataTable =\n",
              "            await google.colab.kernel.invokeFunction('convertToInteractive',\n",
              "                                                     [key], {});\n",
              "          if (!dataTable) return;\n",
              "\n",
              "          const docLinkHtml = 'Like what you see? Visit the ' +\n",
              "            '<a target=\"_blank\" href=https://colab.research.google.com/notebooks/data_table.ipynb>data table notebook</a>'\n",
              "            + ' to learn more about interactive tables.';\n",
              "          element.innerHTML = '';\n",
              "          dataTable['output_type'] = 'display_data';\n",
              "          await google.colab.output.renderOutput(dataTable, element);\n",
              "          const docLink = document.createElement('div');\n",
              "          docLink.innerHTML = docLinkHtml;\n",
              "          element.appendChild(docLink);\n",
              "        }\n",
              "      </script>\n",
              "    </div>\n",
              "  </div>\n",
              "  "
            ],
            "text/plain": [
              "                                 college_names  overall_score  \\\n",
              "0                       University of Michigan          89.41   \n",
              "1  University of North Carolina at Chapel Hill          86.22   \n",
              "2                       University of Virginia          86.11   \n",
              "3               Massachusetts Maritime Academy          86.07   \n",
              "4                  Virginia Military Institute          85.14   \n",
              "\n",
              "                           acceptance_rate  \\\n",
              "0  \\n                  23%\\n                 \n",
              "1  \\n                  23%\\n                 \n",
              "2  \\n                  24%\\n                 \n",
              "3  \\n                  91%\\n                 \n",
              "4  \\n                  60%\\n                 \n",
              "\n",
              "                          Est_full_price_22_23  \\\n",
              "0  \\n                  $32,400\\n                 \n",
              "1  \\n                  $25,200\\n                 \n",
              "2  \\n                  $36,700\\n                 \n",
              "3  \\n                  $31,600\\n                 \n",
              "4  \\n                  $33,300\\n                 \n",
              "\n",
              "                      Est_price_with_avg_grant  \\\n",
              "0  \\n                  $18,800\\n                 \n",
              "1  \\n                  $10,600\\n                 \n",
              "2  \\n                  $20,100\\n                 \n",
              "3  \\n                  $18,600\\n                 \n",
              "4  \\n                  $20,000\\n                 \n",
              "\n",
              "         percent_of_student_who_get_grants  \\\n",
              "0  \\n                  53%\\n                 \n",
              "1  \\n                  53%\\n                 \n",
              "2  \\n                  48%\\n                 \n",
              "3  \\n                  43%\\n                 \n",
              "4  \\n                  85%\\n                 \n",
              "\n",
              "                           graduation_rate  \\\n",
              "0  \\n                  92%\\n                 \n",
              "1  \\n                  89%\\n                 \n",
              "2  \\n                  94%\\n                 \n",
              "3  \\n                  73%\\n                 \n",
              "4  \\n                  78%\\n                 \n",
              "\n",
              "                         early_career_earnings  \\\n",
              "0  \\n                  $75,840\\n                 \n",
              "1  \\n                  $61,920\\n                 \n",
              "2  \\n                  $77,050\\n                 \n",
              "3  \\n                  $91,670\\n                 \n",
              "4  \\n                  $71,910\\n                 \n",
              "\n",
              "  avg_price_for_low_income_students sat_act_required undergrad_enrollment  \\\n",
              "0                            $2,670               No               31,050   \n",
              "1                            $3,750               No               19,010   \n",
              "2                           $12,480               No               16,720   \n",
              "3                            $6,380               No                1,650   \n",
              "4                           $10,560               No                1,700   \n",
              "\n",
              "  percent_of_students_with_need_who_get_grants percent_of_need_met  \\\n",
              "0                                          81%                 92%   \n",
              "1                                          90%                100%   \n",
              "2                                          91%                100%   \n",
              "3                                          56%                 71%   \n",
              "4                                          77%                 88%   \n",
              "\n",
              "  percent_of_students_who_get_merit_grants avg_merit_grant  \\\n",
              "0                                      11%          $5,670   \n",
              "1                                       5%          $7,030   \n",
              "2                                       4%          $5,630   \n",
              "3                                      11%          $5,530   \n",
              "4                                      14%         $13,100   \n",
              "\n",
              "  avg_time_to_a_degree median_student_debt  \\\n",
              "0                  4.2             $18,526   \n",
              "1                  4.1             $14,500   \n",
              "2                  4.1             $18,250   \n",
              "3                  4.2             $26,000   \n",
              "4                  4.1             $21,500   \n",
              "\n",
              "  percent_earning_more_than_a_high_school_grad             Town State  \\\n",
              "0                                          81%        Ann Arbor    MI   \n",
              "1                                          78%      Chapel Hill    NC   \n",
              "2                                          84%  Charlottesville    VA   \n",
              "3                                          91%     Buzzards Bay    MA   \n",
              "4                                          85%        Lexington    VA   \n",
              "\n",
              "  median_sat median_act  \n",
              "0       1440         33  \n",
              "1       1410         31  \n",
              "2       1430         32  \n",
              "3       1100         22  \n",
              "4       1180         25  "
            ]
          },
          "execution_count": 17,
          "metadata": {},
          "output_type": "execute_result"
        }
      ],
      "source": [
        "college_df.head()"
      ]
    },
    {
      "cell_type": "markdown",
      "metadata": {
        "id": "skmiGJKEFGYy"
      },
      "source": [
        "How do we get rid of the problem above? Hint: https://pandas.pydata.org/pandas-docs/stable/reference/api/pandas.Series.str.strip.html\n",
        "\n",
        "In the cell below replace all the values of columns with whitespace without any whitespace"
      ]
    },
    {
      "cell_type": "code",
      "execution_count": 18,
      "metadata": {
        "id": "HDqfm-7QFGYy"
      },
      "outputs": [],
      "source": [
        "for i in [2,3,4,5,6,7]:\n",
        "    college_df.iloc[:,i] = college_df.iloc[:,i].str.strip()"
      ]
    },
    {
      "cell_type": "code",
      "execution_count": 19,
      "metadata": {
        "colab": {
          "base_uri": "https://localhost:8080/",
          "height": 35
        },
        "id": "zARufVAO-F7i",
        "outputId": "1c5459e9-ed90-42a1-94c4-79e8007b2c70"
      },
      "outputs": [
        {
          "data": {
            "application/vnd.google.colaboratory.intrinsic+json": {
              "type": "string"
            },
            "text/plain": [
              "'$32,400'"
            ]
          },
          "execution_count": 19,
          "metadata": {},
          "output_type": "execute_result"
        }
      ],
      "source": [
        "college_df.iloc[0, 3]"
      ]
    },
    {
      "cell_type": "markdown",
      "metadata": {
        "id": "m3rXGAWwFGYu"
      },
      "source": [
        "### Exploring Missing Values"
      ]
    },
    {
      "cell_type": "markdown",
      "metadata": {
        "id": "Bfha1ieXFGYu"
      },
      "source": [
        "Now lets explore some of the missing values.\n",
        "\n",
        "`pandas` is smart, so it is able to detect the missing values even though we initially read them in as strings, notice how the column types are still also objects. "
      ]
    },
    {
      "cell_type": "code",
      "execution_count": 20,
      "metadata": {
        "colab": {
          "base_uri": "https://localhost:8080/"
        },
        "id": "j6nDnEEPFGYu",
        "outputId": "dd21f95e-01b2-47c9-e4f2-d8575c80f4f8"
      },
      "outputs": [
        {
          "data": {
            "text/plain": [
              "college_names                                    0\n",
              "overall_score                                    0\n",
              "acceptance_rate                                  0\n",
              "Est_full_price_22_23                             0\n",
              "Est_price_with_avg_grant                         0\n",
              "percent_of_student_who_get_grants                0\n",
              "graduation_rate                                  0\n",
              "early_career_earnings                            0\n",
              "avg_price_for_low_income_students                0\n",
              "sat_act_required                                 0\n",
              "undergrad_enrollment                             0\n",
              "percent_of_students_with_need_who_get_grants    18\n",
              "percent_of_need_met                             31\n",
              "percent_of_students_who_get_merit_grants        39\n",
              "avg_merit_grant                                 38\n",
              "avg_time_to_a_degree                             0\n",
              "median_student_debt                              0\n",
              "percent_earning_more_than_a_high_school_grad     1\n",
              "Town                                             0\n",
              "State                                            0\n",
              "median_sat                                       1\n",
              "median_act                                       1\n",
              "dtype: int64"
            ]
          },
          "execution_count": 20,
          "metadata": {},
          "output_type": "execute_result"
        }
      ],
      "source": [
        "college_df.isnull().sum()"
      ]
    },
    {
      "cell_type": "markdown",
      "metadata": {
        "id": "cV8fnwIeZS0V"
      },
      "source": [
        "If we look at the data we can see where some of these `NaN` values are coming from (California State University, Channel Islands)"
      ]
    },
    {
      "cell_type": "markdown",
      "metadata": {
        "id": "k7I1Va65FGYv"
      },
      "source": [
        "So pandas can detect the `NaN` values but how about this: https://money.com/best-colleges/profile/ringling-college-of-art-and-design/"
      ]
    },
    {
      "cell_type": "code",
      "execution_count": 21,
      "metadata": {
        "colab": {
          "base_uri": "https://localhost:8080/"
        },
        "id": "puQBth3ZFGYw",
        "outputId": "16932c7e-6949-4e29-849c-2b1116e0060b"
      },
      "outputs": [
        {
          "data": {
            "text/plain": [
              "205"
            ]
          },
          "execution_count": 21,
          "metadata": {},
          "output_type": "execute_result"
        }
      ],
      "source": [
        "np.sum(college_df['median_sat'] == 'NA') + np.sum(college_df['median_act'] == 'NA')"
      ]
    },
    {
      "cell_type": "code",
      "execution_count": 22,
      "metadata": {
        "colab": {
          "base_uri": "https://localhost:8080/"
        },
        "id": "tmM2FJ-uFGYy",
        "outputId": "9c8dbe70-25cd-4e60-9f28-6fcc87a84c4f"
      },
      "outputs": [
        {
          "data": {
            "text/plain": [
              "college_names                                     0\n",
              "overall_score                                     0\n",
              "acceptance_rate                                   1\n",
              "Est_full_price_22_23                              0\n",
              "Est_price_with_avg_grant                          0\n",
              "percent_of_student_who_get_grants                 0\n",
              "graduation_rate                                   0\n",
              "early_career_earnings                             1\n",
              "avg_price_for_low_income_students                 0\n",
              "sat_act_required                                  0\n",
              "undergrad_enrollment                              0\n",
              "percent_of_students_with_need_who_get_grants      0\n",
              "percent_of_need_met                               0\n",
              "percent_of_students_who_get_merit_grants          0\n",
              "avg_merit_grant                                   0\n",
              "avg_time_to_a_degree                              0\n",
              "median_student_debt                               0\n",
              "percent_earning_more_than_a_high_school_grad      0\n",
              "Town                                              0\n",
              "State                                             0\n",
              "median_sat                                      104\n",
              "median_act                                      101\n",
              "dtype: int64"
            ]
          },
          "execution_count": 22,
          "metadata": {},
          "output_type": "execute_result"
        }
      ],
      "source": [
        "np.sum(college_df == 'NA', axis = 0) + np.sum(college_df == 'N/A', axis = 0)"
      ]
    },
    {
      "cell_type": "code",
      "execution_count": 23,
      "metadata": {
        "colab": {
          "base_uri": "https://localhost:8080/"
        },
        "id": "TMfMVI9A9Lbw",
        "outputId": "d8410d0d-dbe8-43e7-fef0-edda2ed3d811"
      },
      "outputs": [
        {
          "data": {
            "text/plain": [
              "array([False, False,  True, False, False, False, False,  True, False,\n",
              "       False, False, False, False, False, False, False, False, False,\n",
              "       False, False,  True,  True])"
            ]
          },
          "execution_count": 23,
          "metadata": {},
          "output_type": "execute_result"
        }
      ],
      "source": [
        "n_cols = np.array(np.sum(college_df == 'NA', axis = 0) + np.sum(college_df == 'N/A', axis = 0)  > 0)\n",
        "n_cols"
      ]
    },
    {
      "cell_type": "code",
      "execution_count": 24,
      "metadata": {
        "id": "Brm6_0Sv_OHN"
      },
      "outputs": [],
      "source": [
        "college_df.iloc[:, n_cols] = college_df.iloc[:, n_cols].replace([\"NA\", \"N/A\"], np.nan)"
      ]
    },
    {
      "cell_type": "code",
      "execution_count": 25,
      "metadata": {
        "colab": {
          "base_uri": "https://localhost:8080/"
        },
        "id": "-CRk5bKCAEhm",
        "outputId": "44782a37-6a93-4e75-e994-1d02d59c6797"
      },
      "outputs": [
        {
          "data": {
            "text/plain": [
              "college_names                                     0\n",
              "overall_score                                     0\n",
              "acceptance_rate                                   1\n",
              "Est_full_price_22_23                              0\n",
              "Est_price_with_avg_grant                          0\n",
              "percent_of_student_who_get_grants                 0\n",
              "graduation_rate                                   0\n",
              "early_career_earnings                             1\n",
              "avg_price_for_low_income_students                 0\n",
              "sat_act_required                                  0\n",
              "undergrad_enrollment                              0\n",
              "percent_of_students_with_need_who_get_grants     18\n",
              "percent_of_need_met                              31\n",
              "percent_of_students_who_get_merit_grants         39\n",
              "avg_merit_grant                                  38\n",
              "avg_time_to_a_degree                              0\n",
              "median_student_debt                               0\n",
              "percent_earning_more_than_a_high_school_grad      1\n",
              "Town                                              0\n",
              "State                                             0\n",
              "median_sat                                      105\n",
              "median_act                                      102\n",
              "dtype: int64"
            ]
          },
          "execution_count": 25,
          "metadata": {},
          "output_type": "execute_result"
        }
      ],
      "source": [
        "college_df.isna().sum()"
      ]
    },
    {
      "cell_type": "markdown",
      "metadata": {
        "id": "d47cdCpMFGYw"
      },
      "source": [
        "Let will talk about how to deal with this a bit later :)"
      ]
    },
    {
      "cell_type": "markdown",
      "metadata": {
        "id": "p8uHtK7yFGYz"
      },
      "source": [
        "## Changing Series types"
      ]
    },
    {
      "cell_type": "code",
      "execution_count": 26,
      "metadata": {
        "colab": {
          "base_uri": "https://localhost:8080/"
        },
        "id": "PEeoBEwW8Bif",
        "outputId": "a98382fe-a6de-493b-b2b8-7fb794a5e349"
      },
      "outputs": [
        {
          "data": {
            "text/plain": [
              "college_names                                    object\n",
              "overall_score                                   float64\n",
              "acceptance_rate                                  object\n",
              "Est_full_price_22_23                             object\n",
              "Est_price_with_avg_grant                         object\n",
              "percent_of_student_who_get_grants                object\n",
              "graduation_rate                                  object\n",
              "early_career_earnings                            object\n",
              "avg_price_for_low_income_students                object\n",
              "sat_act_required                                 object\n",
              "undergrad_enrollment                             object\n",
              "percent_of_students_with_need_who_get_grants     object\n",
              "percent_of_need_met                              object\n",
              "percent_of_students_who_get_merit_grants         object\n",
              "avg_merit_grant                                  object\n",
              "avg_time_to_a_degree                             object\n",
              "median_student_debt                              object\n",
              "percent_earning_more_than_a_high_school_grad     object\n",
              "Town                                             object\n",
              "State                                            object\n",
              "median_sat                                       object\n",
              "median_act                                       object\n",
              "dtype: object"
            ]
          },
          "execution_count": 26,
          "metadata": {},
          "output_type": "execute_result"
        }
      ],
      "source": [
        "college_df.dtypes"
      ]
    },
    {
      "cell_type": "code",
      "execution_count": 27,
      "metadata": {
        "colab": {
          "base_uri": "https://localhost:8080/"
        },
        "id": "5dDJzKJC_j25",
        "outputId": "56967a16-330d-4f5f-bc72-b098eda09ce0"
      },
      "outputs": [
        {
          "name": "stdout",
          "output_type": "stream",
          "text": [
            "89.41\n"
          ]
        },
        {
          "data": {
            "text/plain": [
              "numpy.float64"
            ]
          },
          "execution_count": 27,
          "metadata": {},
          "output_type": "execute_result"
        }
      ],
      "source": [
        "print(college_df[\"overall_score\"][0])\n",
        "type(college_df[\"overall_score\"][0])"
      ]
    },
    {
      "cell_type": "code",
      "execution_count": 28,
      "metadata": {
        "id": "2K43cYjtCTFH"
      },
      "outputs": [],
      "source": [
        "college_df[\"median_sat\"] = college_df[\"median_sat\"].astype('float64')\n",
        "college_df[\"median_act\"] = college_df[\"median_act\"].astype('float64')"
      ]
    },
    {
      "cell_type": "code",
      "execution_count": 29,
      "metadata": {
        "colab": {
          "base_uri": "https://localhost:8080/"
        },
        "id": "MPczB1UmDSL3",
        "outputId": "5823a5aa-e27b-47e0-9681-32133d579fcf"
      },
      "outputs": [
        {
          "data": {
            "text/plain": [
              "college_names                                    object\n",
              "overall_score                                   float64\n",
              "acceptance_rate                                  object\n",
              "Est_full_price_22_23                             object\n",
              "Est_price_with_avg_grant                         object\n",
              "percent_of_student_who_get_grants                object\n",
              "graduation_rate                                  object\n",
              "early_career_earnings                            object\n",
              "avg_price_for_low_income_students                object\n",
              "sat_act_required                                 object\n",
              "undergrad_enrollment                             object\n",
              "percent_of_students_with_need_who_get_grants     object\n",
              "percent_of_need_met                              object\n",
              "percent_of_students_who_get_merit_grants         object\n",
              "avg_merit_grant                                  object\n",
              "avg_time_to_a_degree                             object\n",
              "median_student_debt                              object\n",
              "percent_earning_more_than_a_high_school_grad     object\n",
              "Town                                             object\n",
              "State                                            object\n",
              "median_sat                                      float64\n",
              "median_act                                      float64\n",
              "dtype: object"
            ]
          },
          "execution_count": 29,
          "metadata": {},
          "output_type": "execute_result"
        }
      ],
      "source": [
        "college_df.dtypes"
      ]
    },
    {
      "cell_type": "markdown",
      "metadata": {
        "id": "qtXpal4MFGY0"
      },
      "source": [
        "## Reformatting Values"
      ]
    },
    {
      "cell_type": "markdown",
      "metadata": {
        "id": "qUom2OaDEAnE"
      },
      "source": [
        "Reformat strings"
      ]
    },
    {
      "cell_type": "code",
      "execution_count": 30,
      "metadata": {
        "colab": {
          "base_uri": "https://localhost:8080/"
        },
        "id": "SC6cQoHhDUr-",
        "outputId": "0b8d2ff9-8e2c-45be-8c00-09225ab7dfef"
      },
      "outputs": [
        {
          "data": {
            "text/plain": [
              "('32201', '13')"
            ]
          },
          "execution_count": 30,
          "metadata": {},
          "output_type": "execute_result"
        }
      ],
      "source": [
        "def reformat(string):\n",
        "    try:\n",
        "        remove_characters = \"%$,\"\n",
        "        for character in remove_characters:\n",
        "            string = string.replace(character, \"\")\n",
        "        return string\n",
        "    except:\n",
        "        return string\n",
        "\n",
        "reformat(\"$32,201\"), reformat(\"13%\")"
      ]
    },
    {
      "cell_type": "code",
      "execution_count": 31,
      "metadata": {
        "id": "6bUZJYSVHJ8C"
      },
      "outputs": [],
      "source": [
        "for col in college_df.columns.difference(['overall_score', 'median_sat', 'median_act', 'avg_time_to_a_degree', 'Town', 'State', 'college_names', 'sat_act_required']):\n",
        "    college_df[col] = college_df[col].apply(reformat)"
      ]
    },
    {
      "cell_type": "code",
      "execution_count": 32,
      "metadata": {
        "colab": {
          "base_uri": "https://localhost:8080/",
          "height": 392
        },
        "id": "DUY4i0XjIiJ4",
        "outputId": "d925d601-2dca-4934-fbc6-c56edea09882"
      },
      "outputs": [
        {
          "data": {
            "text/html": [
              "\n",
              "  <div id=\"df-20795afc-4ca3-4732-9d95-783823bdca69\">\n",
              "    <div class=\"colab-df-container\">\n",
              "      <div>\n",
              "<style scoped>\n",
              "    .dataframe tbody tr th:only-of-type {\n",
              "        vertical-align: middle;\n",
              "    }\n",
              "\n",
              "    .dataframe tbody tr th {\n",
              "        vertical-align: top;\n",
              "    }\n",
              "\n",
              "    .dataframe thead th {\n",
              "        text-align: right;\n",
              "    }\n",
              "</style>\n",
              "<table border=\"1\" class=\"dataframe\">\n",
              "  <thead>\n",
              "    <tr style=\"text-align: right;\">\n",
              "      <th></th>\n",
              "      <th>college_names</th>\n",
              "      <th>overall_score</th>\n",
              "      <th>acceptance_rate</th>\n",
              "      <th>Est_full_price_22_23</th>\n",
              "      <th>Est_price_with_avg_grant</th>\n",
              "      <th>percent_of_student_who_get_grants</th>\n",
              "      <th>graduation_rate</th>\n",
              "      <th>early_career_earnings</th>\n",
              "      <th>avg_price_for_low_income_students</th>\n",
              "      <th>sat_act_required</th>\n",
              "      <th>undergrad_enrollment</th>\n",
              "      <th>percent_of_students_with_need_who_get_grants</th>\n",
              "      <th>percent_of_need_met</th>\n",
              "      <th>percent_of_students_who_get_merit_grants</th>\n",
              "      <th>avg_merit_grant</th>\n",
              "      <th>avg_time_to_a_degree</th>\n",
              "      <th>median_student_debt</th>\n",
              "      <th>percent_earning_more_than_a_high_school_grad</th>\n",
              "      <th>Town</th>\n",
              "      <th>State</th>\n",
              "      <th>median_sat</th>\n",
              "      <th>median_act</th>\n",
              "    </tr>\n",
              "  </thead>\n",
              "  <tbody>\n",
              "    <tr>\n",
              "      <th>0</th>\n",
              "      <td>University of Michigan</td>\n",
              "      <td>89.41</td>\n",
              "      <td>23</td>\n",
              "      <td>32400</td>\n",
              "      <td>18800</td>\n",
              "      <td>53</td>\n",
              "      <td>92</td>\n",
              "      <td>75840</td>\n",
              "      <td>2670</td>\n",
              "      <td>No</td>\n",
              "      <td>31050</td>\n",
              "      <td>81</td>\n",
              "      <td>92</td>\n",
              "      <td>11</td>\n",
              "      <td>5670</td>\n",
              "      <td>4.2</td>\n",
              "      <td>18526</td>\n",
              "      <td>81</td>\n",
              "      <td>Ann Arbor</td>\n",
              "      <td>MI</td>\n",
              "      <td>1440.0</td>\n",
              "      <td>33.0</td>\n",
              "    </tr>\n",
              "    <tr>\n",
              "      <th>1</th>\n",
              "      <td>University of North Carolina at Chapel Hill</td>\n",
              "      <td>86.22</td>\n",
              "      <td>23</td>\n",
              "      <td>25200</td>\n",
              "      <td>10600</td>\n",
              "      <td>53</td>\n",
              "      <td>89</td>\n",
              "      <td>61920</td>\n",
              "      <td>3750</td>\n",
              "      <td>No</td>\n",
              "      <td>19010</td>\n",
              "      <td>90</td>\n",
              "      <td>100</td>\n",
              "      <td>5</td>\n",
              "      <td>7030</td>\n",
              "      <td>4.1</td>\n",
              "      <td>14500</td>\n",
              "      <td>78</td>\n",
              "      <td>Chapel Hill</td>\n",
              "      <td>NC</td>\n",
              "      <td>1410.0</td>\n",
              "      <td>31.0</td>\n",
              "    </tr>\n",
              "    <tr>\n",
              "      <th>2</th>\n",
              "      <td>University of Virginia</td>\n",
              "      <td>86.11</td>\n",
              "      <td>24</td>\n",
              "      <td>36700</td>\n",
              "      <td>20100</td>\n",
              "      <td>48</td>\n",
              "      <td>94</td>\n",
              "      <td>77050</td>\n",
              "      <td>12480</td>\n",
              "      <td>No</td>\n",
              "      <td>16720</td>\n",
              "      <td>91</td>\n",
              "      <td>100</td>\n",
              "      <td>4</td>\n",
              "      <td>5630</td>\n",
              "      <td>4.1</td>\n",
              "      <td>18250</td>\n",
              "      <td>84</td>\n",
              "      <td>Charlottesville</td>\n",
              "      <td>VA</td>\n",
              "      <td>1430.0</td>\n",
              "      <td>32.0</td>\n",
              "    </tr>\n",
              "    <tr>\n",
              "      <th>3</th>\n",
              "      <td>Massachusetts Maritime Academy</td>\n",
              "      <td>86.07</td>\n",
              "      <td>91</td>\n",
              "      <td>31600</td>\n",
              "      <td>18600</td>\n",
              "      <td>43</td>\n",
              "      <td>73</td>\n",
              "      <td>91670</td>\n",
              "      <td>6380</td>\n",
              "      <td>No</td>\n",
              "      <td>1650</td>\n",
              "      <td>56</td>\n",
              "      <td>71</td>\n",
              "      <td>11</td>\n",
              "      <td>5530</td>\n",
              "      <td>4.2</td>\n",
              "      <td>26000</td>\n",
              "      <td>91</td>\n",
              "      <td>Buzzards Bay</td>\n",
              "      <td>MA</td>\n",
              "      <td>1100.0</td>\n",
              "      <td>22.0</td>\n",
              "    </tr>\n",
              "    <tr>\n",
              "      <th>4</th>\n",
              "      <td>Virginia Military Institute</td>\n",
              "      <td>85.14</td>\n",
              "      <td>60</td>\n",
              "      <td>33300</td>\n",
              "      <td>20000</td>\n",
              "      <td>85</td>\n",
              "      <td>78</td>\n",
              "      <td>71910</td>\n",
              "      <td>10560</td>\n",
              "      <td>No</td>\n",
              "      <td>1700</td>\n",
              "      <td>77</td>\n",
              "      <td>88</td>\n",
              "      <td>14</td>\n",
              "      <td>13100</td>\n",
              "      <td>4.1</td>\n",
              "      <td>21500</td>\n",
              "      <td>85</td>\n",
              "      <td>Lexington</td>\n",
              "      <td>VA</td>\n",
              "      <td>1180.0</td>\n",
              "      <td>25.0</td>\n",
              "    </tr>\n",
              "  </tbody>\n",
              "</table>\n",
              "</div>\n",
              "      <button class=\"colab-df-convert\" onclick=\"convertToInteractive('df-20795afc-4ca3-4732-9d95-783823bdca69')\"\n",
              "              title=\"Convert this dataframe to an interactive table.\"\n",
              "              style=\"display:none;\">\n",
              "        \n",
              "  <svg xmlns=\"http://www.w3.org/2000/svg\" height=\"24px\"viewBox=\"0 0 24 24\"\n",
              "       width=\"24px\">\n",
              "    <path d=\"M0 0h24v24H0V0z\" fill=\"none\"/>\n",
              "    <path d=\"M18.56 5.44l.94 2.06.94-2.06 2.06-.94-2.06-.94-.94-2.06-.94 2.06-2.06.94zm-11 1L8.5 8.5l.94-2.06 2.06-.94-2.06-.94L8.5 2.5l-.94 2.06-2.06.94zm10 10l.94 2.06.94-2.06 2.06-.94-2.06-.94-.94-2.06-.94 2.06-2.06.94z\"/><path d=\"M17.41 7.96l-1.37-1.37c-.4-.4-.92-.59-1.43-.59-.52 0-1.04.2-1.43.59L10.3 9.45l-7.72 7.72c-.78.78-.78 2.05 0 2.83L4 21.41c.39.39.9.59 1.41.59.51 0 1.02-.2 1.41-.59l7.78-7.78 2.81-2.81c.8-.78.8-2.07 0-2.86zM5.41 20L4 18.59l7.72-7.72 1.47 1.35L5.41 20z\"/>\n",
              "  </svg>\n",
              "      </button>\n",
              "      \n",
              "  <style>\n",
              "    .colab-df-container {\n",
              "      display:flex;\n",
              "      flex-wrap:wrap;\n",
              "      gap: 12px;\n",
              "    }\n",
              "\n",
              "    .colab-df-convert {\n",
              "      background-color: #E8F0FE;\n",
              "      border: none;\n",
              "      border-radius: 50%;\n",
              "      cursor: pointer;\n",
              "      display: none;\n",
              "      fill: #1967D2;\n",
              "      height: 32px;\n",
              "      padding: 0 0 0 0;\n",
              "      width: 32px;\n",
              "    }\n",
              "\n",
              "    .colab-df-convert:hover {\n",
              "      background-color: #E2EBFA;\n",
              "      box-shadow: 0px 1px 2px rgba(60, 64, 67, 0.3), 0px 1px 3px 1px rgba(60, 64, 67, 0.15);\n",
              "      fill: #174EA6;\n",
              "    }\n",
              "\n",
              "    [theme=dark] .colab-df-convert {\n",
              "      background-color: #3B4455;\n",
              "      fill: #D2E3FC;\n",
              "    }\n",
              "\n",
              "    [theme=dark] .colab-df-convert:hover {\n",
              "      background-color: #434B5C;\n",
              "      box-shadow: 0px 1px 3px 1px rgba(0, 0, 0, 0.15);\n",
              "      filter: drop-shadow(0px 1px 2px rgba(0, 0, 0, 0.3));\n",
              "      fill: #FFFFFF;\n",
              "    }\n",
              "  </style>\n",
              "\n",
              "      <script>\n",
              "        const buttonEl =\n",
              "          document.querySelector('#df-20795afc-4ca3-4732-9d95-783823bdca69 button.colab-df-convert');\n",
              "        buttonEl.style.display =\n",
              "          google.colab.kernel.accessAllowed ? 'block' : 'none';\n",
              "\n",
              "        async function convertToInteractive(key) {\n",
              "          const element = document.querySelector('#df-20795afc-4ca3-4732-9d95-783823bdca69');\n",
              "          const dataTable =\n",
              "            await google.colab.kernel.invokeFunction('convertToInteractive',\n",
              "                                                     [key], {});\n",
              "          if (!dataTable) return;\n",
              "\n",
              "          const docLinkHtml = 'Like what you see? Visit the ' +\n",
              "            '<a target=\"_blank\" href=https://colab.research.google.com/notebooks/data_table.ipynb>data table notebook</a>'\n",
              "            + ' to learn more about interactive tables.';\n",
              "          element.innerHTML = '';\n",
              "          dataTable['output_type'] = 'display_data';\n",
              "          await google.colab.output.renderOutput(dataTable, element);\n",
              "          const docLink = document.createElement('div');\n",
              "          docLink.innerHTML = docLinkHtml;\n",
              "          element.appendChild(docLink);\n",
              "        }\n",
              "      </script>\n",
              "    </div>\n",
              "  </div>\n",
              "  "
            ],
            "text/plain": [
              "                                 college_names  overall_score acceptance_rate  \\\n",
              "0                       University of Michigan          89.41              23   \n",
              "1  University of North Carolina at Chapel Hill          86.22              23   \n",
              "2                       University of Virginia          86.11              24   \n",
              "3               Massachusetts Maritime Academy          86.07              91   \n",
              "4                  Virginia Military Institute          85.14              60   \n",
              "\n",
              "  Est_full_price_22_23 Est_price_with_avg_grant  \\\n",
              "0                32400                    18800   \n",
              "1                25200                    10600   \n",
              "2                36700                    20100   \n",
              "3                31600                    18600   \n",
              "4                33300                    20000   \n",
              "\n",
              "  percent_of_student_who_get_grants graduation_rate early_career_earnings  \\\n",
              "0                                53              92                 75840   \n",
              "1                                53              89                 61920   \n",
              "2                                48              94                 77050   \n",
              "3                                43              73                 91670   \n",
              "4                                85              78                 71910   \n",
              "\n",
              "  avg_price_for_low_income_students sat_act_required undergrad_enrollment  \\\n",
              "0                              2670               No                31050   \n",
              "1                              3750               No                19010   \n",
              "2                             12480               No                16720   \n",
              "3                              6380               No                 1650   \n",
              "4                             10560               No                 1700   \n",
              "\n",
              "  percent_of_students_with_need_who_get_grants percent_of_need_met  \\\n",
              "0                                           81                  92   \n",
              "1                                           90                 100   \n",
              "2                                           91                 100   \n",
              "3                                           56                  71   \n",
              "4                                           77                  88   \n",
              "\n",
              "  percent_of_students_who_get_merit_grants avg_merit_grant  \\\n",
              "0                                       11            5670   \n",
              "1                                        5            7030   \n",
              "2                                        4            5630   \n",
              "3                                       11            5530   \n",
              "4                                       14           13100   \n",
              "\n",
              "  avg_time_to_a_degree median_student_debt  \\\n",
              "0                  4.2               18526   \n",
              "1                  4.1               14500   \n",
              "2                  4.1               18250   \n",
              "3                  4.2               26000   \n",
              "4                  4.1               21500   \n",
              "\n",
              "  percent_earning_more_than_a_high_school_grad             Town State  \\\n",
              "0                                           81        Ann Arbor    MI   \n",
              "1                                           78      Chapel Hill    NC   \n",
              "2                                           84  Charlottesville    VA   \n",
              "3                                           91     Buzzards Bay    MA   \n",
              "4                                           85        Lexington    VA   \n",
              "\n",
              "   median_sat  median_act  \n",
              "0      1440.0        33.0  \n",
              "1      1410.0        31.0  \n",
              "2      1430.0        32.0  \n",
              "3      1100.0        22.0  \n",
              "4      1180.0        25.0  "
            ]
          },
          "execution_count": 32,
          "metadata": {},
          "output_type": "execute_result"
        }
      ],
      "source": [
        "college_df.head()"
      ]
    },
    {
      "cell_type": "markdown",
      "metadata": {
        "id": "2-44hEgJLpzX"
      },
      "source": [
        "Finish changing dtypes"
      ]
    },
    {
      "cell_type": "code",
      "execution_count": 33,
      "metadata": {
        "id": "MkGR40ZTIkZ9"
      },
      "outputs": [],
      "source": [
        "college_df[\"sat_act_required\"] = college_df[\"sat_act_required\"].astype('string')\n",
        "college_df[\"college_names\"] = college_df[\"college_names\"].astype('string')\n",
        "college_df[\"Town\"] = college_df[\"Town\"].astype('string')\n",
        "college_df[\"State\"] = college_df[\"State\"].astype('string')"
      ]
    },
    {
      "cell_type": "code",
      "execution_count": 34,
      "metadata": {
        "colab": {
          "base_uri": "https://localhost:8080/"
        },
        "id": "KBPR-TqZM6ML",
        "outputId": "1a428fe8-4596-4488-854e-c11d2ab2832a"
      },
      "outputs": [
        {
          "data": {
            "text/plain": [
              "college_names                                    string\n",
              "overall_score                                   float64\n",
              "acceptance_rate                                  object\n",
              "Est_full_price_22_23                             object\n",
              "Est_price_with_avg_grant                         object\n",
              "percent_of_student_who_get_grants                object\n",
              "graduation_rate                                  object\n",
              "early_career_earnings                            object\n",
              "avg_price_for_low_income_students                object\n",
              "sat_act_required                                 string\n",
              "undergrad_enrollment                             object\n",
              "percent_of_students_with_need_who_get_grants     object\n",
              "percent_of_need_met                              object\n",
              "percent_of_students_who_get_merit_grants         object\n",
              "avg_merit_grant                                  object\n",
              "avg_time_to_a_degree                             object\n",
              "median_student_debt                              object\n",
              "percent_earning_more_than_a_high_school_grad     object\n",
              "Town                                             string\n",
              "State                                            string\n",
              "median_sat                                      float64\n",
              "median_act                                      float64\n",
              "dtype: object"
            ]
          },
          "execution_count": 34,
          "metadata": {},
          "output_type": "execute_result"
        }
      ],
      "source": [
        "college_df.dtypes"
      ]
    },
    {
      "cell_type": "code",
      "execution_count": 35,
      "metadata": {
        "colab": {
          "base_uri": "https://localhost:8080/"
        },
        "id": "k4AdVi3_L9SO",
        "outputId": "c4b7e19a-8a12-4446-820f-4f546da32a99"
      },
      "outputs": [
        {
          "name": "stdout",
          "output_type": "stream",
          "text": [
            "Est_full_price_22_23\n",
            "Est_price_with_avg_grant\n",
            "acceptance_rate\n",
            "avg_merit_grant\n",
            "avg_price_for_low_income_students\n",
            "early_career_earnings\n",
            "graduation_rate\n",
            "median_student_debt\n",
            "percent_earning_more_than_a_high_school_grad\n",
            "percent_of_need_met\n",
            "percent_of_student_who_get_grants\n",
            "percent_of_students_who_get_merit_grants\n",
            "percent_of_students_with_need_who_get_grants\n",
            "undergrad_enrollment\n"
          ]
        }
      ],
      "source": [
        "for col in college_df.columns.difference(['overall_score', 'median_sat', 'median_act', 'avg_time_to_a_degree', 'Town', 'State', 'college_names', 'sat_act_required']):\n",
        "    print(col)\n",
        "    college_df[col] = college_df[col].astype('float64')"
      ]
    },
    {
      "cell_type": "code",
      "execution_count": 36,
      "metadata": {
        "colab": {
          "base_uri": "https://localhost:8080/"
        },
        "id": "0mtbRFs9NJpN",
        "outputId": "06da243c-5465-4a17-b1a8-52ac0957a65e"
      },
      "outputs": [
        {
          "data": {
            "text/plain": [
              "college_names                                    string\n",
              "overall_score                                   float64\n",
              "acceptance_rate                                 float64\n",
              "Est_full_price_22_23                            float64\n",
              "Est_price_with_avg_grant                        float64\n",
              "percent_of_student_who_get_grants               float64\n",
              "graduation_rate                                 float64\n",
              "early_career_earnings                           float64\n",
              "avg_price_for_low_income_students               float64\n",
              "sat_act_required                                 string\n",
              "undergrad_enrollment                            float64\n",
              "percent_of_students_with_need_who_get_grants    float64\n",
              "percent_of_need_met                             float64\n",
              "percent_of_students_who_get_merit_grants        float64\n",
              "avg_merit_grant                                 float64\n",
              "avg_time_to_a_degree                             object\n",
              "median_student_debt                             float64\n",
              "percent_earning_more_than_a_high_school_grad    float64\n",
              "Town                                             string\n",
              "State                                            string\n",
              "median_sat                                      float64\n",
              "median_act                                      float64\n",
              "dtype: object"
            ]
          },
          "execution_count": 36,
          "metadata": {},
          "output_type": "execute_result"
        }
      ],
      "source": [
        "college_df.dtypes"
      ]
    },
    {
      "cell_type": "markdown",
      "metadata": {
        "id": "KhFeM6jta0Cc"
      },
      "source": [
        "### Imputing Missing Values"
      ]
    },
    {
      "cell_type": "code",
      "execution_count": 37,
      "metadata": {
        "colab": {
          "base_uri": "https://localhost:8080/"
        },
        "id": "zujKlEdSFGY2",
        "outputId": "f57d71bd-c0e8-43a3-b61b-e8d981892443"
      },
      "outputs": [
        {
          "data": {
            "text/plain": [
              "college_names                                     0\n",
              "overall_score                                     0\n",
              "acceptance_rate                                   1\n",
              "Est_full_price_22_23                              0\n",
              "Est_price_with_avg_grant                          0\n",
              "percent_of_student_who_get_grants                 0\n",
              "graduation_rate                                   0\n",
              "early_career_earnings                             1\n",
              "avg_price_for_low_income_students                 0\n",
              "sat_act_required                                  0\n",
              "undergrad_enrollment                              0\n",
              "percent_of_students_with_need_who_get_grants     18\n",
              "percent_of_need_met                              31\n",
              "percent_of_students_who_get_merit_grants         39\n",
              "avg_merit_grant                                  38\n",
              "avg_time_to_a_degree                              0\n",
              "median_student_debt                               0\n",
              "percent_earning_more_than_a_high_school_grad      1\n",
              "Town                                              0\n",
              "State                                             0\n",
              "median_sat                                      105\n",
              "median_act                                      102\n",
              "dtype: int64"
            ]
          },
          "execution_count": 37,
          "metadata": {},
          "output_type": "execute_result"
        }
      ],
      "source": [
        "college_df.isnull().sum()"
      ]
    },
    {
      "cell_type": "code",
      "execution_count": 38,
      "metadata": {
        "colab": {
          "base_uri": "https://localhost:8080/"
        },
        "id": "VS1tZvWkeoag",
        "outputId": "64f83911-24e3-4ac7-d608-2f6eaddb08ed"
      },
      "outputs": [
        {
          "name": "stderr",
          "output_type": "stream",
          "text": [
            "<ipython-input-38-446a3a04296e>:1: FutureWarning: Dropping of nuisance columns in DataFrame reductions (with 'numeric_only=None') is deprecated; in a future version this will raise TypeError.  Select only valid columns before calling the reduction.\n",
            "  college_df.median()\n"
          ]
        },
        {
          "data": {
            "text/plain": [
              "overall_score                                      63.93\n",
              "acceptance_rate                                    71.00\n",
              "Est_full_price_22_23                            47500.00\n",
              "Est_price_with_avg_grant                        23000.00\n",
              "percent_of_student_who_get_grants                  82.00\n",
              "graduation_rate                                    68.00\n",
              "early_career_earnings                           54305.00\n",
              "avg_price_for_low_income_students               15360.00\n",
              "undergrad_enrollment                             3590.00\n",
              "percent_of_students_with_need_who_get_grants       94.00\n",
              "percent_of_need_met                                73.50\n",
              "percent_of_students_who_get_merit_grants           17.00\n",
              "avg_merit_grant                                 11700.00\n",
              "avg_time_to_a_degree                                4.20\n",
              "median_student_debt                             23300.00\n",
              "percent_earning_more_than_a_high_school_grad       73.00\n",
              "median_sat                                       1170.00\n",
              "median_act                                         25.00\n",
              "dtype: float64"
            ]
          },
          "execution_count": 38,
          "metadata": {},
          "output_type": "execute_result"
        }
      ],
      "source": [
        "college_df.median()"
      ]
    },
    {
      "cell_type": "code",
      "execution_count": 39,
      "metadata": {
        "colab": {
          "base_uri": "https://localhost:8080/"
        },
        "id": "V20sD9PcNK1L",
        "outputId": "4d6f59b2-d5a2-4e5f-c458-407004045513"
      },
      "outputs": [
        {
          "name": "stderr",
          "output_type": "stream",
          "text": [
            "<ipython-input-39-a4f2e61c7feb>:1: FutureWarning: Dropping of nuisance columns in DataFrame reductions (with 'numeric_only=None') is deprecated; in a future version this will raise TypeError.  Select only valid columns before calling the reduction.\n",
            "  college_df = college_df.fillna(college_df.median())\n"
          ]
        }
      ],
      "source": [
        "college_df = college_df.fillna(college_df.median()) "
      ]
    },
    {
      "cell_type": "code",
      "execution_count": 40,
      "metadata": {
        "colab": {
          "base_uri": "https://localhost:8080/"
        },
        "id": "ttffDncMPd6I",
        "outputId": "c8f304b8-ea34-467f-bdb6-c8211c4ed792"
      },
      "outputs": [
        {
          "data": {
            "text/plain": [
              "college_names                                   0\n",
              "overall_score                                   0\n",
              "acceptance_rate                                 0\n",
              "Est_full_price_22_23                            0\n",
              "Est_price_with_avg_grant                        0\n",
              "percent_of_student_who_get_grants               0\n",
              "graduation_rate                                 0\n",
              "early_career_earnings                           0\n",
              "avg_price_for_low_income_students               0\n",
              "sat_act_required                                0\n",
              "undergrad_enrollment                            0\n",
              "percent_of_students_with_need_who_get_grants    0\n",
              "percent_of_need_met                             0\n",
              "percent_of_students_who_get_merit_grants        0\n",
              "avg_merit_grant                                 0\n",
              "avg_time_to_a_degree                            0\n",
              "median_student_debt                             0\n",
              "percent_earning_more_than_a_high_school_grad    0\n",
              "Town                                            0\n",
              "State                                           0\n",
              "median_sat                                      0\n",
              "median_act                                      0\n",
              "dtype: int64"
            ]
          },
          "execution_count": 40,
          "metadata": {},
          "output_type": "execute_result"
        }
      ],
      "source": [
        "college_df.isna().sum()"
      ]
    },
    {
      "cell_type": "markdown",
      "metadata": {
        "id": "m6Sin7fWa4sk"
      },
      "source": [
        "### Renaming Columns"
      ]
    },
    {
      "cell_type": "code",
      "execution_count": 41,
      "metadata": {
        "id": "YpfMlQcLYoRO"
      },
      "outputs": [],
      "source": [
        "college_df.rename(columns = {'avg_time_to_a_degree':'avg_time_to_a_degree_years'}, inplace = True)"
      ]
    },
    {
      "cell_type": "markdown",
      "metadata": {
        "id": "RxihhleSa8Uu"
      },
      "source": [
        "### Saving a file"
      ]
    },
    {
      "cell_type": "code",
      "execution_count": 42,
      "metadata": {
        "id": "jQg8z6btPhdE"
      },
      "outputs": [],
      "source": [
        "college_df.to_csv(\"colleges_dataset_cleaned.csv\")"
      ]
    },
    {
      "cell_type": "code",
      "execution_count": 42,
      "metadata": {
        "id": "LQT7avfFGlSG"
      },
      "outputs": [],
      "source": []
    }
  ],
  "metadata": {
    "colab": {
      "provenance": []
    },
    "kernelspec": {
      "display_name": "Python 3",
      "language": "python",
      "name": "python3"
    },
    "language_info": {
      "codemirror_mode": {
        "name": "ipython",
        "version": 3
      },
      "file_extension": ".py",
      "mimetype": "text/x-python",
      "name": "python",
      "nbconvert_exporter": "python",
      "pygments_lexer": "ipython3",
      "version": "3.10.4"
    },
    "vscode": {
      "interpreter": {
        "hash": "aee8b7b246df8f9039afb4144a1f6fd8d2ca17a180786b69acc140d282b71a49"
      }
    }
  },
  "nbformat": 4,
  "nbformat_minor": 0
}
