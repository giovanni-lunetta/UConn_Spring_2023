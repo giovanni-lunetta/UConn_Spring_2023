{
 "cells": [
  {
   "cell_type": "code",
   "execution_count": 244,
   "metadata": {},
   "outputs": [],
   "source": [
    "import pandas as pd\n",
    "pd.options.display.max_columns = 101\n",
    "import numpy as np"
   ]
  },
  {
   "cell_type": "code",
   "execution_count": 245,
   "metadata": {},
   "outputs": [],
   "source": [
    "df = pd.read_csv('messy_IMDB_dataset.csv', sep=';', encoding=\"ISO-8859-1\")"
   ]
  },
  {
   "cell_type": "code",
   "execution_count": 246,
   "metadata": {},
   "outputs": [
    {
     "data": {
      "text/html": [
       "<div>\n",
       "<style scoped>\n",
       "    .dataframe tbody tr th:only-of-type {\n",
       "        vertical-align: middle;\n",
       "    }\n",
       "\n",
       "    .dataframe tbody tr th {\n",
       "        vertical-align: top;\n",
       "    }\n",
       "\n",
       "    .dataframe thead th {\n",
       "        text-align: right;\n",
       "    }\n",
       "</style>\n",
       "<table border=\"1\" class=\"dataframe\">\n",
       "  <thead>\n",
       "    <tr style=\"text-align: right;\">\n",
       "      <th></th>\n",
       "      <th>IMBD title ID</th>\n",
       "      <th>Original titlÊ</th>\n",
       "      <th>Release year</th>\n",
       "      <th>Genrë¨</th>\n",
       "      <th>Duration</th>\n",
       "      <th>Country</th>\n",
       "      <th>Content Rating</th>\n",
       "      <th>Director</th>\n",
       "      <th>Unnamed: 8</th>\n",
       "      <th>Income</th>\n",
       "      <th>Votes</th>\n",
       "      <th>Score</th>\n",
       "    </tr>\n",
       "  </thead>\n",
       "  <tbody>\n",
       "    <tr>\n",
       "      <th>0</th>\n",
       "      <td>tt0111161</td>\n",
       "      <td>The Shawshank Redemption</td>\n",
       "      <td>1995-02-10</td>\n",
       "      <td>Drama</td>\n",
       "      <td>142</td>\n",
       "      <td>USA</td>\n",
       "      <td>R</td>\n",
       "      <td>Frank Darabont</td>\n",
       "      <td>NaN</td>\n",
       "      <td>$ 28815245</td>\n",
       "      <td>2.278.845</td>\n",
       "      <td>9.3</td>\n",
       "    </tr>\n",
       "    <tr>\n",
       "      <th>1</th>\n",
       "      <td>tt0068646</td>\n",
       "      <td>The Godfather</td>\n",
       "      <td>09 21 1972</td>\n",
       "      <td>Crime, Drama</td>\n",
       "      <td>175</td>\n",
       "      <td>USA</td>\n",
       "      <td>R</td>\n",
       "      <td>Francis Ford Coppola</td>\n",
       "      <td>NaN</td>\n",
       "      <td>$ 246120974</td>\n",
       "      <td>1.572.674</td>\n",
       "      <td>9.2</td>\n",
       "    </tr>\n",
       "    <tr>\n",
       "      <th>2</th>\n",
       "      <td>tt0468569</td>\n",
       "      <td>The Dark Knight</td>\n",
       "      <td>23 -07-2008</td>\n",
       "      <td>Action, Crime, Drama</td>\n",
       "      <td>152</td>\n",
       "      <td>US</td>\n",
       "      <td>PG-13</td>\n",
       "      <td>Christopher Nolan</td>\n",
       "      <td>NaN</td>\n",
       "      <td>$ 1005455211</td>\n",
       "      <td>2.241.615</td>\n",
       "      <td>9.</td>\n",
       "    </tr>\n",
       "    <tr>\n",
       "      <th>3</th>\n",
       "      <td>tt0071562</td>\n",
       "      <td>The Godfather: Part II</td>\n",
       "      <td>1975-09-25</td>\n",
       "      <td>Crime, Drama</td>\n",
       "      <td>220</td>\n",
       "      <td>USA</td>\n",
       "      <td>R</td>\n",
       "      <td>Francis Ford Coppola</td>\n",
       "      <td>NaN</td>\n",
       "      <td>$ 4o8,035,783</td>\n",
       "      <td>1.098.714</td>\n",
       "      <td>9,.0</td>\n",
       "    </tr>\n",
       "    <tr>\n",
       "      <th>4</th>\n",
       "      <td>tt0110912</td>\n",
       "      <td>Pulp Fiction</td>\n",
       "      <td>1994-10-28</td>\n",
       "      <td>Crime, Drama</td>\n",
       "      <td></td>\n",
       "      <td>USA</td>\n",
       "      <td>R</td>\n",
       "      <td>Quentin Tarantino</td>\n",
       "      <td>NaN</td>\n",
       "      <td>$ 222831817</td>\n",
       "      <td>1.780.147</td>\n",
       "      <td>8,9f</td>\n",
       "    </tr>\n",
       "  </tbody>\n",
       "</table>\n",
       "</div>"
      ],
      "text/plain": [
       "  IMBD title ID            Original titlÊ  Release year                Genrë¨  \\\n",
       "0     tt0111161  The Shawshank Redemption    1995-02-10                 Drama   \n",
       "1     tt0068646             The Godfather    09 21 1972          Crime, Drama   \n",
       "2     tt0468569           The Dark Knight   23 -07-2008  Action, Crime, Drama   \n",
       "3     tt0071562    The Godfather: Part II    1975-09-25          Crime, Drama   \n",
       "4     tt0110912              Pulp Fiction    1994-10-28          Crime, Drama   \n",
       "\n",
       "  Duration Country Content Rating              Director  Unnamed: 8  \\\n",
       "0      142     USA              R        Frank Darabont         NaN   \n",
       "1      175     USA              R  Francis Ford Coppola         NaN   \n",
       "2      152      US          PG-13     Christopher Nolan         NaN   \n",
       "3      220     USA              R  Francis Ford Coppola         NaN   \n",
       "4              USA              R     Quentin Tarantino         NaN   \n",
       "\n",
       "          Income     Votes  Score  \n",
       "0     $ 28815245  2.278.845   9.3  \n",
       "1    $ 246120974  1.572.674   9.2  \n",
       "2   $ 1005455211  2.241.615    9.  \n",
       "3  $ 4o8,035,783  1.098.714  9,.0  \n",
       "4    $ 222831817  1.780.147  8,9f  "
      ]
     },
     "execution_count": 246,
     "metadata": {},
     "output_type": "execute_result"
    }
   ],
   "source": [
    "df.head()"
   ]
  },
  {
   "cell_type": "code",
   "execution_count": 247,
   "metadata": {},
   "outputs": [
    {
     "data": {
      "text/plain": [
       "(101, 12)"
      ]
     },
     "execution_count": 247,
     "metadata": {},
     "output_type": "execute_result"
    }
   ],
   "source": [
    "df.shape"
   ]
  },
  {
   "cell_type": "code",
   "execution_count": 248,
   "metadata": {},
   "outputs": [
    {
     "data": {
      "text/plain": [
       "IMBD title ID      object\n",
       "Original titlÊ     object\n",
       "Release year       object\n",
       "Genrë¨             object\n",
       "Duration           object\n",
       "Country            object\n",
       "Content Rating     object\n",
       "Director           object\n",
       "Unnamed: 8        float64\n",
       "Income             object\n",
       " Votes             object\n",
       "Score              object\n",
       "dtype: object"
      ]
     },
     "execution_count": 248,
     "metadata": {},
     "output_type": "execute_result"
    }
   ],
   "source": [
    "df.dtypes"
   ]
  },
  {
   "cell_type": "code",
   "execution_count": 249,
   "metadata": {},
   "outputs": [],
   "source": [
    "df.drop(['Unnamed: 8', 'IMBD title ID'], axis=1, inplace=True)"
   ]
  },
  {
   "cell_type": "code",
   "execution_count": 250,
   "metadata": {},
   "outputs": [],
   "source": [
    "df.rename(columns={'Original titlÊ': 'Original Title', 'Genrë¨': 'Genre',  ' Votes': 'Votes'}, inplace=True)"
   ]
  },
  {
   "cell_type": "code",
   "execution_count": 251,
   "metadata": {},
   "outputs": [
    {
     "data": {
      "text/plain": [
       "Original Title     1\n",
       "Release year       1\n",
       "Genre              1\n",
       "Duration           2\n",
       "Country            1\n",
       "Content Rating    24\n",
       "Director           1\n",
       "Income             1\n",
       " Votes             1\n",
       "Score              1\n",
       "dtype: int64"
      ]
     },
     "execution_count": 251,
     "metadata": {},
     "output_type": "execute_result"
    }
   ],
   "source": [
    "df.isnull().sum()"
   ]
  },
  {
   "cell_type": "code",
   "execution_count": 252,
   "metadata": {},
   "outputs": [
    {
     "data": {
      "text/html": [
       "<div>\n",
       "<style scoped>\n",
       "    .dataframe tbody tr th:only-of-type {\n",
       "        vertical-align: middle;\n",
       "    }\n",
       "\n",
       "    .dataframe tbody tr th {\n",
       "        vertical-align: top;\n",
       "    }\n",
       "\n",
       "    .dataframe thead th {\n",
       "        text-align: right;\n",
       "    }\n",
       "</style>\n",
       "<table border=\"1\" class=\"dataframe\">\n",
       "  <thead>\n",
       "    <tr style=\"text-align: right;\">\n",
       "      <th></th>\n",
       "      <th>Original Title</th>\n",
       "      <th>Release year</th>\n",
       "      <th>Genre</th>\n",
       "      <th>Duration</th>\n",
       "      <th>Country</th>\n",
       "      <th>Content Rating</th>\n",
       "      <th>Director</th>\n",
       "      <th>Income</th>\n",
       "      <th>Votes</th>\n",
       "      <th>Score</th>\n",
       "    </tr>\n",
       "  </thead>\n",
       "  <tbody>\n",
       "    <tr>\n",
       "      <th>13</th>\n",
       "      <td>NaN</td>\n",
       "      <td>NaN</td>\n",
       "      <td>NaN</td>\n",
       "      <td>NaN</td>\n",
       "      <td>NaN</td>\n",
       "      <td>NaN</td>\n",
       "      <td>NaN</td>\n",
       "      <td>NaN</td>\n",
       "      <td>NaN</td>\n",
       "      <td>NaN</td>\n",
       "    </tr>\n",
       "  </tbody>\n",
       "</table>\n",
       "</div>"
      ],
      "text/plain": [
       "   Original Title Release year Genre Duration Country Content Rating Director  \\\n",
       "13            NaN          NaN   NaN      NaN     NaN            NaN      NaN   \n",
       "\n",
       "   Income  Votes  Score  \n",
       "13    NaN     NaN   NaN  "
      ]
     },
     "execution_count": 252,
     "metadata": {},
     "output_type": "execute_result"
    }
   ],
   "source": [
    "null_mask = df['Original Title'].isnull()\n",
    "null_rows = df[null_mask]\n",
    "null_rows"
   ]
  },
  {
   "cell_type": "code",
   "execution_count": 253,
   "metadata": {},
   "outputs": [
    {
     "data": {
      "text/html": [
       "<div>\n",
       "<style scoped>\n",
       "    .dataframe tbody tr th:only-of-type {\n",
       "        vertical-align: middle;\n",
       "    }\n",
       "\n",
       "    .dataframe tbody tr th {\n",
       "        vertical-align: top;\n",
       "    }\n",
       "\n",
       "    .dataframe thead th {\n",
       "        text-align: right;\n",
       "    }\n",
       "</style>\n",
       "<table border=\"1\" class=\"dataframe\">\n",
       "  <thead>\n",
       "    <tr style=\"text-align: right;\">\n",
       "      <th></th>\n",
       "      <th>Original Title</th>\n",
       "      <th>Release year</th>\n",
       "      <th>Genre</th>\n",
       "      <th>Duration</th>\n",
       "      <th>Country</th>\n",
       "      <th>Content Rating</th>\n",
       "      <th>Director</th>\n",
       "      <th>Income</th>\n",
       "      <th>Votes</th>\n",
       "      <th>Score</th>\n",
       "    </tr>\n",
       "  </thead>\n",
       "  <tbody>\n",
       "    <tr>\n",
       "      <th>13</th>\n",
       "      <td>NaN</td>\n",
       "      <td>NaN</td>\n",
       "      <td>NaN</td>\n",
       "      <td>NaN</td>\n",
       "      <td>NaN</td>\n",
       "      <td>NaN</td>\n",
       "      <td>NaN</td>\n",
       "      <td>NaN</td>\n",
       "      <td>NaN</td>\n",
       "      <td>NaN</td>\n",
       "    </tr>\n",
       "    <tr>\n",
       "      <th>14</th>\n",
       "      <td>The Matrix</td>\n",
       "      <td>1999-05-07</td>\n",
       "      <td>Action, Sci-Fi</td>\n",
       "      <td>NaN</td>\n",
       "      <td>USA</td>\n",
       "      <td>R</td>\n",
       "      <td>Lana Wachowski, Lilly Wachowski</td>\n",
       "      <td>$ 465718588</td>\n",
       "      <td>1.632.315</td>\n",
       "      <td>++8.7</td>\n",
       "    </tr>\n",
       "  </tbody>\n",
       "</table>\n",
       "</div>"
      ],
      "text/plain": [
       "   Original Title Release year           Genre Duration Country  \\\n",
       "13            NaN          NaN             NaN      NaN     NaN   \n",
       "14     The Matrix   1999-05-07  Action, Sci-Fi      NaN     USA   \n",
       "\n",
       "   Content Rating                         Director       Income     Votes   \\\n",
       "13            NaN                              NaN          NaN        NaN   \n",
       "14              R  Lana Wachowski, Lilly Wachowski  $ 465718588  1.632.315   \n",
       "\n",
       "    Score  \n",
       "13    NaN  \n",
       "14  ++8.7  "
      ]
     },
     "execution_count": 253,
     "metadata": {},
     "output_type": "execute_result"
    }
   ],
   "source": [
    "null_mask = df['Duration'].isnull()\n",
    "null_rows = df[null_mask]\n",
    "null_rows"
   ]
  },
  {
   "cell_type": "code",
   "execution_count": 254,
   "metadata": {},
   "outputs": [],
   "source": [
    "df = df.drop(df.index[13])"
   ]
  },
  {
   "cell_type": "code",
   "execution_count": 255,
   "metadata": {},
   "outputs": [
    {
     "data": {
      "text/plain": [
       "Original Title    0\n",
       "Release year      0\n",
       "Genre             0\n",
       "Duration          0\n",
       "Country           0\n",
       "Content Rating    0\n",
       "Director          0\n",
       "Income            0\n",
       " Votes            0\n",
       "Score             0\n",
       "dtype: int64"
      ]
     },
     "execution_count": 255,
     "metadata": {},
     "output_type": "execute_result"
    }
   ],
   "source": [
    "np.sum(df == 'NA', axis = 0) + np.sum(df == 'N/A', axis = 0)"
   ]
  },
  {
   "cell_type": "code",
   "execution_count": 256,
   "metadata": {},
   "outputs": [
    {
     "name": "stdout",
     "output_type": "stream",
     "text": [
      "R            45\n",
      "NaN          23\n",
      "PG-13        12\n",
      "PG           11\n",
      "G             6\n",
      "Not Rated     1\n",
      "Approved      1\n",
      "Unrated       1\n",
      "Name: Content Rating, dtype: int64\n"
     ]
    }
   ],
   "source": [
    "with pd.option_context('display.max_rows', None):\n",
    "    print(df[\"Content Rating\"].value_counts(dropna=False))"
   ]
  },
  {
   "cell_type": "code",
   "execution_count": 257,
   "metadata": {},
   "outputs": [],
   "source": [
    "df.loc[df['Content Rating'] == 'Not Rated', 'Content Rating'] = 'Unrated'"
   ]
  },
  {
   "cell_type": "code",
   "execution_count": 258,
   "metadata": {},
   "outputs": [
    {
     "name": "stdout",
     "output_type": "stream",
     "text": [
      "Drama                            9\n",
      "Crime, Drama                     8\n",
      "Action, Adventure, Drama         6\n",
      "Crime, Drama, Thriller           4\n",
      "Biography, Drama, History        3\n",
      "Action, Adventure, Sci-Fi        3\n",
      "Animation, Adventure, Family     3\n",
      "Western                          3\n",
      "Action, Adventure, Fantasy       3\n",
      "Drama, War                       3\n",
      "Action, Adventure                2\n",
      "Animation, Adventure, Comedy     2\n",
      "Mystery, Thriller                2\n",
      "Action, Sci-Fi                   2\n",
      "Drama, Romance                   2\n",
      "Action, Crime, Drama             2\n",
      "Drama, Romance, Sci-Fi           1\n",
      "Drama, Mystery, Thriller         1\n",
      "Comedy, Drama                    1\n",
      "Animation, Adventure, Fantasy    1\n",
      "Comedy, Drama, War               1\n",
      "Drama, Film-Noir                 1\n",
      "Adventure, Drama, War            1\n",
      "Animation, Action, Adventure     1\n",
      "Drama, Mystery                   1\n",
      "Comedy, Crime                    1\n",
      "Crime, Drama, Sci-Fi             1\n",
      "Comedy, Romance                  1\n",
      "Adventure, Sci-Fi                1\n",
      "Action, Drama, Mystery           1\n",
      "Mystery, Romance, Thriller       1\n",
      "Adventure, Mystery, Thriller     1\n",
      "Adventure, Biography, Drama      1\n",
      "Comedy, Crime, Drama             1\n",
      "Adventure, Drama, Thriller       1\n",
      "Comedy                           1\n",
      "Animation, Drama, War            1\n",
      "Drama, Mystery, War              1\n",
      "Horror, Sci-Fi                   1\n",
      "Biography, Crime, Drama          1\n",
      "Adventure, Drama, Sci-Fi         1\n",
      "Crime, Drama, Mystery            1\n",
      "Crime, Drama, Fantasy            1\n",
      "Comedy, Drama, Romance           1\n",
      "Comedy, Drama, Thriller          1\n",
      "Drama, Family, Fantasy           1\n",
      "Drama, Mystery, Sci-Fi           1\n",
      "Adventure, Comedy, Sci-Fi        1\n",
      "Crime, Mystery, Thriller         1\n",
      "Animation, Adventure, Drama      1\n",
      "Biography, Comedy, Drama         1\n",
      "Biography, Drama, Music          1\n",
      "Drama, Music                     1\n",
      "Horror, Mystery, Thriller        1\n",
      "Drama, Romance, War              1\n",
      "Comedy, Drama, Family            1\n",
      "Drama, Western                   1\n",
      "Drama, Horror                    1\n",
      "Comedy, Musical, Romance         1\n",
      "Name: Genre, dtype: int64\n"
     ]
    }
   ],
   "source": [
    "with pd.option_context('display.max_rows', None):\n",
    "    print(df[\"Genre\"].value_counts(dropna=False))"
   ]
  },
  {
   "cell_type": "code",
   "execution_count": 259,
   "metadata": {},
   "outputs": [],
   "source": [
    "# I attempted to code each genre as a seperate column but i did not do it properly, here is the code I tried.\n",
    "\n",
    "# # split the \"Genre\" column by comma and create a new DataFrame with dummy variables\n",
    "# genre_dummies = df['Genre'].str.get_dummies(', ')\n",
    "\n",
    "# # concatenate the original DataFrame and the dummy variables DataFrame\n",
    "# df = pd.concat([df, genre_dummies], axis=1)\n",
    "\n",
    "# df.drop(['Genre'], axis=1, inplace=True)"
   ]
  },
  {
   "cell_type": "code",
   "execution_count": 260,
   "metadata": {},
   "outputs": [
    {
     "data": {
      "text/html": [
       "<div>\n",
       "<style scoped>\n",
       "    .dataframe tbody tr th:only-of-type {\n",
       "        vertical-align: middle;\n",
       "    }\n",
       "\n",
       "    .dataframe tbody tr th {\n",
       "        vertical-align: top;\n",
       "    }\n",
       "\n",
       "    .dataframe thead th {\n",
       "        text-align: right;\n",
       "    }\n",
       "</style>\n",
       "<table border=\"1\" class=\"dataframe\">\n",
       "  <thead>\n",
       "    <tr style=\"text-align: right;\">\n",
       "      <th></th>\n",
       "      <th>Original Title</th>\n",
       "      <th>Release year</th>\n",
       "      <th>Genre</th>\n",
       "      <th>Duration</th>\n",
       "      <th>Country</th>\n",
       "      <th>Content Rating</th>\n",
       "      <th>Director</th>\n",
       "      <th>Income</th>\n",
       "      <th>Votes</th>\n",
       "      <th>Score</th>\n",
       "    </tr>\n",
       "  </thead>\n",
       "  <tbody>\n",
       "    <tr>\n",
       "      <th>0</th>\n",
       "      <td>The Shawshank Redemption</td>\n",
       "      <td>1995-02-10</td>\n",
       "      <td>Drama</td>\n",
       "      <td>142</td>\n",
       "      <td>USA</td>\n",
       "      <td>R</td>\n",
       "      <td>Frank Darabont</td>\n",
       "      <td>$ 28815245</td>\n",
       "      <td>2.278.845</td>\n",
       "      <td>9.3</td>\n",
       "    </tr>\n",
       "    <tr>\n",
       "      <th>1</th>\n",
       "      <td>The Godfather</td>\n",
       "      <td>09 21 1972</td>\n",
       "      <td>Crime, Drama</td>\n",
       "      <td>175</td>\n",
       "      <td>USA</td>\n",
       "      <td>R</td>\n",
       "      <td>Francis Ford Coppola</td>\n",
       "      <td>$ 246120974</td>\n",
       "      <td>1.572.674</td>\n",
       "      <td>9.2</td>\n",
       "    </tr>\n",
       "    <tr>\n",
       "      <th>2</th>\n",
       "      <td>The Dark Knight</td>\n",
       "      <td>23 -07-2008</td>\n",
       "      <td>Action, Crime, Drama</td>\n",
       "      <td>152</td>\n",
       "      <td>US</td>\n",
       "      <td>PG-13</td>\n",
       "      <td>Christopher Nolan</td>\n",
       "      <td>$ 1005455211</td>\n",
       "      <td>2.241.615</td>\n",
       "      <td>9.</td>\n",
       "    </tr>\n",
       "    <tr>\n",
       "      <th>3</th>\n",
       "      <td>The Godfather: Part II</td>\n",
       "      <td>1975-09-25</td>\n",
       "      <td>Crime, Drama</td>\n",
       "      <td>220</td>\n",
       "      <td>USA</td>\n",
       "      <td>R</td>\n",
       "      <td>Francis Ford Coppola</td>\n",
       "      <td>$ 4o8,035,783</td>\n",
       "      <td>1.098.714</td>\n",
       "      <td>9,.0</td>\n",
       "    </tr>\n",
       "    <tr>\n",
       "      <th>4</th>\n",
       "      <td>Pulp Fiction</td>\n",
       "      <td>1994-10-28</td>\n",
       "      <td>Crime, Drama</td>\n",
       "      <td></td>\n",
       "      <td>USA</td>\n",
       "      <td>R</td>\n",
       "      <td>Quentin Tarantino</td>\n",
       "      <td>$ 222831817</td>\n",
       "      <td>1.780.147</td>\n",
       "      <td>8,9f</td>\n",
       "    </tr>\n",
       "  </tbody>\n",
       "</table>\n",
       "</div>"
      ],
      "text/plain": [
       "             Original Title  Release year                 Genre Duration  \\\n",
       "0  The Shawshank Redemption    1995-02-10                 Drama      142   \n",
       "1             The Godfather    09 21 1972          Crime, Drama      175   \n",
       "2           The Dark Knight   23 -07-2008  Action, Crime, Drama      152   \n",
       "3    The Godfather: Part II    1975-09-25          Crime, Drama      220   \n",
       "4              Pulp Fiction    1994-10-28          Crime, Drama            \n",
       "\n",
       "  Country Content Rating              Director         Income     Votes  Score  \n",
       "0     USA              R        Frank Darabont     $ 28815245  2.278.845   9.3  \n",
       "1     USA              R  Francis Ford Coppola    $ 246120974  1.572.674   9.2  \n",
       "2      US          PG-13     Christopher Nolan   $ 1005455211  2.241.615    9.  \n",
       "3     USA              R  Francis Ford Coppola  $ 4o8,035,783  1.098.714  9,.0  \n",
       "4     USA              R     Quentin Tarantino    $ 222831817  1.780.147  8,9f  "
      ]
     },
     "execution_count": 260,
     "metadata": {},
     "output_type": "execute_result"
    }
   ],
   "source": [
    "df.head()"
   ]
  },
  {
   "cell_type": "code",
   "execution_count": 261,
   "metadata": {},
   "outputs": [
    {
     "name": "stdout",
     "output_type": "stream",
     "text": [
      "USA             62\n",
      "UK              12\n",
      "Italy            4\n",
      "Japan            4\n",
      "France           3\n",
      "South Korea      2\n",
      "Germany          2\n",
      "New Zesland      1\n",
      "New Zealand      1\n",
      "New Zeland       1\n",
      "US.              1\n",
      "Brazil           1\n",
      "US               1\n",
      "Italy1           1\n",
      "India            1\n",
      "Denmark          1\n",
      "West Germany     1\n",
      "Iran             1\n",
      "Name: Country, dtype: int64\n"
     ]
    }
   ],
   "source": [
    "with pd.option_context('display.max_rows', None):\n",
    "    print(df[\"Country\"].value_counts(dropna=False))"
   ]
  },
  {
   "cell_type": "code",
   "execution_count": 262,
   "metadata": {},
   "outputs": [],
   "source": [
    "df.loc[df['Country'] == 'US', 'Country'] = 'USA'\n",
    "df.loc[df['Country'] == 'US.', 'Country'] = 'USA'\n",
    "df.loc[df['Country'] == 'West Germany', 'Country'] = 'Germany'\n",
    "df.loc[df['Country'] == 'New Zesland', 'Country'] = 'New Zealand'\n",
    "df.loc[df['Country'] == 'New Zeland', 'Country'] = 'New Zealand'\n",
    "df.loc[df['Country'] == 'Italy1', 'Country'] = 'Italy'\n"
   ]
  },
  {
   "cell_type": "code",
   "execution_count": 263,
   "metadata": {},
   "outputs": [
    {
     "name": "stdout",
     "output_type": "stream",
     "text": [
      "$ 28815245       1\n",
      "$ 77356942       1\n",
      "$ 475347111      1\n",
      "$ 213216216      1\n",
      "$ 356296601      1\n",
      "$ 321455689      1\n",
      "$ 299645         1\n",
      "$ 969879         1\n",
      "$ 5472914        1\n",
      "$ 169785629      1\n",
      "$ 60262836       1\n",
      "$ 375540831      1\n",
      "$ 807083670      1\n",
      "$ 246120974      1\n",
      "$ 37032034       1\n",
      "$ 9443876        1\n",
      "$ 15002116       1\n",
      "$ 91968688       1\n",
      "$ 2797800564     1\n",
      "$ 108110316      1\n",
      "$ 2048359754     1\n",
      "$ 390133212      1\n",
      "$ 46520613       1\n",
      "$ 521311860      1\n",
      "$ 2889963        1\n",
      "$ 74036715       1\n",
      "$ 404265438      1\n",
      "$ 225933435      1\n",
      "$ 22926076       1\n",
      "$ 15000000       1\n",
      "$ 11487676       1\n",
      "$ 156000000      1\n",
      "$ 45710874       1\n",
      "$ 15843274       1\n",
      "$ 73446          1\n",
      "$ 7796389        1\n",
      "$ 52066791       1\n",
      "$ 384857224      1\n",
      "$ 1594107        1\n",
      "$ 68989547       1\n",
      "$ 131384634      1\n",
      "$ 46357676       1\n",
      "$ 173924742      1\n",
      "$ 28441292       1\n",
      "$ 66023585       1\n",
      "$ 1066969703     1\n",
      "$ 26903440       1\n",
      "$ 7390108        1\n",
      "$ 83557872       1\n",
      "$ 39970386       1\n",
      "$ 425368238      1\n",
      "$ 1081133191     1\n",
      "$ 30680793       1\n",
      "$ 482349603      1\n",
      "$ 775768912      1\n",
      "$ 272753884      1\n",
      "$ 327333559      1\n",
      "$ 696742056      1\n",
      "$ 108997629      1\n",
      "$ 46879633       1\n",
      "$ 549265501      1\n",
      "$ 951227416      1\n",
      "$ 465718588      1\n",
      "$ 25252481       1\n",
      "$ 887934303      1\n",
      "$ 678229452      1\n",
      "$ 101218804      1\n",
      "$ 869784991      1\n",
      "$ 576            1\n",
      "$ 322287794      1\n",
      "$ 1142271098     1\n",
      "$ 222831817      1\n",
      "$ 4o8,035,783    1\n",
      "$ 1005455211     1\n",
      "$ 286801374      1\n",
      "$ 355467056      1\n",
      "$ 457688         1\n",
      "$ 230098753      1\n",
      "$ 13826605       1\n",
      "$ 516962         1\n",
      "$ 112911         1\n",
      "$ 4374761        1\n",
      "$ 32008644       1\n",
      "$ 48983260       1\n",
      "$ 120072577      1\n",
      "$ 426588510      1\n",
      "$ 1074251311     1\n",
      "$ 968511805      1\n",
      "$ 23341568       1\n",
      "$ 520884847      1\n",
      "$ 19552639       1\n",
      "$ 23875127       1\n",
      "$ 388774684      1\n",
      "$ 109676311      1\n",
      "$ 291465034      1\n",
      "$ 465361176      1\n",
      "$ 322773         1\n",
      "$ 6130720        1\n",
      "$ 257604912      1\n",
      "$ 1864182        1\n",
      "Name: Income, dtype: int64\n"
     ]
    }
   ],
   "source": [
    "with pd.option_context('display.max_rows', None):\n",
    "    print(df[\"Income\"].value_counts(dropna=False))"
   ]
  },
  {
   "cell_type": "code",
   "execution_count": 264,
   "metadata": {},
   "outputs": [
    {
     "name": "stderr",
     "output_type": "stream",
     "text": [
      "/var/folders/4b/z0w6x5_n59g_x_9s3qnbx_p80000gn/T/ipykernel_58828/2246345171.py:2: FutureWarning: The default value of regex will change from True to False in a future version. In addition, single character regular expressions will *not* be treated as literal strings when regex=True.\n",
      "  df['Income'] = df['Income'].str.replace('$', '').str.replace(',', '')\n"
     ]
    }
   ],
   "source": [
    "df.loc[df['Income'] == '$ 4o8,035,783', 'Income'] = '$ 408,035,783'\n",
    "df['Income'] = df['Income'].str.replace('$', '').str.replace(',', '')"
   ]
  },
  {
   "cell_type": "code",
   "execution_count": 265,
   "metadata": {},
   "outputs": [
    {
     "data": {
      "text/html": [
       "<div>\n",
       "<style scoped>\n",
       "    .dataframe tbody tr th:only-of-type {\n",
       "        vertical-align: middle;\n",
       "    }\n",
       "\n",
       "    .dataframe tbody tr th {\n",
       "        vertical-align: top;\n",
       "    }\n",
       "\n",
       "    .dataframe thead th {\n",
       "        text-align: right;\n",
       "    }\n",
       "</style>\n",
       "<table border=\"1\" class=\"dataframe\">\n",
       "  <thead>\n",
       "    <tr style=\"text-align: right;\">\n",
       "      <th></th>\n",
       "      <th>Original Title</th>\n",
       "      <th>Release year</th>\n",
       "      <th>Genre</th>\n",
       "      <th>Duration</th>\n",
       "      <th>Country</th>\n",
       "      <th>Content Rating</th>\n",
       "      <th>Director</th>\n",
       "      <th>Income</th>\n",
       "      <th>Votes</th>\n",
       "      <th>Score</th>\n",
       "    </tr>\n",
       "  </thead>\n",
       "  <tbody>\n",
       "    <tr>\n",
       "      <th>0</th>\n",
       "      <td>The Shawshank Redemption</td>\n",
       "      <td>1995-02-10</td>\n",
       "      <td>Drama</td>\n",
       "      <td>142</td>\n",
       "      <td>USA</td>\n",
       "      <td>R</td>\n",
       "      <td>Frank Darabont</td>\n",
       "      <td>28815245</td>\n",
       "      <td>2.278.845</td>\n",
       "      <td>9.3</td>\n",
       "    </tr>\n",
       "    <tr>\n",
       "      <th>1</th>\n",
       "      <td>The Godfather</td>\n",
       "      <td>09 21 1972</td>\n",
       "      <td>Crime, Drama</td>\n",
       "      <td>175</td>\n",
       "      <td>USA</td>\n",
       "      <td>R</td>\n",
       "      <td>Francis Ford Coppola</td>\n",
       "      <td>246120974</td>\n",
       "      <td>1.572.674</td>\n",
       "      <td>9.2</td>\n",
       "    </tr>\n",
       "    <tr>\n",
       "      <th>2</th>\n",
       "      <td>The Dark Knight</td>\n",
       "      <td>23 -07-2008</td>\n",
       "      <td>Action, Crime, Drama</td>\n",
       "      <td>152</td>\n",
       "      <td>USA</td>\n",
       "      <td>PG-13</td>\n",
       "      <td>Christopher Nolan</td>\n",
       "      <td>1005455211</td>\n",
       "      <td>2.241.615</td>\n",
       "      <td>9.</td>\n",
       "    </tr>\n",
       "    <tr>\n",
       "      <th>3</th>\n",
       "      <td>The Godfather: Part II</td>\n",
       "      <td>1975-09-25</td>\n",
       "      <td>Crime, Drama</td>\n",
       "      <td>220</td>\n",
       "      <td>USA</td>\n",
       "      <td>R</td>\n",
       "      <td>Francis Ford Coppola</td>\n",
       "      <td>408035783</td>\n",
       "      <td>1.098.714</td>\n",
       "      <td>9,.0</td>\n",
       "    </tr>\n",
       "    <tr>\n",
       "      <th>4</th>\n",
       "      <td>Pulp Fiction</td>\n",
       "      <td>1994-10-28</td>\n",
       "      <td>Crime, Drama</td>\n",
       "      <td></td>\n",
       "      <td>USA</td>\n",
       "      <td>R</td>\n",
       "      <td>Quentin Tarantino</td>\n",
       "      <td>222831817</td>\n",
       "      <td>1.780.147</td>\n",
       "      <td>8,9f</td>\n",
       "    </tr>\n",
       "  </tbody>\n",
       "</table>\n",
       "</div>"
      ],
      "text/plain": [
       "             Original Title  Release year                 Genre Duration  \\\n",
       "0  The Shawshank Redemption    1995-02-10                 Drama      142   \n",
       "1             The Godfather    09 21 1972          Crime, Drama      175   \n",
       "2           The Dark Knight   23 -07-2008  Action, Crime, Drama      152   \n",
       "3    The Godfather: Part II    1975-09-25          Crime, Drama      220   \n",
       "4              Pulp Fiction    1994-10-28          Crime, Drama            \n",
       "\n",
       "  Country Content Rating              Director       Income     Votes  Score  \n",
       "0     USA              R        Frank Darabont     28815245  2.278.845   9.3  \n",
       "1     USA              R  Francis Ford Coppola    246120974  1.572.674   9.2  \n",
       "2     USA          PG-13     Christopher Nolan   1005455211  2.241.615    9.  \n",
       "3     USA              R  Francis Ford Coppola    408035783  1.098.714  9,.0  \n",
       "4     USA              R     Quentin Tarantino    222831817  1.780.147  8,9f  "
      ]
     },
     "execution_count": 265,
     "metadata": {},
     "output_type": "execute_result"
    }
   ],
   "source": [
    "df.head()"
   ]
  },
  {
   "cell_type": "code",
   "execution_count": 266,
   "metadata": {},
   "outputs": [],
   "source": [
    "# This was also running an error for me and I cannot figure out why.\n",
    "\n",
    "# with pd.option_context('display.max_rows', None):\n",
    "#     print(df[\"Votes\"].value_counts(dropna=False))\n",
    "# df['Votes'] = df['Votes'].str.replace('.', '')"
   ]
  },
  {
   "cell_type": "code",
   "execution_count": 267,
   "metadata": {},
   "outputs": [],
   "source": [
    "df[\"Income\"] = df[\"Income\"].astype(np.int64)"
   ]
  },
  {
   "cell_type": "code",
   "execution_count": 268,
   "metadata": {},
   "outputs": [],
   "source": [
    "# Getting an error for this but I am not sure why\n",
    "\n",
    "# df[\"Duration\"] = df[\"Duration\"].astype(np.int64)"
   ]
  },
  {
   "cell_type": "code",
   "execution_count": null,
   "metadata": {},
   "outputs": [],
   "source": []
  }
 ],
 "metadata": {
  "kernelspec": {
   "display_name": "Python 3",
   "language": "python",
   "name": "python3"
  },
  "language_info": {
   "codemirror_mode": {
    "name": "ipython",
    "version": 3
   },
   "file_extension": ".py",
   "mimetype": "text/x-python",
   "name": "python",
   "nbconvert_exporter": "python",
   "pygments_lexer": "ipython3",
   "version": "3.10.4"
  },
  "orig_nbformat": 4,
  "vscode": {
   "interpreter": {
    "hash": "aee8b7b246df8f9039afb4144a1f6fd8d2ca17a180786b69acc140d282b71a49"
   }
  }
 },
 "nbformat": 4,
 "nbformat_minor": 2
}
