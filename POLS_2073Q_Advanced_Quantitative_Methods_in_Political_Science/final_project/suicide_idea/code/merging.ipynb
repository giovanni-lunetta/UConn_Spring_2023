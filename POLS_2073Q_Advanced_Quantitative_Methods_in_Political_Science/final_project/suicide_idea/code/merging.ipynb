{
 "cells": [
  {
   "cell_type": "code",
   "execution_count": 80,
   "metadata": {},
   "outputs": [],
   "source": [
    "import pandas as pd\n",
    "\n",
    "healthcare_spending = pd.read_csv(\"/Users/giovanni-lunetta/pols2073q-spring-2023/final_project/suicide_idea/data/healthcare_spending.csv\")\n",
    "social_support = pd.read_csv(\"/Users/giovanni-lunetta/pols2073q-spring-2023/final_project/suicide_idea/data/social_support.csv\")\n",
    "suicide_rates = pd.read_csv(\"/Users/giovanni-lunetta/pols2073q-spring-2023/final_project/suicide_idea/data/suicide_rates.csv\")\n",
    "happiness = pd.read_csv(\"/Users/giovanni-lunetta/pols2073q-spring-2023/final_project/suicide_idea/data/World Happiness Report 2005-2021.csv\")\n",
    "alcohol = pd.read_csv(\"/Users/giovanni-lunetta/pols2073q-spring-2023/final_project/suicide_idea/data/alcohol_consumption.csv\")"
   ]
  },
  {
   "cell_type": "code",
   "execution_count": 81,
   "metadata": {},
   "outputs": [],
   "source": [
    "import pandas as pd\n",
    "\n",
    "# create a list of country names\n",
    "country_names = ['Australia', 'Austria', 'Belgium', 'Canada', 'Czech Republic', 'Denmark', 'Finland', 'France', 'Germany',\n",
    "                 'Greece', 'Hungary', 'Iceland', 'Ireland', 'Italy', 'Japan', 'South Korea', 'Luxembourg', 'Mexico',\n",
    "                 'Netherlands', 'New Zealand', 'Norway', 'Poland', 'Portugal', 'Slovakia', 'Spain', 'Sweden', 'Switzerland',\n",
    "                 'United Kingdom', 'United States of America', 'Brazil', 'Chile', 'Estonia', 'Israel', 'Russia', 'Slovenia',\n",
    "                 'South Africa', 'Turkey', 'Colombia', 'Latvia', 'Lithuania', 'Costa Rica', 'Argentina', 'Bulgaria',\n",
    "                 'Croatia', 'Peru', 'Romania']\n",
    "\n",
    "\n",
    "# subset the dataframe using isin() method\n",
    "happiness = happiness[happiness['Country name'].isin(country_names)]"
   ]
  },
  {
   "cell_type": "code",
   "execution_count": 83,
   "metadata": {},
   "outputs": [],
   "source": [
    "# Define the dictionary mapping country names to abbreviations\n",
    "country_to_abbrev = {\n",
    "    'Australia': 'AUS',\n",
    "    'Austria': 'AUT',\n",
    "    'Belgium': 'BEL',\n",
    "    'Canada': 'CAN',\n",
    "    'Czech Republic': 'CZE',\n",
    "    'Denmark': 'DNK',\n",
    "    'Finland': 'FIN',\n",
    "    'France': 'FRA',\n",
    "    'Germany': 'DEU',\n",
    "    'Greece': 'GRC',\n",
    "    'Hungary': 'HUN',\n",
    "    'Iceland': 'ISL',\n",
    "    'Ireland': 'IRL',\n",
    "    'Italy': 'ITA',\n",
    "    'Japan': 'JPN',\n",
    "    'South Korea': 'KOR',\n",
    "    'Luxembourg': 'LUX',\n",
    "    'Mexico': 'MEX',\n",
    "    'Netherlands': 'NLD',\n",
    "    'New Zealand': 'NZL',\n",
    "    'Norway': 'NOR',\n",
    "    'Poland': 'POL',\n",
    "    'Portugal': 'PRT',\n",
    "    'Slovakia': 'SVK',\n",
    "    'Spain': 'ESP',\n",
    "    'Sweden': 'SWE',\n",
    "    'Switzerland': 'CHE',\n",
    "    'United Kingdom': 'GBR',\n",
    "    'United States': 'USA',\n",
    "    'Brazil': 'BRA',\n",
    "    'Chile': 'CHL',\n",
    "    'Estonia': 'EST',\n",
    "    'Israel': 'ISR',\n",
    "    'Russia': 'RUS',\n",
    "    'Slovenia': 'SVN',\n",
    "    'South Africa': 'ZAF',\n",
    "    'Turkey': 'TUR',\n",
    "    'Colombia': 'COL',\n",
    "    'Latvia': 'LVA',\n",
    "    'Lithuania': 'LTU',\n",
    "    'Costa Rica': 'CRI',\n",
    "    'Argentina': 'ARG',\n",
    "    'Bulgaria': 'BGR',\n",
    "    'Croatia': 'HRV',\n",
    "    'Peru': 'PER',\n",
    "    'Romania': 'ROU'\n",
    "}\n",
    "\n",
    "# Use the map() function to apply the mapping to the 'Country name' column\n",
    "happiness['LOCATION'] = happiness['Country name'].map(country_to_abbrev)\n"
   ]
  },
  {
   "cell_type": "code",
   "execution_count": 84,
   "metadata": {},
   "outputs": [
    {
     "name": "stdout",
     "output_type": "stream",
     "text": [
      "(835, 8)\n",
      "(637, 8)\n",
      "(669, 8)\n",
      "(654, 13)\n",
      "(751, 8)\n"
     ]
    }
   ],
   "source": [
    "print(healthcare_spending.shape)\n",
    "print(social_support.shape)\n",
    "print(suicide_rates.shape)\n",
    "print(happiness.shape)\n",
    "print(alcohol.shape)"
   ]
  },
  {
   "cell_type": "code",
   "execution_count": 85,
   "metadata": {},
   "outputs": [
    {
     "name": "stdout",
     "output_type": "stream",
     "text": [
      "53\n",
      "41\n",
      "46\n",
      "44\n",
      "49\n"
     ]
    }
   ],
   "source": [
    "print(len(healthcare_spending['LOCATION'].unique()))\n",
    "print(len(social_support['LOCATION'].unique()))\n",
    "print(len(suicide_rates['LOCATION'].unique()))\n",
    "print(len(happiness['LOCATION'].unique()))\n",
    "print(len(alcohol['LOCATION'].unique()))"
   ]
  },
  {
   "cell_type": "code",
   "execution_count": 86,
   "metadata": {},
   "outputs": [],
   "source": [
    "healthcare_spending = healthcare_spending.drop(['INDICATOR', 'SUBJECT', 'MEASURE', 'FREQUENCY', 'Flag Codes'], axis=1)\n",
    "social_support = social_support.drop(['INDICATOR', 'SUBJECT', 'MEASURE', 'FREQUENCY', 'Flag Codes'], axis=1)\n",
    "suicide_rates = suicide_rates.drop(['INDICATOR', 'SUBJECT', 'MEASURE', 'FREQUENCY', 'Flag Codes'], axis=1)\n",
    "happiness = happiness.drop(['Country name',\n",
    "       'Social support', 'Healthy life expectancy at birth',\n",
    "       'Perceptions of corruption', 'Positive affect', 'Negative affect',\n",
    "       'Confidence in national government'], axis=1)\n",
    "alcohol = alcohol.drop(['INDICATOR', 'SUBJECT', 'MEASURE', 'FREQUENCY', 'Flag Codes'], axis=1)\n"
   ]
  },
  {
   "cell_type": "code",
   "execution_count": 87,
   "metadata": {},
   "outputs": [],
   "source": [
    "# Rename the 'Value' column to 'healthcare_spending_by_pc_of_gdp'\n",
    "healthcare_spending = healthcare_spending.rename(columns={'Value': 'healthcare_spending'})"
   ]
  },
  {
   "cell_type": "code",
   "execution_count": 88,
   "metadata": {},
   "outputs": [],
   "source": [
    "social_support = social_support.rename(columns={'Value': 'social_support'})"
   ]
  },
  {
   "cell_type": "code",
   "execution_count": 89,
   "metadata": {},
   "outputs": [],
   "source": [
    "suicide_rates = suicide_rates.rename(columns={'Value': 'suicide_rate'})"
   ]
  },
  {
   "cell_type": "code",
   "execution_count": 90,
   "metadata": {},
   "outputs": [],
   "source": [
    "happiness = happiness.rename(columns={'Year': 'TIME'})"
   ]
  },
  {
   "cell_type": "code",
   "execution_count": 91,
   "metadata": {},
   "outputs": [],
   "source": [
    "alcohol = alcohol.rename(columns={'Value': 'alcohol_consumption'})"
   ]
  },
  {
   "cell_type": "code",
   "execution_count": 92,
   "metadata": {},
   "outputs": [],
   "source": [
    "# Merge healthcare_spending onto social_support based on 'LOCATION' and 'TIME'\n",
    "social_support = pd.merge(social_support, healthcare_spending, on=['LOCATION', 'TIME'])\n",
    "\n",
    "social_support = pd.merge(social_support, suicide_rates, on=['LOCATION', 'TIME'])\n",
    "\n",
    "social_support = pd.merge(social_support, alcohol, on=['LOCATION', 'TIME'])\n",
    "\n",
    "df = pd.merge(social_support, happiness, on=['LOCATION', 'TIME'])"
   ]
  },
  {
   "cell_type": "code",
   "execution_count": 93,
   "metadata": {},
   "outputs": [
    {
     "data": {
      "text/html": [
       "<div>\n",
       "<style scoped>\n",
       "    .dataframe tbody tr th:only-of-type {\n",
       "        vertical-align: middle;\n",
       "    }\n",
       "\n",
       "    .dataframe tbody tr th {\n",
       "        vertical-align: top;\n",
       "    }\n",
       "\n",
       "    .dataframe thead th {\n",
       "        text-align: right;\n",
       "    }\n",
       "</style>\n",
       "<table border=\"1\" class=\"dataframe\">\n",
       "  <thead>\n",
       "    <tr style=\"text-align: right;\">\n",
       "      <th></th>\n",
       "      <th>LOCATION</th>\n",
       "      <th>TIME</th>\n",
       "      <th>social_support</th>\n",
       "      <th>healthcare_spending</th>\n",
       "      <th>suicide_rate</th>\n",
       "      <th>alcohol_consumption</th>\n",
       "      <th>Life Ladder</th>\n",
       "      <th>Log GDP per capita</th>\n",
       "      <th>Freedom to make life choices</th>\n",
       "      <th>Generosity</th>\n",
       "    </tr>\n",
       "  </thead>\n",
       "  <tbody>\n",
       "    <tr>\n",
       "      <th>0</th>\n",
       "      <td>AUS</td>\n",
       "      <td>2007</td>\n",
       "      <td>95.700469</td>\n",
       "      <td>8.059</td>\n",
       "      <td>10.7</td>\n",
       "      <td>10.8</td>\n",
       "      <td>7.285391</td>\n",
       "      <td>10.693600</td>\n",
       "      <td>0.890682</td>\n",
       "      <td>0.345244</td>\n",
       "    </tr>\n",
       "    <tr>\n",
       "      <th>1</th>\n",
       "      <td>AUS</td>\n",
       "      <td>2008</td>\n",
       "      <td>94.188943</td>\n",
       "      <td>8.254</td>\n",
       "      <td>11.1</td>\n",
       "      <td>10.8</td>\n",
       "      <td>7.253757</td>\n",
       "      <td>10.708705</td>\n",
       "      <td>0.915733</td>\n",
       "      <td>0.303524</td>\n",
       "    </tr>\n",
       "    <tr>\n",
       "      <th>2</th>\n",
       "      <td>AUS</td>\n",
       "      <td>2010</td>\n",
       "      <td>95.353709</td>\n",
       "      <td>8.423</td>\n",
       "      <td>11.0</td>\n",
       "      <td>10.4</td>\n",
       "      <td>7.450047</td>\n",
       "      <td>10.712526</td>\n",
       "      <td>0.932059</td>\n",
       "      <td>0.314949</td>\n",
       "    </tr>\n",
       "    <tr>\n",
       "      <th>3</th>\n",
       "      <td>AUS</td>\n",
       "      <td>2011</td>\n",
       "      <td>96.661780</td>\n",
       "      <td>8.540</td>\n",
       "      <td>10.9</td>\n",
       "      <td>10.2</td>\n",
       "      <td>7.405616</td>\n",
       "      <td>10.723029</td>\n",
       "      <td>0.944586</td>\n",
       "      <td>0.367531</td>\n",
       "    </tr>\n",
       "    <tr>\n",
       "      <th>4</th>\n",
       "      <td>AUS</td>\n",
       "      <td>2012</td>\n",
       "      <td>93.859693</td>\n",
       "      <td>8.675</td>\n",
       "      <td>11.5</td>\n",
       "      <td>10.0</td>\n",
       "      <td>7.195586</td>\n",
       "      <td>10.743997</td>\n",
       "      <td>0.935146</td>\n",
       "      <td>0.271807</td>\n",
       "    </tr>\n",
       "  </tbody>\n",
       "</table>\n",
       "</div>"
      ],
      "text/plain": [
       "  LOCATION  TIME  social_support  healthcare_spending  suicide_rate  \\\n",
       "0      AUS  2007       95.700469                8.059          10.7   \n",
       "1      AUS  2008       94.188943                8.254          11.1   \n",
       "2      AUS  2010       95.353709                8.423          11.0   \n",
       "3      AUS  2011       96.661780                8.540          10.9   \n",
       "4      AUS  2012       93.859693                8.675          11.5   \n",
       "\n",
       "   alcohol_consumption  Life Ladder  Log GDP per capita  \\\n",
       "0                 10.8     7.285391           10.693600   \n",
       "1                 10.8     7.253757           10.708705   \n",
       "2                 10.4     7.450047           10.712526   \n",
       "3                 10.2     7.405616           10.723029   \n",
       "4                 10.0     7.195586           10.743997   \n",
       "\n",
       "   Freedom to make life choices  Generosity  \n",
       "0                      0.890682    0.345244  \n",
       "1                      0.915733    0.303524  \n",
       "2                      0.932059    0.314949  \n",
       "3                      0.944586    0.367531  \n",
       "4                      0.935146    0.271807  "
      ]
     },
     "execution_count": 93,
     "metadata": {},
     "output_type": "execute_result"
    }
   ],
   "source": [
    "df.head()"
   ]
  },
  {
   "cell_type": "code",
   "execution_count": 94,
   "metadata": {},
   "outputs": [
    {
     "name": "stdout",
     "output_type": "stream",
     "text": [
      "           min   max\n",
      "LOCATION            \n",
      "AUS       2007  2017\n",
      "AUT       2006  2020\n",
      "BEL       2007  2018\n",
      "BRA       2007  2019\n",
      "CAN       2008  2019\n",
      "CHE       2006  2019\n",
      "CHL       2006  2018\n",
      "COL       2006  2019\n",
      "CRI       2006  2020\n",
      "DEU       2007  2019\n",
      "DNK       2007  2018\n",
      "ESP       2007  2020\n",
      "EST       2006  2020\n",
      "FIN       2006  2019\n",
      "FRA       2006  2017\n",
      "GBR       2007  2020\n",
      "GRC       2007  2019\n",
      "HUN       2007  2019\n",
      "IRL       2006  2018\n",
      "ISL       2008  2020\n",
      "ISR       2006  2019\n",
      "ITA       2007  2017\n",
      "JPN       2007  2019\n",
      "KOR       2006  2020\n",
      "LTU       2006  2020\n",
      "LUX       2010  2019\n",
      "LVA       2006  2020\n",
      "MEX       2007  2020\n",
      "NLD       2007  2020\n",
      "NOR       2006  2016\n",
      "NZL       2006  2016\n",
      "POL       2007  2019\n",
      "PRT       2008  2018\n",
      "SVK       2010  2019\n",
      "SVN       2006  2020\n",
      "SWE       2007  2018\n",
      "TUR       2009  2019\n",
      "ZAF       2006  2018\n"
     ]
    }
   ],
   "source": [
    "# Group the data by 'LOCATION' and get the minimum and maximum values of 'TIME'\n",
    "location_time_range = df.groupby('LOCATION')['TIME'].agg(['min', 'max'])\n",
    "\n",
    "# Print the result\n",
    "print(location_time_range)"
   ]
  },
  {
   "cell_type": "code",
   "execution_count": 95,
   "metadata": {},
   "outputs": [],
   "source": [
    "df.to_csv(\"/Users/giovanni-lunetta/pols2073q-spring-2023/final_project/suicide_idea/data/happiness_data.csv\", index=False)"
   ]
  },
  {
   "cell_type": "code",
   "execution_count": 79,
   "metadata": {},
   "outputs": [
    {
     "data": {
      "text/plain": [
       "Index(['LOCATION', 'TIME', 'social_support', 'healthcare_spending',\n",
       "       'suicide_rate', 'Life Ladder', 'Log GDP per capita',\n",
       "       'Freedom to make life choices', 'Generosity'],\n",
       "      dtype='object')"
      ]
     },
     "execution_count": 79,
     "metadata": {},
     "output_type": "execute_result"
    }
   ],
   "source": [
    "df.columns"
   ]
  },
  {
   "attachments": {},
   "cell_type": "markdown",
   "metadata": {},
   "source": [
    "Health spending measures the final consumption of health care goods and services (i.e. current health expenditure) including personal health care (curative care, rehabilitative care, long-term care, ancillary services and medical goods) and collective services (prevention and public health services as well as health administration), but excluding spending on investments. Health care is financed through a mix of financing arrangements including government spending and compulsory health insurance (“Government/compulsory”) as well as voluntary health insurance and private funds such as households’ out-of-pocket payments, NGOs and private corporations (“Voluntary”). This indicator is presented as a total and by type of financing (“Government/compulsory”, “Voluntary”, “Out-of-pocket”) and is measured as a share of GDP, as a share of total health spending and in USD per capita (using economy-wide PPPs).\n",
    "\n",
    "https://data.oecd.org/healthres/health-spending.htm#indicator-chart\n",
    "\n",
    "\n",
    "Suicide rates are defined as the deaths deliberately initiated and performed by a person in the full knowledge or expectation of its fatal outcome. Comparability of data between countries is affected by a number of reporting criteria, including how a person's intention of killing themselves is ascertained, who is responsible for completing the death certificate, whether a forensic investigation is carried out, and the provisions for confidentiality of the cause of death. Caution is required therefore in interpreting variations across countries. The rates have been directly age-standardised to the 2010 OECD population to remove variations arising from differences in age structures across countries and over time. The original source of the data is the WHO Mortality Database. This indicator is presented as a total and per gender and is measured in terms of deaths per 100 000 inhabitants (total), per 100 000 men and per 100 000 women.\n",
    "\n",
    "https://data.oecd.org/healthstat/suicide-rates.htm\n",
    "\n",
    "\n",
    "Social support indicates the share of people who report having friends or relatives whom they can count on in times of trouble. Individuals who say they have family and friends they can count on to help them in times of trouble are consistently more likely to be satisfied with their personal health, and research has linked social isolation and loneliness to higher risks for a variety of physical and mental conditions including high blood pressure, heart disease, obesity, a weakened immune system, anxiety, depression, cognitive decline and Alzheimer's disease. Due to small sample sizes, country averages for horizontal inequalities (by age, gender and education) are pooled between 2010-20 to improve the accuracy of the estimates. The survey sample is ex ante designed to be nationally representative of the population aged 15 or over (including rural areas). This indicator is measured as a percentage of survey respondents. Education: Indicators sourced from the Gallup World Poll correspond to: completed elementary education or less (up to eight years of basic education) for “primary” level; completed some secondary education up to three years tertiary education (9 to 15 years of education) for “secondary” level; and completed four years of education beyond “high school” and/or received a four-year college degree for “tertiary” level. Age: Young people are those aged 15 to 29; middle-aged people are those aged 30 to 49, and older people are those aged 50 and over.\n",
    "\n",
    "https://data.oecd.org/healthrisk/social-support.htm\n",
    "\n",
    "\n",
    "Alcohol consumption is defined as annual sales of pure alcohol in litres per person aged 15 years and older. Alcohol use is associated with numerous harmful health and social consequences, including an increased risk of a range of cancers, stroke and liver cirrhosis. Alcohol also contributes to death and disability through accidents and injuries, assault, violence, homicide and suicide. This indicator is measured in litres per capita (people aged 15 years and older).\n",
    "\n",
    "https://data.oecd.org/healthrisk/alcohol-consumption.htm\n",
    "\n",
    "\n",
    "This is called the Cantril ladder: it asks respondents to think of a ladder, with the best possible life for them being a 10 and the worst possible life being a 0. They are then asked to rate their own current lives on that 0 to 10 scale."
   ]
  },
  {
   "cell_type": "markdown",
   "metadata": {},
   "source": []
  }
 ],
 "metadata": {
  "kernelspec": {
   "display_name": "Python 3",
   "language": "python",
   "name": "python3"
  },
  "language_info": {
   "codemirror_mode": {
    "name": "ipython",
    "version": 3
   },
   "file_extension": ".py",
   "mimetype": "text/x-python",
   "name": "python",
   "nbconvert_exporter": "python",
   "pygments_lexer": "ipython3",
   "version": "3.10.4"
  },
  "orig_nbformat": 4
 },
 "nbformat": 4,
 "nbformat_minor": 2
}
