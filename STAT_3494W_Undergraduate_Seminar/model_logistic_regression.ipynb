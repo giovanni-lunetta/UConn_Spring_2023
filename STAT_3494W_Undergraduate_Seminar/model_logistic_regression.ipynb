{
 "cells": [
  {
   "cell_type": "code",
   "execution_count": 1,
   "metadata": {},
   "outputs": [],
   "source": [
    "import pandas as pd\n",
    "import numpy as np\n",
    "import matplotlib.pyplot as plt\n",
    "\n",
    "df = pd.read_csv(\"data/new_cleaned.csv\")"
   ]
  },
  {
   "cell_type": "code",
   "execution_count": 2,
   "metadata": {},
   "outputs": [],
   "source": [
    "df.drop(['Unnamed: 0'], axis=1, inplace=True)"
   ]
  },
  {
   "cell_type": "code",
   "execution_count": 3,
   "metadata": {},
   "outputs": [],
   "source": [
    "from sklearn.model_selection import train_test_split\n",
    "\n",
    "# Split into input and output variables\n",
    "# #'Pos_0', 'Pos_1', 'Pos_2', 'Pos_3', 'Pos_4', 'Season_2011', 'Season_2012', 'Season_2013', 'Season_2014', 'Season_2015', 'Season_2016', 'Season_2017', 'Season_2018', 'Season_2019', 'Season_2020', 'Season_2021', 'Age', 'BLK', 'ORB', 'STL', 'DRB', 'TRB'], axis=1)\n",
    "X = df.drop(['Performance1', 'Performance2', 'PLAY_PTS'], axis=1)\n",
    "y = df['Performance2']\n",
    "\n",
    "# Split data into training, validation, and test sets\n",
    "X_train, X_test, y_train, y_test = train_test_split(X, y, test_size=0.2, random_state=1010110011)\n",
    "X_train, X_val, y_train, y_val = train_test_split(X_train, y_train, test_size=0.2, random_state=1010110011)"
   ]
  },
  {
   "cell_type": "code",
   "execution_count": 4,
   "metadata": {},
   "outputs": [
    {
     "name": "stdout",
     "output_type": "stream",
     "text": [
      "Accuracy: 0.5087719298245614\n"
     ]
    }
   ],
   "source": [
    "from sklearn.linear_model import LogisticRegression\n",
    "\n",
    "# Create logistic regression model with L2 regularization and balanced class weights\n",
    "logreg = LogisticRegression(penalty='l2', C=1, solver='lbfgs', class_weight='balanced', max_iter=10000)\n",
    "\n",
    "# Fit the model to the training data\n",
    "logreg.fit(X_train, y_train)\n",
    "\n",
    "# Evaluate the model on the validation data\n",
    "y_pred = logreg.predict(X_val)\n",
    "accuracy = logreg.score(X_val, y_val)\n",
    "print(f\"Accuracy: {accuracy}\")"
   ]
  },
  {
   "cell_type": "code",
   "execution_count": 5,
   "metadata": {},
   "outputs": [
    {
     "name": "stdout",
     "output_type": "stream",
     "text": [
      "Confusion Matrix:\n",
      "[[19 23]\n",
      " [ 5 10]]\n",
      "Classification Report:\n",
      "              precision    recall  f1-score   support\n",
      "\n",
      "           0       0.79      0.45      0.58        42\n",
      "           1       0.30      0.67      0.42        15\n",
      "\n",
      "    accuracy                           0.51        57\n",
      "   macro avg       0.55      0.56      0.50        57\n",
      "weighted avg       0.66      0.51      0.53        57\n",
      "\n",
      "AUC: 0.580952380952381\n"
     ]
    }
   ],
   "source": [
    "from sklearn.metrics import confusion_matrix, classification_report, roc_curve, auc\n",
    "\n",
    "# calculate predicted probabilities\n",
    "y_pred_proba = logreg.predict_proba(X_val)[:, 1]\n",
    "\n",
    "# calculate predicted classes\n",
    "y_pred = logreg.predict(X_val)\n",
    "\n",
    "# calculate confusion matrix\n",
    "confusion_matrix = confusion_matrix(y_val, y_pred)\n",
    "print(f\"Confusion Matrix:\\n{confusion_matrix}\")\n",
    "\n",
    "# calculate precision, recall, and f1-score\n",
    "report = classification_report(y_val, y_pred)\n",
    "print(f\"Classification Report:\\n{report}\")\n",
    "\n",
    "# calculate false positive rate, true positive rate, and threshold values for ROC curve\n",
    "fpr, tpr, thresholds = roc_curve(y_val, y_pred_proba)\n",
    "# calculate AUC\n",
    "auc_value = auc(fpr, tpr)\n",
    "print(f\"AUC: {auc_value}\")"
   ]
  },
  {
   "cell_type": "code",
   "execution_count": 6,
   "metadata": {},
   "outputs": [
    {
     "name": "stderr",
     "output_type": "stream",
     "text": [
      "2023-03-08 14:17:43.477158: I tensorflow/core/platform/cpu_feature_guard.cc:193] This TensorFlow binary is optimized with oneAPI Deep Neural Network Library (oneDNN) to use the following CPU instructions in performance-critical operations:  AVX2 FMA\n",
      "To enable them in other operations, rebuild TensorFlow with the appropriate compiler flags.\n",
      "2023-03-08 14:17:51.577293: I tensorflow/core/platform/cpu_feature_guard.cc:193] This TensorFlow binary is optimized with oneAPI Deep Neural Network Library (oneDNN) to use the following CPU instructions in performance-critical operations:  AVX2 FMA\n",
      "To enable them in other operations, rebuild TensorFlow with the appropriate compiler flags.\n"
     ]
    },
    {
     "name": "stdout",
     "output_type": "stream",
     "text": [
      "Epoch 1/100\n",
      "12/12 [==============================] - 1s 24ms/step - loss: 1.7395 - accuracy: 0.6384 - val_loss: 1.6585 - val_accuracy: 0.7368\n",
      "Epoch 2/100\n",
      "12/12 [==============================] - 0s 6ms/step - loss: 1.6444 - accuracy: 0.6429 - val_loss: 1.5692 - val_accuracy: 0.7368\n",
      "Epoch 3/100\n",
      "12/12 [==============================] - 0s 6ms/step - loss: 1.5585 - accuracy: 0.6384 - val_loss: 1.4868 - val_accuracy: 0.7368\n",
      "Epoch 4/100\n",
      "12/12 [==============================] - 0s 5ms/step - loss: 1.4788 - accuracy: 0.6384 - val_loss: 1.4072 - val_accuracy: 0.7368\n",
      "Epoch 5/100\n",
      "12/12 [==============================] - 0s 5ms/step - loss: 1.4062 - accuracy: 0.6384 - val_loss: 1.3345 - val_accuracy: 0.7368\n",
      "Epoch 6/100\n",
      "12/12 [==============================] - 0s 5ms/step - loss: 1.3408 - accuracy: 0.6384 - val_loss: 1.2757 - val_accuracy: 0.7368\n",
      "Epoch 7/100\n",
      "12/12 [==============================] - 0s 5ms/step - loss: 1.2808 - accuracy: 0.6384 - val_loss: 1.2168 - val_accuracy: 0.7368\n",
      "Epoch 8/100\n",
      "12/12 [==============================] - 0s 4ms/step - loss: 1.2254 - accuracy: 0.6384 - val_loss: 1.1647 - val_accuracy: 0.7368\n",
      "Epoch 9/100\n",
      "12/12 [==============================] - 0s 9ms/step - loss: 1.1745 - accuracy: 0.6384 - val_loss: 1.1140 - val_accuracy: 0.7368\n",
      "Epoch 10/100\n",
      "12/12 [==============================] - 0s 5ms/step - loss: 1.1283 - accuracy: 0.6384 - val_loss: 1.0657 - val_accuracy: 0.7368\n",
      "Epoch 11/100\n",
      "12/12 [==============================] - 0s 4ms/step - loss: 1.0850 - accuracy: 0.6384 - val_loss: 1.0247 - val_accuracy: 0.7368\n",
      "Epoch 12/100\n",
      "12/12 [==============================] - 0s 4ms/step - loss: 1.0457 - accuracy: 0.6384 - val_loss: 0.9866 - val_accuracy: 0.7368\n",
      "Epoch 13/100\n",
      "12/12 [==============================] - 0s 4ms/step - loss: 1.0094 - accuracy: 0.6384 - val_loss: 0.9509 - val_accuracy: 0.7368\n",
      "Epoch 14/100\n",
      "12/12 [==============================] - 0s 4ms/step - loss: 0.9762 - accuracy: 0.6384 - val_loss: 0.9178 - val_accuracy: 0.7368\n",
      "Epoch 15/100\n",
      "12/12 [==============================] - 0s 4ms/step - loss: 0.9451 - accuracy: 0.6384 - val_loss: 0.8872 - val_accuracy: 0.7368\n",
      "Epoch 16/100\n",
      "12/12 [==============================] - 0s 4ms/step - loss: 0.9180 - accuracy: 0.6384 - val_loss: 0.8576 - val_accuracy: 0.7368\n",
      "Epoch 17/100\n",
      "12/12 [==============================] - 0s 4ms/step - loss: 0.8917 - accuracy: 0.6384 - val_loss: 0.8337 - val_accuracy: 0.7368\n",
      "Epoch 18/100\n",
      "12/12 [==============================] - 0s 5ms/step - loss: 0.8685 - accuracy: 0.6384 - val_loss: 0.8155 - val_accuracy: 0.7368\n",
      "Epoch 19/100\n",
      "12/12 [==============================] - 0s 11ms/step - loss: 0.8467 - accuracy: 0.6384 - val_loss: 0.7956 - val_accuracy: 0.7368\n",
      "Epoch 20/100\n",
      "12/12 [==============================] - 0s 4ms/step - loss: 0.8272 - accuracy: 0.6384 - val_loss: 0.7793 - val_accuracy: 0.7368\n",
      "Epoch 21/100\n",
      "12/12 [==============================] - 0s 4ms/step - loss: 0.8094 - accuracy: 0.6384 - val_loss: 0.7643 - val_accuracy: 0.7368\n",
      "Epoch 22/100\n",
      "12/12 [==============================] - 0s 4ms/step - loss: 0.7923 - accuracy: 0.6384 - val_loss: 0.7496 - val_accuracy: 0.7368\n",
      "Epoch 23/100\n",
      "12/12 [==============================] - 0s 4ms/step - loss: 0.7772 - accuracy: 0.6384 - val_loss: 0.7376 - val_accuracy: 0.7368\n",
      "Epoch 24/100\n",
      "12/12 [==============================] - 0s 4ms/step - loss: 0.7632 - accuracy: 0.6384 - val_loss: 0.7235 - val_accuracy: 0.7368\n",
      "Epoch 25/100\n",
      "12/12 [==============================] - 0s 4ms/step - loss: 0.7503 - accuracy: 0.6384 - val_loss: 0.7086 - val_accuracy: 0.7368\n",
      "Epoch 26/100\n",
      "12/12 [==============================] - 0s 4ms/step - loss: 0.7385 - accuracy: 0.6384 - val_loss: 0.7025 - val_accuracy: 0.7368\n",
      "Epoch 27/100\n",
      "12/12 [==============================] - 0s 4ms/step - loss: 0.7276 - accuracy: 0.6384 - val_loss: 0.6955 - val_accuracy: 0.7368\n",
      "Epoch 28/100\n",
      "12/12 [==============================] - 0s 4ms/step - loss: 0.7176 - accuracy: 0.6384 - val_loss: 0.6856 - val_accuracy: 0.7368\n",
      "Epoch 29/100\n",
      "12/12 [==============================] - 0s 4ms/step - loss: 0.7077 - accuracy: 0.6384 - val_loss: 0.6786 - val_accuracy: 0.7368\n",
      "Epoch 30/100\n",
      "12/12 [==============================] - 0s 4ms/step - loss: 0.6999 - accuracy: 0.6384 - val_loss: 0.6698 - val_accuracy: 0.7368\n",
      "Epoch 31/100\n",
      "12/12 [==============================] - 0s 14ms/step - loss: 0.6919 - accuracy: 0.6384 - val_loss: 0.6686 - val_accuracy: 0.7368\n",
      "Epoch 32/100\n",
      "12/12 [==============================] - 0s 4ms/step - loss: 0.6836 - accuracy: 0.6384 - val_loss: 0.6589 - val_accuracy: 0.7368\n",
      "Epoch 33/100\n",
      "12/12 [==============================] - 0s 4ms/step - loss: 0.6777 - accuracy: 0.6384 - val_loss: 0.6512 - val_accuracy: 0.7368\n",
      "Epoch 34/100\n",
      "12/12 [==============================] - 0s 4ms/step - loss: 0.6714 - accuracy: 0.6384 - val_loss: 0.6486 - val_accuracy: 0.7368\n",
      "Epoch 35/100\n",
      "12/12 [==============================] - 0s 4ms/step - loss: 0.6651 - accuracy: 0.6384 - val_loss: 0.6473 - val_accuracy: 0.7368\n",
      "Epoch 36/100\n",
      "12/12 [==============================] - 0s 4ms/step - loss: 0.6596 - accuracy: 0.6384 - val_loss: 0.6510 - val_accuracy: 0.7368\n",
      "Epoch 37/100\n",
      "12/12 [==============================] - 0s 4ms/step - loss: 0.6539 - accuracy: 0.6384 - val_loss: 0.6464 - val_accuracy: 0.7368\n",
      "Epoch 38/100\n",
      "12/12 [==============================] - 0s 4ms/step - loss: 0.6508 - accuracy: 0.6384 - val_loss: 0.6568 - val_accuracy: 0.7368\n",
      "Epoch 39/100\n",
      "12/12 [==============================] - 0s 4ms/step - loss: 0.6463 - accuracy: 0.6384 - val_loss: 0.6502 - val_accuracy: 0.7368\n",
      "Epoch 40/100\n",
      "12/12 [==============================] - 0s 4ms/step - loss: 0.6416 - accuracy: 0.6384 - val_loss: 0.6468 - val_accuracy: 0.7368\n",
      "Epoch 41/100\n",
      "12/12 [==============================] - 0s 4ms/step - loss: 0.6388 - accuracy: 0.6384 - val_loss: 0.6465 - val_accuracy: 0.7368\n",
      "Epoch 42/100\n",
      "12/12 [==============================] - 0s 4ms/step - loss: 0.6355 - accuracy: 0.6384 - val_loss: 0.6369 - val_accuracy: 0.7368\n",
      "Epoch 43/100\n",
      "12/12 [==============================] - 0s 12ms/step - loss: 0.6317 - accuracy: 0.6384 - val_loss: 0.6390 - val_accuracy: 0.7368\n",
      "Epoch 44/100\n",
      "12/12 [==============================] - 0s 6ms/step - loss: 0.6283 - accuracy: 0.6473 - val_loss: 0.6406 - val_accuracy: 0.7719\n",
      "Epoch 45/100\n",
      "12/12 [==============================] - 0s 4ms/step - loss: 0.6249 - accuracy: 0.6830 - val_loss: 0.6396 - val_accuracy: 0.7544\n",
      "Epoch 46/100\n",
      "12/12 [==============================] - 0s 4ms/step - loss: 0.6217 - accuracy: 0.6964 - val_loss: 0.6341 - val_accuracy: 0.7544\n",
      "Epoch 47/100\n",
      "12/12 [==============================] - 0s 4ms/step - loss: 0.6202 - accuracy: 0.7232 - val_loss: 0.6309 - val_accuracy: 0.7719\n",
      "Epoch 48/100\n",
      "12/12 [==============================] - 0s 4ms/step - loss: 0.6189 - accuracy: 0.7009 - val_loss: 0.6330 - val_accuracy: 0.7719\n",
      "Epoch 49/100\n",
      "12/12 [==============================] - 0s 4ms/step - loss: 0.6160 - accuracy: 0.7232 - val_loss: 0.6333 - val_accuracy: 0.7368\n",
      "Epoch 50/100\n",
      "12/12 [==============================] - 0s 4ms/step - loss: 0.6155 - accuracy: 0.7098 - val_loss: 0.6359 - val_accuracy: 0.7193\n",
      "Epoch 51/100\n",
      "12/12 [==============================] - 0s 4ms/step - loss: 0.6114 - accuracy: 0.7054 - val_loss: 0.6327 - val_accuracy: 0.7193\n",
      "Epoch 52/100\n",
      "12/12 [==============================] - 0s 4ms/step - loss: 0.6085 - accuracy: 0.7143 - val_loss: 0.6411 - val_accuracy: 0.7368\n",
      "Epoch 53/100\n",
      "12/12 [==============================] - 0s 4ms/step - loss: 0.6086 - accuracy: 0.7188 - val_loss: 0.6385 - val_accuracy: 0.7368\n",
      "Epoch 54/100\n",
      "12/12 [==============================] - 0s 10ms/step - loss: 0.6054 - accuracy: 0.7411 - val_loss: 0.6368 - val_accuracy: 0.7018\n",
      "Epoch 55/100\n",
      "12/12 [==============================] - 0s 6ms/step - loss: 0.6041 - accuracy: 0.7500 - val_loss: 0.6317 - val_accuracy: 0.7018\n",
      "Epoch 56/100\n",
      "12/12 [==============================] - 0s 4ms/step - loss: 0.6025 - accuracy: 0.7321 - val_loss: 0.6382 - val_accuracy: 0.7018\n",
      "Epoch 57/100\n",
      "12/12 [==============================] - 0s 5ms/step - loss: 0.5993 - accuracy: 0.7545 - val_loss: 0.6391 - val_accuracy: 0.7193\n",
      "Epoch 58/100\n",
      "12/12 [==============================] - 0s 4ms/step - loss: 0.5975 - accuracy: 0.7589 - val_loss: 0.6409 - val_accuracy: 0.7193\n",
      "Epoch 59/100\n",
      "12/12 [==============================] - 0s 6ms/step - loss: 0.5967 - accuracy: 0.7455 - val_loss: 0.6434 - val_accuracy: 0.7018\n",
      "Epoch 60/100\n",
      "12/12 [==============================] - 0s 4ms/step - loss: 0.5952 - accuracy: 0.7500 - val_loss: 0.6425 - val_accuracy: 0.7018\n",
      "Epoch 61/100\n",
      "12/12 [==============================] - 0s 4ms/step - loss: 0.5947 - accuracy: 0.7455 - val_loss: 0.6470 - val_accuracy: 0.7368\n",
      "Epoch 62/100\n",
      "12/12 [==============================] - 0s 6ms/step - loss: 0.5933 - accuracy: 0.7545 - val_loss: 0.6514 - val_accuracy: 0.6842\n",
      "Epoch 63/100\n",
      "12/12 [==============================] - 0s 6ms/step - loss: 0.5903 - accuracy: 0.7768 - val_loss: 0.6519 - val_accuracy: 0.7018\n",
      "Epoch 64/100\n",
      "12/12 [==============================] - 0s 4ms/step - loss: 0.5908 - accuracy: 0.7500 - val_loss: 0.6570 - val_accuracy: 0.6667\n",
      "Epoch 65/100\n",
      "12/12 [==============================] - 0s 8ms/step - loss: 0.5874 - accuracy: 0.7679 - val_loss: 0.6429 - val_accuracy: 0.7193\n",
      "Epoch 66/100\n",
      "12/12 [==============================] - 0s 4ms/step - loss: 0.5873 - accuracy: 0.7589 - val_loss: 0.6457 - val_accuracy: 0.7018\n",
      "Epoch 67/100\n",
      "12/12 [==============================] - 0s 4ms/step - loss: 0.5859 - accuracy: 0.7589 - val_loss: 0.6515 - val_accuracy: 0.6667\n",
      "Epoch 68/100\n",
      "12/12 [==============================] - 0s 4ms/step - loss: 0.5838 - accuracy: 0.7902 - val_loss: 0.6636 - val_accuracy: 0.6667\n",
      "Epoch 69/100\n",
      "12/12 [==============================] - 0s 6ms/step - loss: 0.5846 - accuracy: 0.7857 - val_loss: 0.6520 - val_accuracy: 0.6842\n",
      "Epoch 70/100\n",
      "12/12 [==============================] - 0s 6ms/step - loss: 0.5801 - accuracy: 0.7812 - val_loss: 0.6537 - val_accuracy: 0.6667\n",
      "Epoch 71/100\n",
      "12/12 [==============================] - 0s 4ms/step - loss: 0.5857 - accuracy: 0.7723 - val_loss: 0.6566 - val_accuracy: 0.6491\n",
      "Epoch 72/100\n",
      "12/12 [==============================] - 0s 5ms/step - loss: 0.5935 - accuracy: 0.7991 - val_loss: 0.6698 - val_accuracy: 0.6667\n",
      "Epoch 73/100\n",
      "12/12 [==============================] - 0s 4ms/step - loss: 0.5845 - accuracy: 0.7991 - val_loss: 0.6391 - val_accuracy: 0.7018\n",
      "Epoch 74/100\n",
      "12/12 [==============================] - 0s 3ms/step - loss: 0.5811 - accuracy: 0.7589 - val_loss: 0.6391 - val_accuracy: 0.7193\n",
      "Epoch 75/100\n",
      "12/12 [==============================] - 0s 4ms/step - loss: 0.5787 - accuracy: 0.7902 - val_loss: 0.6506 - val_accuracy: 0.7018\n",
      "Epoch 76/100\n",
      "12/12 [==============================] - 0s 4ms/step - loss: 0.5751 - accuracy: 0.7946 - val_loss: 0.6501 - val_accuracy: 0.6667\n",
      "Epoch 77/100\n",
      "12/12 [==============================] - 0s 14ms/step - loss: 0.5764 - accuracy: 0.7723 - val_loss: 0.6572 - val_accuracy: 0.6667\n",
      "Epoch 78/100\n",
      "12/12 [==============================] - 0s 4ms/step - loss: 0.5727 - accuracy: 0.7946 - val_loss: 0.6612 - val_accuracy: 0.6842\n",
      "Epoch 79/100\n",
      "12/12 [==============================] - 0s 4ms/step - loss: 0.5736 - accuracy: 0.8080 - val_loss: 0.6653 - val_accuracy: 0.6842\n",
      "Epoch 80/100\n",
      "12/12 [==============================] - 0s 6ms/step - loss: 0.5693 - accuracy: 0.8170 - val_loss: 0.6549 - val_accuracy: 0.6491\n",
      "Epoch 81/100\n",
      "12/12 [==============================] - 0s 4ms/step - loss: 0.5668 - accuracy: 0.8125 - val_loss: 0.6578 - val_accuracy: 0.6842\n",
      "Epoch 82/100\n",
      "12/12 [==============================] - 0s 4ms/step - loss: 0.5687 - accuracy: 0.7902 - val_loss: 0.6714 - val_accuracy: 0.6667\n",
      "Epoch 83/100\n",
      "12/12 [==============================] - 0s 4ms/step - loss: 0.5670 - accuracy: 0.8080 - val_loss: 0.6721 - val_accuracy: 0.6491\n",
      "Epoch 84/100\n",
      "12/12 [==============================] - 0s 4ms/step - loss: 0.5672 - accuracy: 0.8125 - val_loss: 0.6631 - val_accuracy: 0.6316\n",
      "Epoch 85/100\n",
      "12/12 [==============================] - 0s 4ms/step - loss: 0.5643 - accuracy: 0.7991 - val_loss: 0.6594 - val_accuracy: 0.6491\n",
      "Epoch 86/100\n",
      "12/12 [==============================] - 0s 4ms/step - loss: 0.5584 - accuracy: 0.8170 - val_loss: 0.6718 - val_accuracy: 0.6667\n",
      "Epoch 87/100\n",
      "12/12 [==============================] - 0s 4ms/step - loss: 0.5591 - accuracy: 0.8036 - val_loss: 0.6770 - val_accuracy: 0.7018\n",
      "Epoch 88/100\n",
      "12/12 [==============================] - 0s 10ms/step - loss: 0.5616 - accuracy: 0.8125 - val_loss: 0.6780 - val_accuracy: 0.6667\n",
      "Epoch 89/100\n",
      "12/12 [==============================] - 0s 4ms/step - loss: 0.5567 - accuracy: 0.8214 - val_loss: 0.6704 - val_accuracy: 0.7018\n",
      "Epoch 90/100\n",
      "12/12 [==============================] - 0s 4ms/step - loss: 0.5536 - accuracy: 0.8214 - val_loss: 0.6715 - val_accuracy: 0.6667\n",
      "Epoch 91/100\n",
      "12/12 [==============================] - 0s 4ms/step - loss: 0.5571 - accuracy: 0.8170 - val_loss: 0.6602 - val_accuracy: 0.6667\n",
      "Epoch 92/100\n",
      "12/12 [==============================] - 0s 4ms/step - loss: 0.5555 - accuracy: 0.8170 - val_loss: 0.6746 - val_accuracy: 0.6316\n",
      "Epoch 93/100\n",
      "12/12 [==============================] - 0s 4ms/step - loss: 0.5554 - accuracy: 0.8170 - val_loss: 0.6733 - val_accuracy: 0.6667\n",
      "Epoch 94/100\n",
      "12/12 [==============================] - 0s 4ms/step - loss: 0.5555 - accuracy: 0.8125 - val_loss: 0.6806 - val_accuracy: 0.6842\n",
      "Epoch 95/100\n",
      "12/12 [==============================] - 0s 3ms/step - loss: 0.5531 - accuracy: 0.8214 - val_loss: 0.6724 - val_accuracy: 0.6667\n",
      "Epoch 96/100\n",
      "12/12 [==============================] - 0s 5ms/step - loss: 0.5495 - accuracy: 0.8259 - val_loss: 0.6919 - val_accuracy: 0.6667\n",
      "Epoch 97/100\n",
      "12/12 [==============================] - 0s 3ms/step - loss: 0.5488 - accuracy: 0.8259 - val_loss: 0.6918 - val_accuracy: 0.6667\n",
      "Epoch 98/100\n",
      "12/12 [==============================] - 0s 4ms/step - loss: 0.5471 - accuracy: 0.8214 - val_loss: 0.6856 - val_accuracy: 0.6667\n",
      "Epoch 99/100\n",
      "12/12 [==============================] - 0s 4ms/step - loss: 0.5469 - accuracy: 0.8348 - val_loss: 0.6850 - val_accuracy: 0.6491\n",
      "Epoch 100/100\n",
      "12/12 [==============================] - 0s 4ms/step - loss: 0.5466 - accuracy: 0.8170 - val_loss: 0.6777 - val_accuracy: 0.6316\n"
     ]
    }
   ],
   "source": [
    "import tensorflow as tf\n",
    "import numpy as np\n",
    "from tensorflow.keras.models import Sequential\n",
    "from tensorflow.keras.layers import Dense\n",
    "from tensorflow.keras.utils import plot_model\n",
    "from tensorflow.keras.losses import SparseCategoricalCrossentropy\n",
    "from tensorflow.keras import regularizers\n",
    "from sklearn.metrics import f1_score\n",
    "import os\n",
    "\n",
    "# Define model architecture\n",
    "model = tf.keras.Sequential([\n",
    "    tf.keras.layers.Dense(units=25, activation='relu', kernel_regularizer=regularizers.l2(0.02), input_shape=(X_train.shape[1],)),\n",
    "    tf.keras.layers.Dense(units=15, activation='relu', kernel_regularizer=regularizers.l2(0.02)),   \n",
    "    tf.keras.layers.Dense(units=5, activation='relu', kernel_regularizer=regularizers.l2(0.02)),   \n",
    "    tf.keras.layers.Dense(units=2, activation='sigmoid')\n",
    "])\n",
    "\n",
    "# Define optimizer with learning rate\n",
    "optimizer = tf.keras.optimizers.Adam(learning_rate=0.001)\n",
    "\n",
    "# Compile model with optimizer\n",
    "model.compile(loss='sparse_categorical_crossentropy', optimizer=optimizer, metrics=['accuracy'])\n",
    "\n",
    "# Train model\n",
    "history = model.fit(X_train, y_train, epochs=100, batch_size=20, validation_data=(X_val, y_val))"
   ]
  },
  {
   "cell_type": "code",
   "execution_count": 7,
   "metadata": {},
   "outputs": [
    {
     "name": "stdout",
     "output_type": "stream",
     "text": [
      "3/3 [==============================] - 0s 2ms/step\n",
      "3/3 [==============================] - 0s 2ms/step - loss: 0.6454 - accuracy: 0.6901\n",
      "Test loss: 0.6454\n",
      "Test accuracy: 0.6901\n",
      "F1 score: 0.6599\n"
     ]
    }
   ],
   "source": [
    "# Evaluate model on test data\n",
    "y_pred = model.predict(X_test)\n",
    "test_loss, test_acc = model.evaluate(X_test, y_test)\n",
    "f1 = f1_score(y_test, y_pred.argmax(axis=1), average='weighted')\n",
    "\n",
    "# Print model performance metrics\n",
    "print(f\"Test loss: {test_loss:.4f}\")\n",
    "print(f\"Test accuracy: {test_acc:.4f}\")\n",
    "print(f\"F1 score: {f1:.4f}\")"
   ]
  },
  {
   "cell_type": "code",
   "execution_count": 8,
   "metadata": {},
   "outputs": [
    {
     "name": "stdout",
     "output_type": "stream",
     "text": [
      "3/3 [==============================] - 0s 2ms/step\n"
     ]
    },
    {
     "data": {
      "image/png": "[encoded data removed]",
      "text/plain": [
       "<Figure size 432x288 with 2 Axes>"
      ]
     },
     "metadata": {
      "needs_background": "light"
     },
     "output_type": "display_data"
    }
   ],
   "source": [
    "from sklearn.metrics import confusion_matrix\n",
    "import seaborn as sns\n",
    "\n",
    "# Use the model to predict the class of each test observation\n",
    "y_pred = model.predict(X_test)\n",
    "y_pred = np.argmax(y_pred, axis=1)\n",
    "\n",
    "# Compute the confusion matrix\n",
    "cm = confusion_matrix(y_test, y_pred)\n",
    "\n",
    "# Plot the confusion matrix using seaborn\n",
    "sns.heatmap(cm, annot=True, cmap='Blues', fmt='g', xticklabels=['Class 1', 'Class 2'], yticklabels=['Class 1', 'Class 2'])\n",
    "plt.xlabel('Predicted')\n",
    "plt.ylabel('Actual')\n",
    "plt.title('Confusion matrix')\n",
    "plt.show()"
   ]
  },
  {
   "cell_type": "code",
   "execution_count": 9,
   "metadata": {},
   "outputs": [
    {
     "data": {
      "image/png": "[encoded data removed]",
      "text/plain": [
       "<Figure size 432x288 with 1 Axes>"
      ]
     },
     "metadata": {
      "needs_background": "light"
     },
     "output_type": "display_data"
    }
   ],
   "source": [
    "import matplotlib.pyplot as plt\n",
    "\n",
    "# Plot training & validation loss values\n",
    "plt.plot(history.history['loss'])\n",
    "plt.plot(history.history['val_loss'])\n",
    "plt.title('Model loss')\n",
    "plt.ylabel('Loss')\n",
    "plt.xlabel('Epoch')\n",
    "plt.legend(['Train', 'Validation'], loc='upper right')\n",
    "plt.show()"
   ]
  },
  {
   "cell_type": "code",
   "execution_count": 10,
   "metadata": {},
   "outputs": [
    {
     "data": {
      "image/png": "[encoded data removed]",
      "text/plain": [
       "<Figure size 432x288 with 1 Axes>"
      ]
     },
     "metadata": {
      "needs_background": "light"
     },
     "output_type": "display_data"
    }
   ],
   "source": [
    "# Plot training & validation accuracy values\n",
    "plt.plot(history.history['accuracy'])\n",
    "plt.plot(history.history['val_accuracy'])\n",
    "plt.title('Model accuracy')\n",
    "plt.ylabel('Accuracy')\n",
    "plt.xlabel('Epoch')\n",
    "plt.legend(['Train', 'Validation'], loc='lower right')\n",
    "plt.show()"
   ]
  },
  {
   "cell_type": "code",
   "execution_count": null,
   "metadata": {},
   "outputs": [],
   "source": []
  }
 ],
 "metadata": {
  "kernelspec": {
   "display_name": "Python 3",
   "language": "python",
   "name": "python3"
  },
  "language_info": {
   "codemirror_mode": {
    "name": "ipython",
    "version": 3
   },
   "file_extension": ".py",
   "mimetype": "text/x-python",
   "name": "python",
   "nbconvert_exporter": "python",
   "pygments_lexer": "ipython3",
   "version": "3.10.4"
  },
  "orig_nbformat": 4,
  "vscode": {
   "interpreter": {
    "hash": "aee8b7b246df8f9039afb4144a1f6fd8d2ca17a180786b69acc140d282b71a49"
   }
  }
 },
 "nbformat": 4,
 "nbformat_minor": 2
}
