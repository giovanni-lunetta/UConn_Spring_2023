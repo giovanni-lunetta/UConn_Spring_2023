{
 "cells": [
  {
   "cell_type": "code",
   "execution_count": 35,
   "metadata": {},
   "outputs": [],
   "source": [
    "import pandas as pd\n",
    "\n",
    "df = pd.read_csv('/Users/giovanni-lunetta/stat_3255/stat_3255_final/data/cleaned.csv')"
   ]
  },
  {
   "cell_type": "code",
   "execution_count": 36,
   "metadata": {},
   "outputs": [
    {
     "data": {
      "text/plain": [
       "street/sidewalk                         65192\n",
       "residential building                    64106\n",
       "other                                   29628\n",
       "residential building/house              22045\n",
       "street                                  19984\n",
       "                                        ...  \n",
       "parking lot                                 1\n",
       "other (explain in complaint details)        1\n",
       "street fair vendor                          1\n",
       "cafeteria - public school                   1\n",
       "school safety zone                          1\n",
       "Name: Location Type, Length: 90, dtype: int64"
      ]
     },
     "execution_count": 36,
     "metadata": {},
     "output_type": "execute_result"
    }
   ],
   "source": [
    "df['Location Type'].value_counts()"
   ]
  },
  {
   "cell_type": "code",
   "execution_count": 37,
   "metadata": {},
   "outputs": [],
   "source": [
    "df['Location Type'].value_counts()\n",
    "\n",
    "counts2 = df['Location Type'].value_counts()\n",
    "to_remove2 = counts2[counts2 < 10].index\n",
    "df = df[~df['Location Type'].isin(to_remove2)]"
   ]
  },
  {
   "cell_type": "code",
   "execution_count": 38,
   "metadata": {},
   "outputs": [],
   "source": [
    "df = df.dropna()"
   ]
  },
  {
   "cell_type": "code",
   "execution_count": 39,
   "metadata": {},
   "outputs": [],
   "source": [
    "df.drop(['duration_days', 'duration_seconds', 'duration', 'Longitude', 'Latitude', 'Park Facility Name', 'Open Data Channel Type', 'Agency', 'Closed Date'], axis=1, inplace=True)"
   ]
  },
  {
   "cell_type": "code",
   "execution_count": 41,
   "metadata": {},
   "outputs": [
    {
     "data": {
      "text/plain": [
       "Created Date                       object\n",
       "Complaint Type                     object\n",
       "Descriptor                         object\n",
       "Location Type                      object\n",
       "Incident Zip                      float64\n",
       "Incident Address                   object\n",
       "Address Type                       object\n",
       "City                               object\n",
       "Resolution Description             object\n",
       "Resolution Action Updated Date     object\n",
       "Borough                            object\n",
       "Police Precincts                  float64\n",
       "duration_hours                    float64\n",
       "day_of_week                         int64\n",
       "day_type                           object\n",
       "housing_units                     float64\n",
       "occupied_housing_units            float64\n",
       "median_home_value                 float64\n",
       "population                        float64\n",
       "median_household_income           float64\n",
       "population_density                float64\n",
       "dtype: object"
      ]
     },
     "execution_count": 41,
     "metadata": {},
     "output_type": "execute_result"
    }
   ],
   "source": [
    "df.dtypes"
   ]
  },
  {
   "cell_type": "code",
   "execution_count": 42,
   "metadata": {},
   "outputs": [
    {
     "data": {
      "text/plain": [
       "street/sidewalk                  61399\n",
       "residential building             57024\n",
       "residential building/house       21788\n",
       "other                            20416\n",
       "street                           15160\n",
       "sidewalk                          8502\n",
       "store/commercial                  2845\n",
       "above address                     2558\n",
       "club/bar/restaurant               1864\n",
       "business                          1487\n",
       "3+ family apt. building           1369\n",
       "park                               724\n",
       "1-2 family dwelling                545\n",
       "3+ family apartment building       354\n",
       "commercial building                328\n",
       "yard                               306\n",
       "park/playground                    272\n",
       "taxi                               249\n",
       "restaurant/bar/deli/bakery         201\n",
       "3+ family mixed use building       166\n",
       "house of worship                   133\n",
       "curb                               111\n",
       "gutter                             106\n",
       "school                              85\n",
       "1-2 family mixed use building       68\n",
       "construction site                   65\n",
       "public/unfenced area                61\n",
       "lot                                 59\n",
       "vacant lot                          52\n",
       "bus stop shelter                    41\n",
       "vacant building                     37\n",
       "vehicle lane                        37\n",
       "alley                               37\n",
       "street/curbside                     30\n",
       "lobby                               25\n",
       "crosswalk                           24\n",
       "stairwell                           24\n",
       "house and store                     21\n",
       "hallway                             17\n",
       "residence                           17\n",
       "catch basin/sewer                   15\n",
       "parking lot/garage                  13\n",
       "common area                         11\n",
       "food cart vendor                    10\n",
       "traffic island or median             8\n",
       "intersection                         8\n",
       "highway                              3\n",
       "comercial                            3\n",
       "residential                          2\n",
       "mixed use                            2\n",
       "Name: Location Type, dtype: int64"
      ]
     },
     "execution_count": 42,
     "metadata": {},
     "output_type": "execute_result"
    }
   ],
   "source": [
    "df['Location Type'].value_counts()"
   ]
  },
  {
   "cell_type": "code",
   "execution_count": 8,
   "metadata": {},
   "outputs": [],
   "source": [
    "# df.drop(['Created Date', 'Resolution Action Updated Date', 'Resolution Description'], axis=1, inplace=True)"
   ]
  },
  {
   "cell_type": "code",
   "execution_count": 43,
   "metadata": {},
   "outputs": [],
   "source": [
    "df['Incident Zip'] = df['Incident Zip'].astype(str)\n",
    "df['day_of_week'] = df['day_of_week'].astype(str)\n",
    "df['day_type'] = df['day_type'].astype(str)\n",
    "\n",
    "# df_cleaned.dtypes\n",
    "\n",
    "df['Created Date'] = pd.to_datetime(df['Created Date'])\n",
    "df['Resolution Action Updated Date'] = pd.to_datetime(df['Resolution Action Updated Date'])\n",
    "\n",
    "# Extract hour, day, and month from 'Created Date' column\n",
    "df['Created Hour'] = df['Created Date'].dt.hour\n",
    "df['Created Day'] = df['Created Date'].dt.day\n",
    "df['Created Month'] = df['Created Date'].dt.month\n",
    "\n",
    "# Extract hour, day, and month from 'Resolution Action Updated Date' column\n",
    "df['Resolution Updated Hour'] = df['Resolution Action Updated Date'].dt.hour\n",
    "df['Resolution Updated Day'] = df['Resolution Action Updated Date'].dt.day\n",
    "df['Resolution Updated Month'] = df['Resolution Action Updated Date'].dt.month\n",
    "\n",
    "df.drop(['Created Date', 'Resolution Action Updated Date'], axis=1, inplace=True)"
   ]
  },
  {
   "cell_type": "code",
   "execution_count": 45,
   "metadata": {},
   "outputs": [],
   "source": [
    "from sklearn.preprocessing import StandardScaler\n",
    "\n",
    "# Create a StandardScaler object\n",
    "scaler = StandardScaler()\n",
    "\n",
    "# select the variables to scale\n",
    "variables_to_scale = ['housing_units', 'occupied_housing_units', 'median_home_value', 'population',\n",
    "                      'median_household_income', 'population_density', 'Police Precincts', 'duration_hours', 'Created Day', 'Created Hour', 'Resolution Updated Hour', 'Resolution Updated Day']\n",
    "\n",
    "# apply the scaler to the selected variables\n",
    "df.loc[:, variables_to_scale] = scaler.fit_transform(df.loc[:, variables_to_scale])"
   ]
  },
  {
   "cell_type": "code",
   "execution_count": 46,
   "metadata": {},
   "outputs": [
    {
     "data": {
      "text/plain": [
       "Complaint Type               object\n",
       "Descriptor                   object\n",
       "Location Type                object\n",
       "Incident Zip                 object\n",
       "Incident Address             object\n",
       "Address Type                 object\n",
       "City                         object\n",
       "Resolution Description       object\n",
       "Borough                      object\n",
       "Police Precincts            float64\n",
       "duration_hours              float64\n",
       "day_of_week                  object\n",
       "day_type                     object\n",
       "housing_units               float64\n",
       "occupied_housing_units      float64\n",
       "median_home_value           float64\n",
       "population                  float64\n",
       "median_household_income     float64\n",
       "population_density          float64\n",
       "Created Hour                float64\n",
       "Created Day                 float64\n",
       "Created Month                 int64\n",
       "Resolution Updated Hour     float64\n",
       "Resolution Updated Day      float64\n",
       "Resolution Updated Month      int64\n",
       "dtype: object"
      ]
     },
     "execution_count": 46,
     "metadata": {},
     "output_type": "execute_result"
    }
   ],
   "source": [
    "df.dtypes"
   ]
  },
  {
   "cell_type": "code",
   "execution_count": 47,
   "metadata": {},
   "outputs": [],
   "source": [
    "df.drop(['Incident Zip', 'Incident Address'], axis=1, inplace=True)"
   ]
  },
  {
   "cell_type": "code",
   "execution_count": 48,
   "metadata": {},
   "outputs": [],
   "source": [
    "df.drop(['Police Precincts', 'City'], axis=1, inplace=True)"
   ]
  },
  {
   "cell_type": "code",
   "execution_count": 50,
   "metadata": {},
   "outputs": [],
   "source": [
    "# create a list of column names with object type\n",
    "columns = ['Complaint Type', 'Descriptor', 'Location Type',\n",
    "           'Address Type', 'Resolution Description', 'day_of_week', 'day_type']\n",
    "\n",
    "# get dummies with one column removed\n",
    "df = pd.get_dummies(df, columns=columns, drop_first=True)"
   ]
  },
  {
   "cell_type": "code",
   "execution_count": 51,
   "metadata": {},
   "outputs": [
    {
     "data": {
      "text/plain": [
       "(198682, 1010)"
      ]
     },
     "execution_count": 51,
     "metadata": {},
     "output_type": "execute_result"
    }
   ],
   "source": [
    "df.shape"
   ]
  },
  {
   "cell_type": "code",
   "execution_count": 52,
   "metadata": {},
   "outputs": [
    {
     "data": {
      "text/plain": [
       "brooklyn         61438\n",
       "bronx            45252\n",
       "queens           44585\n",
       "manhattan        38979\n",
       "staten island     8428\n",
       "Name: Borough, dtype: int64"
      ]
     },
     "execution_count": 52,
     "metadata": {},
     "output_type": "execute_result"
    }
   ],
   "source": [
    "df['Borough'].value_counts()"
   ]
  },
  {
   "cell_type": "code",
   "execution_count": 53,
   "metadata": {},
   "outputs": [],
   "source": [
    "# Define a dictionary to map borough names to numerical values\n",
    "borough_dict = {'brooklyn': 0, 'bronx': 1, 'queens': 2, 'manhattan': 3, 'staten island': 4}\n",
    "\n",
    "# Replace the string values with numerical values\n",
    "df['Borough'] = df['Borough'].replace(borough_dict)"
   ]
  },
  {
   "cell_type": "code",
   "execution_count": 54,
   "metadata": {},
   "outputs": [],
   "source": [
    "df_test = pd.read_csv(\"/Users/giovanni-lunetta/stat_3255/stat_3255_final/data/cleaned_test.csv\")"
   ]
  },
  {
   "cell_type": "code",
   "execution_count": 20,
   "metadata": {},
   "outputs": [
    {
     "data": {
      "text/plain": [
       "(93859, 859)"
      ]
     },
     "execution_count": 20,
     "metadata": {},
     "output_type": "execute_result"
    }
   ],
   "source": [
    "df_test.shape"
   ]
  },
  {
   "cell_type": "code",
   "execution_count": 55,
   "metadata": {},
   "outputs": [],
   "source": [
    "df.drop(['Created Hour', 'Created Day', 'Created Month',\n",
    "       'Resolution Updated Hour', 'Resolution Updated Day',\n",
    "       'Resolution Updated Month'], axis=1, inplace=True)\n",
    "\n",
    "df_test.drop(['Created Hour', 'Created Day', 'Created Month',\n",
    "       'Resolution Updated Hour', 'Resolution Updated Day',\n",
    "       'Resolution Updated Month'], axis=1, inplace=True)"
   ]
  },
  {
   "cell_type": "code",
   "execution_count": 56,
   "metadata": {},
   "outputs": [],
   "source": [
    "from sklearn.model_selection import train_test_split\n",
    "from sklearn.metrics import classification_report\n",
    "\n",
    "# Split the cleaned data into train and validation sets\n",
    "X_train, X_val, y_train, y_val = train_test_split(df.drop(['Borough'], axis=1), df['Borough'], test_size=0.2, random_state=42)\n",
    "X_test = df_test.drop(['Borough'], axis=1)\n",
    "y_test = df_test['Borough']\n",
    "\n",
    "# Align the test data with the training data to add any missing columns\n",
    "X_test_aligned, X_train_aligned = X_test.align(X_train, join='outer', axis=1, fill_value=0)\n",
    "X_test = X_test_aligned.loc[:, X_train.columns]"
   ]
  },
  {
   "cell_type": "code",
   "execution_count": 17,
   "metadata": {},
   "outputs": [],
   "source": [
    "# from sklearn.model_selection import train_test_split\n",
    "\n",
    "# # Split the data into training and testing sets\n",
    "# X_train, X_test, y_train, y_test = train_test_split(df.drop('Borough', axis=1), df['Borough'], test_size=0.2, random_state=42)\n",
    "\n",
    "# # Split the training data into training and validation sets\n",
    "# X_train, X_val, y_train, y_val = train_test_split(X_train, y_train, test_size=0.2, random_state=42)"
   ]
  },
  {
   "cell_type": "code",
   "execution_count": 57,
   "metadata": {},
   "outputs": [
    {
     "name": "stdout",
     "output_type": "stream",
     "text": [
      "Epoch 1/25\n",
      "4968/4968 [==============================] - 10s 2ms/step - loss: 0.7169 - accuracy: 0.7893 - val_loss: 0.5521 - val_accuracy: 0.8553\n",
      "Epoch 2/25\n",
      "4968/4968 [==============================] - 6s 1ms/step - loss: 0.5145 - accuracy: 0.8697 - val_loss: 0.4695 - val_accuracy: 0.8894\n",
      "Epoch 3/25\n",
      "4968/4968 [==============================] - 6s 1ms/step - loss: 0.4463 - accuracy: 0.8901 - val_loss: 0.4187 - val_accuracy: 0.8997\n",
      "Epoch 4/25\n",
      "4968/4968 [==============================] - 6s 1ms/step - loss: 0.4047 - accuracy: 0.9030 - val_loss: 0.3816 - val_accuracy: 0.9218\n",
      "Epoch 5/25\n",
      "4968/4968 [==============================] - 7s 1ms/step - loss: 0.3710 - accuracy: 0.9250 - val_loss: 0.3508 - val_accuracy: 0.9342\n",
      "Epoch 6/25\n",
      "4968/4968 [==============================] - 6s 1ms/step - loss: 0.3502 - accuracy: 0.9312 - val_loss: 0.3397 - val_accuracy: 0.9316\n",
      "Epoch 7/25\n",
      "4968/4968 [==============================] - 7s 1ms/step - loss: 0.3353 - accuracy: 0.9334 - val_loss: 0.3265 - val_accuracy: 0.9396\n",
      "Epoch 8/25\n",
      "4968/4968 [==============================] - 6s 1ms/step - loss: 0.3218 - accuracy: 0.9373 - val_loss: 0.3103 - val_accuracy: 0.9386\n",
      "Epoch 9/25\n",
      "4968/4968 [==============================] - 7s 1ms/step - loss: 0.3079 - accuracy: 0.9404 - val_loss: 0.3145 - val_accuracy: 0.9351\n",
      "Epoch 10/25\n",
      "4968/4968 [==============================] - 7s 1ms/step - loss: 0.2980 - accuracy: 0.9427 - val_loss: 0.2917 - val_accuracy: 0.9425\n",
      "Epoch 11/25\n",
      "4968/4968 [==============================] - 6s 1ms/step - loss: 0.2899 - accuracy: 0.9437 - val_loss: 0.2856 - val_accuracy: 0.9415\n",
      "Epoch 12/25\n",
      "4968/4968 [==============================] - 7s 1ms/step - loss: 0.2830 - accuracy: 0.9436 - val_loss: 0.2809 - val_accuracy: 0.9404\n",
      "Epoch 13/25\n",
      "4968/4968 [==============================] - 7s 1ms/step - loss: 0.2755 - accuracy: 0.9437 - val_loss: 0.2748 - val_accuracy: 0.9482\n",
      "Epoch 14/25\n",
      "4968/4968 [==============================] - 7s 1ms/step - loss: 0.2687 - accuracy: 0.9458 - val_loss: 0.2701 - val_accuracy: 0.9414\n",
      "Epoch 15/25\n",
      "4968/4968 [==============================] - 6s 1ms/step - loss: 0.2627 - accuracy: 0.9470 - val_loss: 0.2624 - val_accuracy: 0.9465\n",
      "Epoch 16/25\n",
      "4968/4968 [==============================] - 6s 1ms/step - loss: 0.2566 - accuracy: 0.9490 - val_loss: 0.2607 - val_accuracy: 0.9438\n",
      "Epoch 17/25\n",
      "4968/4968 [==============================] - 6s 1ms/step - loss: 0.2524 - accuracy: 0.9500 - val_loss: 0.2513 - val_accuracy: 0.9485\n",
      "Epoch 18/25\n",
      "4968/4968 [==============================] - 7s 1ms/step - loss: 0.2484 - accuracy: 0.9501 - val_loss: 0.2461 - val_accuracy: 0.9492\n",
      "Epoch 19/25\n",
      "4968/4968 [==============================] - 7s 1ms/step - loss: 0.2446 - accuracy: 0.9512 - val_loss: 0.2427 - val_accuracy: 0.9533\n",
      "Epoch 20/25\n",
      "4968/4968 [==============================] - 6s 1ms/step - loss: 0.2418 - accuracy: 0.9520 - val_loss: 0.2444 - val_accuracy: 0.9533\n",
      "Epoch 21/25\n",
      "4968/4968 [==============================] - 7s 1ms/step - loss: 0.2387 - accuracy: 0.9530 - val_loss: 0.2411 - val_accuracy: 0.9552\n",
      "Epoch 22/25\n",
      "4968/4968 [==============================] - 7s 1ms/step - loss: 0.2362 - accuracy: 0.9542 - val_loss: 0.2358 - val_accuracy: 0.9566\n",
      "Epoch 23/25\n",
      "4968/4968 [==============================] - 7s 2ms/step - loss: 0.2336 - accuracy: 0.9540 - val_loss: 0.2392 - val_accuracy: 0.9529\n",
      "Epoch 24/25\n",
      "4968/4968 [==============================] - 7s 1ms/step - loss: 0.2315 - accuracy: 0.9548 - val_loss: 0.2321 - val_accuracy: 0.9574\n",
      "Epoch 25/25\n",
      "4968/4968 [==============================] - 7s 1ms/step - loss: 0.2290 - accuracy: 0.9558 - val_loss: 0.2292 - val_accuracy: 0.9555\n"
     ]
    }
   ],
   "source": [
    "import tensorflow as tf\n",
    "import numpy as np\n",
    "from tensorflow.keras.models import Sequential\n",
    "from tensorflow.keras.layers import Dense\n",
    "from tensorflow.keras.utils import plot_model\n",
    "from tensorflow.keras.losses import SparseCategoricalCrossentropy\n",
    "from tensorflow.keras import regularizers\n",
    "from sklearn.metrics import f1_score\n",
    "import os\n",
    "from sklearn.model_selection import train_test_split\n",
    "from imblearn.over_sampling import SMOTE\n",
    "\n",
    "# Define model architecture\n",
    "model = tf.keras.Sequential([\n",
    "    tf.keras.layers.Dense(units=10, activation='relu', kernel_regularizer=regularizers.l2(0.01), input_shape=(X_train.shape[1],)),\n",
    "    tf.keras.layers.Dense(units=5, activation='relu', kernel_regularizer=regularizers.l2(0.01)),\n",
    "    tf.keras.layers.Dense(units=5, activation='softmax')\n",
    "])\n",
    "\n",
    "# Define optimizer with learning rate\n",
    "optimizer = tf.keras.optimizers.Adam(learning_rate=0.001)\n",
    "\n",
    "# Compile model with optimizer\n",
    "model.compile(loss='sparse_categorical_crossentropy', optimizer=optimizer, metrics=['accuracy'])\n",
    "\n",
    "# Train model\n",
    "history = model.fit(X_train, y_train, epochs=25, batch_size=32, validation_data=(X_val, y_val))"
   ]
  },
  {
   "cell_type": "code",
   "execution_count": 58,
   "metadata": {},
   "outputs": [
    {
     "name": "stdout",
     "output_type": "stream",
     "text": [
      "2934/2934 [==============================] - 3s 848us/step\n",
      "2934/2934 [==============================] - 3s 922us/step - loss: 0.2576 - accuracy: 0.9423\n",
      "Test loss: 0.2576\n",
      "Test accuracy: 0.9423\n",
      "F1 score: 0.9427\n"
     ]
    }
   ],
   "source": [
    "# Evaluate model on test data\n",
    "y_pred = model.predict(X_test)\n",
    "test_loss, test_acc = model.evaluate(X_test, y_test)\n",
    "f1 = f1_score(y_test, y_pred.argmax(axis=1), average='weighted')\n",
    "\n",
    "# Print model performance metrics\n",
    "print(f\"Test loss: {test_loss:.4f}\")\n",
    "print(f\"Test accuracy: {test_acc:.4f}\")\n",
    "print(f\"F1 score: {f1:.4f}\")"
   ]
  },
  {
   "cell_type": "code",
   "execution_count": 59,
   "metadata": {},
   "outputs": [
    {
     "name": "stdout",
     "output_type": "stream",
     "text": [
      "2934/2934 [==============================] - 2s 753us/step\n"
     ]
    },
    {
     "data": {
      "image/png": "[encoded data removed]",
      "text/plain": [
       "<Figure size 432x288 with 2 Axes>"
      ]
     },
     "metadata": {
      "needs_background": "light"
     },
     "output_type": "display_data"
    }
   ],
   "source": [
    "from sklearn.metrics import confusion_matrix\n",
    "import matplotlib.pyplot as plt\n",
    "import seaborn as sns\n",
    "\n",
    "# Use the model to predict the class of each test observation\n",
    "y_pred = model.predict(X_test)\n",
    "y_pred = np.argmax(y_pred, axis=1)\n",
    "\n",
    "# Compute the confusion matrix\n",
    "cm = confusion_matrix(y_test, y_pred)\n",
    "\n",
    "# Plot the confusion matrix using seaborn\n",
    "sns.heatmap(cm, annot=True, cmap='Blues', fmt='g', xticklabels=['Class 1', 'Class 2', 'Class 3', 'Class 4', 'Class 5'], yticklabels=['Class 1', 'Class 2', 'Class 3', 'Class 4', 'Class 5'])\n",
    "plt.xlabel('Predicted')\n",
    "plt.ylabel('Actual')\n",
    "plt.title('Confusion matrix')\n",
    "plt.show()"
   ]
  },
  {
   "cell_type": "code",
   "execution_count": 60,
   "metadata": {},
   "outputs": [
    {
     "data": {
      "image/png": "[encoded data removed]",
      "text/plain": [
       "<Figure size 432x288 with 1 Axes>"
      ]
     },
     "metadata": {
      "needs_background": "light"
     },
     "output_type": "display_data"
    }
   ],
   "source": [
    "import matplotlib.pyplot as plt\n",
    "\n",
    "# Plot training & validation loss values\n",
    "plt.plot(history.history['loss'])\n",
    "plt.plot(history.history['val_loss'])\n",
    "plt.title('Model loss')\n",
    "plt.ylabel('Loss')\n",
    "plt.xlabel('Epoch')\n",
    "plt.legend(['Train', 'Validation'], loc='upper right')\n",
    "plt.show()\n"
   ]
  },
  {
   "cell_type": "code",
   "execution_count": 61,
   "metadata": {},
   "outputs": [
    {
     "data": {
      "image/png": "[encoded data removed]",
      "text/plain": [
       "<Figure size 432x288 with 1 Axes>"
      ]
     },
     "metadata": {
      "needs_background": "light"
     },
     "output_type": "display_data"
    }
   ],
   "source": [
    "# Plot training & validation accuracy values\n",
    "plt.plot(history.history['accuracy'])\n",
    "plt.plot(history.history['val_accuracy'])\n",
    "plt.title('Model accuracy')\n",
    "plt.ylabel('Accuracy')\n",
    "plt.xlabel('Epoch')\n",
    "plt.legend(['Train', 'Validation'], loc='lower right')\n",
    "plt.show()"
   ]
  },
  {
   "cell_type": "code",
   "execution_count": 62,
   "metadata": {},
   "outputs": [
    {
     "data": {
      "image/png": "[encoded data removed]",
      "text/plain": [
       "<Figure size 648x432 with 1 Axes>"
      ]
     },
     "metadata": {
      "needs_background": "light"
     },
     "output_type": "display_data"
    }
   ],
   "source": [
    "get_activations = tf.keras.backend.function([model.layers[0].input], [model.layers[0].output])\n",
    "\n",
    "# Get the activations for the training set\n",
    "activations = get_activations(X_train.values.reshape(-1, X_train.shape[1]))[0]\n",
    "\n",
    "# Plot the distribution of the activations\n",
    "import seaborn as sns\n",
    "\n",
    "# Create a FacetGrid with the histogram\n",
    "g = sns.displot(activations.flatten(), bins=50, kde=True, height=6, aspect=1.5)\n",
    "\n",
    "# Set the label of the x-axis\n",
    "g.set_axis_labels(\"Activation value\", \"Count\")\n",
    "\n",
    "# Show the plot\n",
    "plt.show()"
   ]
  },
  {
   "cell_type": "code",
   "execution_count": 63,
   "metadata": {},
   "outputs": [
    {
     "name": "stdout",
     "output_type": "stream",
     "text": [
      "                    Predictor  Importance\n",
      "6          population_density    0.314059\n",
      "3           median_home_value    0.234184\n",
      "5     median_household_income    0.164828\n",
      "4                  population    0.118298\n",
      "1               housing_units    0.114010\n",
      "2      occupied_housing_units    0.053489\n",
      "0              duration_hours    0.000498\n",
      "1002         day_type_weekend    0.000061\n",
      "999             day_of_week_4    0.000048\n",
      "998             day_of_week_3    0.000042\n"
     ]
    }
   ],
   "source": [
    "from sklearn.tree import DecisionTreeClassifier\n",
    "\n",
    "# Create a decision tree model\n",
    "model = DecisionTreeClassifier(random_state=42)\n",
    "\n",
    "# Fit the model to the training data\n",
    "model.fit(X_train, y_train)\n",
    "\n",
    "# Get feature importances\n",
    "importances = model.feature_importances_\n",
    "\n",
    "# Create a dataframe with feature importances and predictor names\n",
    "importances_df = pd.DataFrame({'Predictor': X_train.columns, 'Importance': importances})\n",
    "\n",
    "# Sort the dataframe by importance in descending order\n",
    "importances_df = importances_df.sort_values('Importance', ascending=False)\n",
    "\n",
    "# Print the top 10 predictors by importance\n",
    "print(importances_df.head(10))"
   ]
  }
 ],
 "metadata": {
  "kernelspec": {
   "display_name": "Python 3",
   "language": "python",
   "name": "python3"
  },
  "language_info": {
   "codemirror_mode": {
    "name": "ipython",
    "version": 3
   },
   "file_extension": ".py",
   "mimetype": "text/x-python",
   "name": "python",
   "nbconvert_exporter": "python",
   "pygments_lexer": "ipython3",
   "version": "3.10.4"
  },
  "orig_nbformat": 4,
  "vscode": {
   "interpreter": {
    "hash": "aee8b7b246df8f9039afb4144a1f6fd8d2ca17a180786b69acc140d282b71a49"
   }
  }
 },
 "nbformat": 4,
 "nbformat_minor": 2
}
