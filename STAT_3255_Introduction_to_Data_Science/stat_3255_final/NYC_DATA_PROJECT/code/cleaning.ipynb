{
 "cells": [
  {
   "cell_type": "code",
   "execution_count": 2,
   "metadata": {},
   "outputs": [
    {
     "name": "stderr",
     "output_type": "stream",
     "text": [
      "/var/folders/4b/z0w6x5_n59g_x_9s3qnbx_p80000gn/T/ipykernel_57606/1050216877.py:4: DtypeWarning: Columns (31) have mixed types. Specify dtype option on import or set low_memory=False.\n",
      "  df = pd.read_csv(\"/Users/giovanni-lunetta/stat_3255/stat_3255_final/data/311_Service_Requests_from_2010_to_Present.csv\")\n"
     ]
    }
   ],
   "source": [
    "import pandas as pd\n",
    "import numpy as np\n",
    "\n",
    "df = pd.read_csv(\"/Users/giovanni-lunetta/stat_3255/stat_3255_final/data/311_Service_Requests_from_2010_to_Present.csv\")"
   ]
  },
  {
   "cell_type": "code",
   "execution_count": 2,
   "metadata": {},
   "outputs": [],
   "source": [
    "df.drop(['Unique Key', 'Location', 'Agency Name'], axis=1, inplace=True)\n",
    "df.drop(['Bridge Highway Segment', 'Road Ramp', 'Bridge Highway Direction', 'Bridge Highway Name', 'Taxi Pick Up Location', 'Taxi Company Borough', 'Vehicle Type', 'Due Date', 'Facility Type'], axis=1, inplace=True)\n",
    "df.drop(['Zip Codes', 'Community Districts', 'Borough Boundaries', 'City Council Districts'], axis=1, inplace=True)\n",
    "df.drop(['Street Name', 'BBL', 'X Coordinate (State Plane)', 'Y Coordinate (State Plane)', 'Status', 'Community Board', 'Cross Street 1', 'Cross Street 2', 'Intersection Street 1', 'Intersection Street 2', 'Landmark', 'Park Borough'], axis=1, inplace=True)"
   ]
  },
  {
   "cell_type": "code",
   "execution_count": 3,
   "metadata": {},
   "outputs": [
    {
     "data": {
      "text/plain": [
       "Created Date                       object\n",
       "Closed Date                        object\n",
       "Agency                             object\n",
       "Complaint Type                     object\n",
       "Descriptor                         object\n",
       "Location Type                      object\n",
       "Incident Zip                      float64\n",
       "Incident Address                   object\n",
       "Address Type                       object\n",
       "City                               object\n",
       "Resolution Description             object\n",
       "Resolution Action Updated Date     object\n",
       "Borough                            object\n",
       "Open Data Channel Type             object\n",
       "Park Facility Name                 object\n",
       "Latitude                          float64\n",
       "Longitude                         float64\n",
       "Police Precincts                  float64\n",
       "dtype: object"
      ]
     },
     "execution_count": 3,
     "metadata": {},
     "output_type": "execute_result"
    }
   ],
   "source": [
    "df.dtypes"
   ]
  },
  {
   "cell_type": "code",
   "execution_count": 4,
   "metadata": {},
   "outputs": [
    {
     "data": {
      "text/html": [
       "<div>\n",
       "<style scoped>\n",
       "    .dataframe tbody tr th:only-of-type {\n",
       "        vertical-align: middle;\n",
       "    }\n",
       "\n",
       "    .dataframe tbody tr th {\n",
       "        vertical-align: top;\n",
       "    }\n",
       "\n",
       "    .dataframe thead th {\n",
       "        text-align: right;\n",
       "    }\n",
       "</style>\n",
       "<table border=\"1\" class=\"dataframe\">\n",
       "  <thead>\n",
       "    <tr style=\"text-align: right;\">\n",
       "      <th></th>\n",
       "      <th>Incident Zip</th>\n",
       "      <th>Latitude</th>\n",
       "      <th>Longitude</th>\n",
       "      <th>Police Precincts</th>\n",
       "    </tr>\n",
       "  </thead>\n",
       "  <tbody>\n",
       "    <tr>\n",
       "      <th>count</th>\n",
       "      <td>232946.000000</td>\n",
       "      <td>231674.000000</td>\n",
       "      <td>231674.000000</td>\n",
       "      <td>231638.000000</td>\n",
       "    </tr>\n",
       "    <tr>\n",
       "      <th>mean</th>\n",
       "      <td>10811.249805</td>\n",
       "      <td>40.735881</td>\n",
       "      <td>-73.924741</td>\n",
       "      <td>41.243164</td>\n",
       "    </tr>\n",
       "    <tr>\n",
       "      <th>std</th>\n",
       "      <td>627.407671</td>\n",
       "      <td>0.087520</td>\n",
       "      <td>0.076771</td>\n",
       "      <td>20.439052</td>\n",
       "    </tr>\n",
       "    <tr>\n",
       "      <th>min</th>\n",
       "      <td>7071.000000</td>\n",
       "      <td>40.498949</td>\n",
       "      <td>-74.252766</td>\n",
       "      <td>1.000000</td>\n",
       "    </tr>\n",
       "    <tr>\n",
       "      <th>25%</th>\n",
       "      <td>10451.000000</td>\n",
       "      <td>40.669770</td>\n",
       "      <td>-73.967920</td>\n",
       "      <td>26.000000</td>\n",
       "    </tr>\n",
       "    <tr>\n",
       "      <th>50%</th>\n",
       "      <td>11201.000000</td>\n",
       "      <td>40.730215</td>\n",
       "      <td>-73.927349</td>\n",
       "      <td>40.000000</td>\n",
       "    </tr>\n",
       "    <tr>\n",
       "      <th>75%</th>\n",
       "      <td>11233.000000</td>\n",
       "      <td>40.817920</td>\n",
       "      <td>-73.879641</td>\n",
       "      <td>60.000000</td>\n",
       "    </tr>\n",
       "    <tr>\n",
       "      <th>max</th>\n",
       "      <td>94402.000000</td>\n",
       "      <td>40.912468</td>\n",
       "      <td>-73.700736</td>\n",
       "      <td>77.000000</td>\n",
       "    </tr>\n",
       "  </tbody>\n",
       "</table>\n",
       "</div>"
      ],
      "text/plain": [
       "        Incident Zip       Latitude      Longitude  Police Precincts\n",
       "count  232946.000000  231674.000000  231674.000000     231638.000000\n",
       "mean    10811.249805      40.735881     -73.924741         41.243164\n",
       "std       627.407671       0.087520       0.076771         20.439052\n",
       "min      7071.000000      40.498949     -74.252766          1.000000\n",
       "25%     10451.000000      40.669770     -73.967920         26.000000\n",
       "50%     11201.000000      40.730215     -73.927349         40.000000\n",
       "75%     11233.000000      40.817920     -73.879641         60.000000\n",
       "max     94402.000000      40.912468     -73.700736         77.000000"
      ]
     },
     "execution_count": 4,
     "metadata": {},
     "output_type": "execute_result"
    }
   ],
   "source": [
    "df.describe()"
   ]
  },
  {
   "cell_type": "code",
   "execution_count": 5,
   "metadata": {},
   "outputs": [
    {
     "name": "stdout",
     "output_type": "stream",
     "text": [
      "76\n",
      "19\n"
     ]
    }
   ],
   "source": [
    "count_low = df[df['Incident Zip'] <= 10000.000000]['Incident Zip'].count()\n",
    "count_high = df[df['Incident Zip'] >= 11697]['Incident Zip'].count()\n",
    "print(count_low)\n",
    "print(count_high)"
   ]
  },
  {
   "cell_type": "code",
   "execution_count": 6,
   "metadata": {},
   "outputs": [],
   "source": [
    "df.drop(df[df['Incident Zip'] <= 10000.000000].index, inplace=True)\n",
    "df.drop(df[df['Incident Zip'] >= 11697].index, inplace=True)"
   ]
  },
  {
   "cell_type": "code",
   "execution_count": 7,
   "metadata": {},
   "outputs": [],
   "source": [
    "# fill null values with 'Other'\n",
    "df['Location Type'] = df['Location Type'].fillna('Other')\n",
    "\n",
    "# change all 'Other (Explain Below)' to 'Other' because they are the same thing\n",
    "df['Location Type'] = df['Location Type'].replace('Other (Explain Below)', 'Other')\n",
    "\n",
    "# fill null values with 'Other'\n",
    "df['Descriptor'] = df['Descriptor'].fillna('Other')\n",
    "\n",
    "# change all versions of other to uniform 'Other'\n",
    "df['Descriptor'] = df['Descriptor'].replace({'Other (Explain Below)': 'Other',\n",
    "                                             'Other (complaint details)': 'Other',\n",
    "                                             'Other/Unknown': 'Other'})\n",
    "\n",
    "df[\"Address Type\"].value_counts(dropna=False)\n",
    "\n",
    "# fill null values with 'UNRECOGNIZED'\n",
    "df['Address Type'] = df['Address Type'].fillna('UNRECOGNIZED')\n",
    "\n",
    "df['Park Facility Name'] = df['Park Facility Name'].fillna('Unspecified')\n",
    "\n",
    "df = df.applymap(lambda x: x.lower() if isinstance(x, str) else x)"
   ]
  },
  {
   "cell_type": "code",
   "execution_count": 8,
   "metadata": {},
   "outputs": [],
   "source": [
    "df['Resolution Action Updated Date'] = pd.to_datetime(df['Resolution Action Updated Date'])\n",
    "df['Created Date'] = pd.to_datetime(df['Created Date'])\n",
    "df['Closed Date'] = pd.to_datetime(df['Closed Date'], errors='coerce')"
   ]
  },
  {
   "cell_type": "code",
   "execution_count": 9,
   "metadata": {},
   "outputs": [
    {
     "name": "stdout",
     "output_type": "stream",
     "text": [
      "There are instances where 'Closed Date' is earlier than 'Created Date'\n"
     ]
    }
   ],
   "source": [
    "# Check if there are any instances where the \"Closed Date\" is earlier than the \"Created Date\"\n",
    "closed_earlier = df[df['Closed Date'] < df['Created Date']]\n",
    "\n",
    "if closed_earlier.empty:\n",
    "    print(\"No instances where 'Closed Date' is earlier than 'Created Date'\")\n",
    "else:\n",
    "    print(\"There are instances where 'Closed Date' is earlier than 'Created Date'\")"
   ]
  },
  {
   "cell_type": "code",
   "execution_count": 10,
   "metadata": {},
   "outputs": [],
   "source": [
    "# creates an index containing all of examples where closed date is before created data and drops those columns\n",
    "index_to_drop = df.index[df['Closed Date'] < df['Created Date']].tolist()\n",
    "df.drop(index_to_drop, inplace=True)"
   ]
  },
  {
   "cell_type": "code",
   "execution_count": 11,
   "metadata": {},
   "outputs": [
    {
     "name": "stdout",
     "output_type": "stream",
     "text": [
      "Created Date                      0.000000\n",
      "Closed Date                       6.293567\n",
      "Agency                            0.000000\n",
      "Complaint Type                    0.000000\n",
      "Descriptor                        0.000000\n",
      "Location Type                     0.000000\n",
      "Incident Zip                      1.268319\n",
      "Incident Address                  4.771924\n",
      "Address Type                      0.000000\n",
      "City                              4.338383\n",
      "Resolution Description            1.264494\n",
      "Resolution Action Updated Date    1.136132\n",
      "Borough                           0.000000\n",
      "Open Data Channel Type            0.000000\n",
      "Park Facility Name                0.000000\n",
      "Latitude                          1.802169\n",
      "Longitude                         1.802169\n",
      "Police Precincts                  1.817471\n",
      "dtype: float64\n"
     ]
    }
   ],
   "source": [
    "print((df.isnull().sum() * 100)/ len(df))"
   ]
  },
  {
   "cell_type": "code",
   "execution_count": 12,
   "metadata": {},
   "outputs": [],
   "source": [
    "df.dropna(subset=['Latitude', 'Longitude'], inplace=True)"
   ]
  },
  {
   "cell_type": "code",
   "execution_count": 13,
   "metadata": {},
   "outputs": [],
   "source": [
    "df['duration'] = df['Closed Date'] - df['Created Date']\n",
    "\n",
    "# convert the resulting timedelta object to a numerical value in seconds\n",
    "df['duration_seconds'] = df['duration'].dt.total_seconds()\n",
    "\n",
    "df['duration_hours'] = df['duration'].dt.total_seconds() / 3600\n",
    "\n",
    "df['duration_days'] = df['duration'].dt.days\n",
    "\n",
    "# Create two new columns - one for the day of the week and one for the type of day (weekday/weekend):\n",
    "df['day_of_week'] = df['Created Date'].dt.dayofweek\n",
    "df['day_type'] = np.where(df['day_of_week'] < 5, 'weekday', 'weekend')"
   ]
  },
  {
   "cell_type": "code",
   "execution_count": 14,
   "metadata": {},
   "outputs": [],
   "source": [
    "df['duration_hours'] = df['duration_hours'].fillna(168)"
   ]
  },
  {
   "cell_type": "code",
   "execution_count": 15,
   "metadata": {},
   "outputs": [],
   "source": [
    "from uszipcode import SearchEngine\n",
    "import pandas as pd\n",
    "\n",
    "sr = SearchEngine()\n",
    "\n",
    "borough_zipcodes = {\n",
    "    'Bronx': [str(zipcode) for zipcode in range(10451, 10476)],\n",
    "    'Brooklyn': [str(zipcode) for zipcode in range(11201, 11257)],\n",
    "    'Manhattan': [str(zipcode) for zipcode in range(10001, 10283)],\n",
    "    'Queens': [str(zipcode) for zipcode in range(11004, 11110)] + [str(zipcode) for zipcode in range(11351, 11698)],\n",
    "    'Staten Island': [str(zipcode) for zipcode in range(10301, 10315)]\n",
    "}\n",
    "\n",
    "zip_info_list = []\n",
    "\n",
    "for borough, zipcodes in borough_zipcodes.items():\n",
    "    for zipcode in zipcodes:\n",
    "        zip_info = sr.by_zipcode(zipcode)\n",
    "        if zip_info is not None:\n",
    "            zip_info_dict = zip_info.__dict__\n",
    "            zip_info_dict['borough'] = borough\n",
    "            zip_info_list.append(zip_info_dict)\n",
    "\n",
    "df1 = pd.DataFrame(zip_info_list)\n",
    "\n",
    "df1.to_csv('zip_codes.csv')"
   ]
  },
  {
   "cell_type": "code",
   "execution_count": 16,
   "metadata": {},
   "outputs": [],
   "source": [
    "df_zip = pd.read_csv(\"/Users/giovanni-lunetta/stat_3255/stat_3255_final/data/zip_codes.csv\")"
   ]
  },
  {
   "cell_type": "code",
   "execution_count": 17,
   "metadata": {},
   "outputs": [
    {
     "data": {
      "text/html": [
       "<div>\n",
       "<style scoped>\n",
       "    .dataframe tbody tr th:only-of-type {\n",
       "        vertical-align: middle;\n",
       "    }\n",
       "\n",
       "    .dataframe tbody tr th {\n",
       "        vertical-align: top;\n",
       "    }\n",
       "\n",
       "    .dataframe thead th {\n",
       "        text-align: right;\n",
       "    }\n",
       "</style>\n",
       "<table border=\"1\" class=\"dataframe\">\n",
       "  <thead>\n",
       "    <tr style=\"text-align: right;\">\n",
       "      <th></th>\n",
       "      <th>Unnamed: 0</th>\n",
       "      <th>_sa_instance_state</th>\n",
       "      <th>lat</th>\n",
       "      <th>water_area_in_sqmi</th>\n",
       "      <th>bounds_east</th>\n",
       "      <th>zipcode_type</th>\n",
       "      <th>lng</th>\n",
       "      <th>housing_units</th>\n",
       "      <th>bounds_north</th>\n",
       "      <th>zipcode</th>\n",
       "      <th>...</th>\n",
       "      <th>median_home_value</th>\n",
       "      <th>common_city_list</th>\n",
       "      <th>population</th>\n",
       "      <th>median_household_income</th>\n",
       "      <th>county</th>\n",
       "      <th>population_density</th>\n",
       "      <th>bounds_west</th>\n",
       "      <th>state</th>\n",
       "      <th>land_area_in_sqmi</th>\n",
       "      <th>borough</th>\n",
       "    </tr>\n",
       "  </thead>\n",
       "  <tbody>\n",
       "    <tr>\n",
       "      <th>0</th>\n",
       "      <td>0</td>\n",
       "      <td>&lt;sqlalchemy.orm.state.InstanceState object at ...</td>\n",
       "      <td>40.82</td>\n",
       "      <td>0.0</td>\n",
       "      <td>-73.908709</td>\n",
       "      <td>STANDARD</td>\n",
       "      <td>-73.93</td>\n",
       "      <td>17779.0</td>\n",
       "      <td>40.830915</td>\n",
       "      <td>10451</td>\n",
       "      <td>...</td>\n",
       "      <td>170600.0</td>\n",
       "      <td>['Bronx']</td>\n",
       "      <td>45713.0</td>\n",
       "      <td>26754.0</td>\n",
       "      <td>Bronx County</td>\n",
       "      <td>45043.0</td>\n",
       "      <td>-73.932941</td>\n",
       "      <td>NY</td>\n",
       "      <td>1.01</td>\n",
       "      <td>Bronx</td>\n",
       "    </tr>\n",
       "    <tr>\n",
       "      <th>1</th>\n",
       "      <td>1</td>\n",
       "      <td>&lt;sqlalchemy.orm.state.InstanceState object at ...</td>\n",
       "      <td>40.84</td>\n",
       "      <td>0.0</td>\n",
       "      <td>-73.911049</td>\n",
       "      <td>STANDARD</td>\n",
       "      <td>-73.92</td>\n",
       "      <td>25866.0</td>\n",
       "      <td>40.846520</td>\n",
       "      <td>10452</td>\n",
       "      <td>...</td>\n",
       "      <td>402800.0</td>\n",
       "      <td>['Bronx']</td>\n",
       "      <td>75371.0</td>\n",
       "      <td>25979.0</td>\n",
       "      <td>Bronx County</td>\n",
       "      <td>76548.0</td>\n",
       "      <td>-73.933406</td>\n",
       "      <td>NY</td>\n",
       "      <td>0.98</td>\n",
       "      <td>Bronx</td>\n",
       "    </tr>\n",
       "    <tr>\n",
       "      <th>2</th>\n",
       "      <td>2</td>\n",
       "      <td>&lt;sqlalchemy.orm.state.InstanceState object at ...</td>\n",
       "      <td>40.85</td>\n",
       "      <td>0.0</td>\n",
       "      <td>-73.899949</td>\n",
       "      <td>STANDARD</td>\n",
       "      <td>-73.91</td>\n",
       "      <td>27018.0</td>\n",
       "      <td>40.860601</td>\n",
       "      <td>10453</td>\n",
       "      <td>...</td>\n",
       "      <td>445200.0</td>\n",
       "      <td>['Bronx']</td>\n",
       "      <td>78309.0</td>\n",
       "      <td>25470.0</td>\n",
       "      <td>Bronx County</td>\n",
       "      <td>85491.0</td>\n",
       "      <td>-73.928242</td>\n",
       "      <td>NY</td>\n",
       "      <td>0.92</td>\n",
       "      <td>Bronx</td>\n",
       "    </tr>\n",
       "    <tr>\n",
       "      <th>3</th>\n",
       "      <td>3</td>\n",
       "      <td>&lt;sqlalchemy.orm.state.InstanceState object at ...</td>\n",
       "      <td>40.81</td>\n",
       "      <td>0.0</td>\n",
       "      <td>-73.901892</td>\n",
       "      <td>STANDARD</td>\n",
       "      <td>-73.92</td>\n",
       "      <td>12772.0</td>\n",
       "      <td>40.813731</td>\n",
       "      <td>10454</td>\n",
       "      <td>...</td>\n",
       "      <td>386000.0</td>\n",
       "      <td>['Bronx']</td>\n",
       "      <td>37337.0</td>\n",
       "      <td>20232.0</td>\n",
       "      <td>Bronx County</td>\n",
       "      <td>35820.0</td>\n",
       "      <td>-73.931681</td>\n",
       "      <td>NY</td>\n",
       "      <td>1.04</td>\n",
       "      <td>Bronx</td>\n",
       "    </tr>\n",
       "    <tr>\n",
       "      <th>4</th>\n",
       "      <td>4</td>\n",
       "      <td>&lt;sqlalchemy.orm.state.InstanceState object at ...</td>\n",
       "      <td>40.81</td>\n",
       "      <td>0.0</td>\n",
       "      <td>-73.895158</td>\n",
       "      <td>STANDARD</td>\n",
       "      <td>-73.91</td>\n",
       "      <td>13851.0</td>\n",
       "      <td>40.821277</td>\n",
       "      <td>10455</td>\n",
       "      <td>...</td>\n",
       "      <td>318600.0</td>\n",
       "      <td>['Bronx']</td>\n",
       "      <td>39665.0</td>\n",
       "      <td>22609.0</td>\n",
       "      <td>Bronx County</td>\n",
       "      <td>55696.0</td>\n",
       "      <td>-73.922088</td>\n",
       "      <td>NY</td>\n",
       "      <td>0.71</td>\n",
       "      <td>Bronx</td>\n",
       "    </tr>\n",
       "  </tbody>\n",
       "</table>\n",
       "<p>5 rows × 27 columns</p>\n",
       "</div>"
      ],
      "text/plain": [
       "   Unnamed: 0                                 _sa_instance_state    lat  \\\n",
       "0           0  <sqlalchemy.orm.state.InstanceState object at ...  40.82   \n",
       "1           1  <sqlalchemy.orm.state.InstanceState object at ...  40.84   \n",
       "2           2  <sqlalchemy.orm.state.InstanceState object at ...  40.85   \n",
       "3           3  <sqlalchemy.orm.state.InstanceState object at ...  40.81   \n",
       "4           4  <sqlalchemy.orm.state.InstanceState object at ...  40.81   \n",
       "\n",
       "   water_area_in_sqmi  bounds_east zipcode_type    lng  housing_units  \\\n",
       "0                 0.0   -73.908709     STANDARD -73.93        17779.0   \n",
       "1                 0.0   -73.911049     STANDARD -73.92        25866.0   \n",
       "2                 0.0   -73.899949     STANDARD -73.91        27018.0   \n",
       "3                 0.0   -73.901892     STANDARD -73.92        12772.0   \n",
       "4                 0.0   -73.895158     STANDARD -73.91        13851.0   \n",
       "\n",
       "   bounds_north  zipcode  ... median_home_value  common_city_list  population  \\\n",
       "0     40.830915    10451  ...          170600.0         ['Bronx']     45713.0   \n",
       "1     40.846520    10452  ...          402800.0         ['Bronx']     75371.0   \n",
       "2     40.860601    10453  ...          445200.0         ['Bronx']     78309.0   \n",
       "3     40.813731    10454  ...          386000.0         ['Bronx']     37337.0   \n",
       "4     40.821277    10455  ...          318600.0         ['Bronx']     39665.0   \n",
       "\n",
       "  median_household_income        county population_density bounds_west  state  \\\n",
       "0                 26754.0  Bronx County            45043.0  -73.932941     NY   \n",
       "1                 25979.0  Bronx County            76548.0  -73.933406     NY   \n",
       "2                 25470.0  Bronx County            85491.0  -73.928242     NY   \n",
       "3                 20232.0  Bronx County            35820.0  -73.931681     NY   \n",
       "4                 22609.0  Bronx County            55696.0  -73.922088     NY   \n",
       "\n",
       "  land_area_in_sqmi  borough  \n",
       "0              1.01    Bronx  \n",
       "1              0.98    Bronx  \n",
       "2              0.92    Bronx  \n",
       "3              1.04    Bronx  \n",
       "4              0.71    Bronx  \n",
       "\n",
       "[5 rows x 27 columns]"
      ]
     },
     "execution_count": 17,
     "metadata": {},
     "output_type": "execute_result"
    }
   ],
   "source": [
    "df_zip.head()"
   ]
  },
  {
   "cell_type": "code",
   "execution_count": 18,
   "metadata": {},
   "outputs": [],
   "source": [
    "df_zip.drop(['Unnamed: 0', '_sa_instance_state', 'lat', 'water_area_in_sqmi', 'bounds_east', 'zipcode_type', 'lng', 'bounds_north', 'common_city_list', 'county', 'bounds_west', 'state', 'land_area_in_sqmi', 'borough', 'timezone', 'bounds_south', 'major_city', 'radius_in_miles', 'post_office_city', 'area_code_list'], axis=1, inplace=True)"
   ]
  },
  {
   "cell_type": "code",
   "execution_count": 19,
   "metadata": {},
   "outputs": [
    {
     "data": {
      "text/html": [
       "<div>\n",
       "<style scoped>\n",
       "    .dataframe tbody tr th:only-of-type {\n",
       "        vertical-align: middle;\n",
       "    }\n",
       "\n",
       "    .dataframe tbody tr th {\n",
       "        vertical-align: top;\n",
       "    }\n",
       "\n",
       "    .dataframe thead th {\n",
       "        text-align: right;\n",
       "    }\n",
       "</style>\n",
       "<table border=\"1\" class=\"dataframe\">\n",
       "  <thead>\n",
       "    <tr style=\"text-align: right;\">\n",
       "      <th></th>\n",
       "      <th>housing_units</th>\n",
       "      <th>zipcode</th>\n",
       "      <th>occupied_housing_units</th>\n",
       "      <th>median_home_value</th>\n",
       "      <th>population</th>\n",
       "      <th>median_household_income</th>\n",
       "      <th>population_density</th>\n",
       "    </tr>\n",
       "  </thead>\n",
       "  <tbody>\n",
       "    <tr>\n",
       "      <th>0</th>\n",
       "      <td>17779.0</td>\n",
       "      <td>10451</td>\n",
       "      <td>17106.0</td>\n",
       "      <td>170600.0</td>\n",
       "      <td>45713.0</td>\n",
       "      <td>26754.0</td>\n",
       "      <td>45043.0</td>\n",
       "    </tr>\n",
       "    <tr>\n",
       "      <th>1</th>\n",
       "      <td>25866.0</td>\n",
       "      <td>10452</td>\n",
       "      <td>24796.0</td>\n",
       "      <td>402800.0</td>\n",
       "      <td>75371.0</td>\n",
       "      <td>25979.0</td>\n",
       "      <td>76548.0</td>\n",
       "    </tr>\n",
       "    <tr>\n",
       "      <th>2</th>\n",
       "      <td>27018.0</td>\n",
       "      <td>10453</td>\n",
       "      <td>25307.0</td>\n",
       "      <td>445200.0</td>\n",
       "      <td>78309.0</td>\n",
       "      <td>25470.0</td>\n",
       "      <td>85491.0</td>\n",
       "    </tr>\n",
       "    <tr>\n",
       "      <th>3</th>\n",
       "      <td>12772.0</td>\n",
       "      <td>10454</td>\n",
       "      <td>11978.0</td>\n",
       "      <td>386000.0</td>\n",
       "      <td>37337.0</td>\n",
       "      <td>20232.0</td>\n",
       "      <td>35820.0</td>\n",
       "    </tr>\n",
       "    <tr>\n",
       "      <th>4</th>\n",
       "      <td>13851.0</td>\n",
       "      <td>10455</td>\n",
       "      <td>12880.0</td>\n",
       "      <td>318600.0</td>\n",
       "      <td>39665.0</td>\n",
       "      <td>22609.0</td>\n",
       "      <td>55696.0</td>\n",
       "    </tr>\n",
       "  </tbody>\n",
       "</table>\n",
       "</div>"
      ],
      "text/plain": [
       "   housing_units  zipcode  occupied_housing_units  median_home_value  \\\n",
       "0        17779.0    10451                 17106.0           170600.0   \n",
       "1        25866.0    10452                 24796.0           402800.0   \n",
       "2        27018.0    10453                 25307.0           445200.0   \n",
       "3        12772.0    10454                 11978.0           386000.0   \n",
       "4        13851.0    10455                 12880.0           318600.0   \n",
       "\n",
       "   population  median_household_income  population_density  \n",
       "0     45713.0                  26754.0             45043.0  \n",
       "1     75371.0                  25979.0             76548.0  \n",
       "2     78309.0                  25470.0             85491.0  \n",
       "3     37337.0                  20232.0             35820.0  \n",
       "4     39665.0                  22609.0             55696.0  "
      ]
     },
     "execution_count": 19,
     "metadata": {},
     "output_type": "execute_result"
    }
   ],
   "source": [
    "df_zip.head()"
   ]
  },
  {
   "cell_type": "code",
   "execution_count": 20,
   "metadata": {},
   "outputs": [],
   "source": [
    "# merge df and df_zip on 'Incident Zip' in df and 'zipcode' in df_zip\n",
    "df = pd.merge(df, df_zip, left_on='Incident Zip', right_on='zipcode', how='left')\n",
    "\n",
    "# drop the 'zipcode' column from the merged dataframe\n",
    "df = df.drop('zipcode', axis=1)"
   ]
  },
  {
   "cell_type": "code",
   "execution_count": 21,
   "metadata": {},
   "outputs": [],
   "source": [
    "df = df[df['Borough'] != 'unspecified']"
   ]
  },
  {
   "cell_type": "code",
   "execution_count": 22,
   "metadata": {},
   "outputs": [
    {
     "name": "stdout",
     "output_type": "stream",
     "text": [
      "Created Date                      0.000000\n",
      "Closed Date                       6.341597\n",
      "Agency                            0.000000\n",
      "Complaint Type                    0.000000\n",
      "Descriptor                        0.000000\n",
      "Location Type                     0.000000\n",
      "Incident Zip                      0.480279\n",
      "Incident Address                  4.150863\n",
      "Address Type                      0.000000\n",
      "City                              3.286100\n",
      "Resolution Description            1.253582\n",
      "Resolution Action Updated Date    1.141747\n",
      "Borough                           0.000000\n",
      "Open Data Channel Type            0.000000\n",
      "Park Facility Name                0.000000\n",
      "Latitude                          0.000000\n",
      "Longitude                         0.000000\n",
      "Police Precincts                  0.015171\n",
      "duration                          6.341597\n",
      "duration_seconds                  6.341597\n",
      "duration_hours                    0.000000\n",
      "duration_days                     6.341597\n",
      "day_of_week                       0.000000\n",
      "day_type                          0.000000\n",
      "housing_units                     1.050720\n",
      "occupied_housing_units            1.050720\n",
      "median_home_value                 1.050720\n",
      "population                        1.050720\n",
      "median_household_income           1.050720\n",
      "population_density                1.050720\n",
      "dtype: float64\n"
     ]
    }
   ],
   "source": [
    "print((df.isnull().sum() * 100)/ len(df))"
   ]
  },
  {
   "cell_type": "code",
   "execution_count": 23,
   "metadata": {},
   "outputs": [],
   "source": [
    "# Replace all strings containing 'noise' with 'Noise'\n",
    "df['Complaint Type'] = df['Complaint Type'].str.replace(r'.*noise.*', 'noise', regex=True)"
   ]
  },
  {
   "cell_type": "code",
   "execution_count": 24,
   "metadata": {},
   "outputs": [],
   "source": [
    "# descriptor_counts = df['Complaint Type'].value_counts()\n",
    "# num_single_counts = (descriptor_counts == 1).sum()\n",
    "# print(f'There are {num_single_counts} values in the Descriptor column with a value count of 1')"
   ]
  },
  {
   "cell_type": "code",
   "execution_count": 25,
   "metadata": {},
   "outputs": [],
   "source": [
    "# descriptor_value_counts = df['Descriptor'].value_counts()\n",
    "\n",
    "# descriptor_stats = descriptor_value_counts.describe()\n",
    "\n",
    "# print(descriptor_stats)"
   ]
  },
  {
   "cell_type": "code",
   "execution_count": 26,
   "metadata": {},
   "outputs": [],
   "source": [
    "counts = df['Descriptor'].value_counts()\n",
    "to_remove = counts[counts < 10].index\n",
    "df = df[~df['Descriptor'].isin(to_remove)]\n",
    "\n",
    "counts2 = df['Complaint Type'].value_counts()\n",
    "to_remove2 = counts2[counts2 < 10].index\n",
    "df = df[~df['Complaint Type'].isin(to_remove2)]"
   ]
  },
  {
   "cell_type": "code",
   "execution_count": 27,
   "metadata": {},
   "outputs": [
    {
     "data": {
      "text/plain": [
       "brooklyn         71363\n",
       "queens           52037\n",
       "bronx            49869\n",
       "manhattan        46485\n",
       "staten island    10012\n",
       "Name: Borough, dtype: int64"
      ]
     },
     "execution_count": 27,
     "metadata": {},
     "output_type": "execute_result"
    }
   ],
   "source": [
    "df['Borough'].value_counts()"
   ]
  },
  {
   "cell_type": "code",
   "execution_count": 28,
   "metadata": {},
   "outputs": [],
   "source": [
    "df.to_csv('/Users/giovanni-lunetta/stat_3255/stat_3255_final/data/cleaned.csv', index=False)"
   ]
  },
  {
   "attachments": {},
   "cell_type": "markdown",
   "metadata": {},
   "source": [
    "<!-- ---\n",
    "title: \"Investigating 311 Complaints in NYC\"\n",
    "subtitle: \"A Data Science Research Proposal\"\n",
    "author:\n",
    "- name: Your Name\n",
    "  email: your.email@example.com\n",
    "  twitter: your_twitter_handle\n",
    "output:\n",
    "  quarto::quarto_presentation:\n",
    "    theme: sky\n",
    "    highlight: tango\n",
    "---\n",
    "\n",
    "## Introduction\n",
    "\n",
    "This research proposal aims to investigate the relationship between specific types of 311 complaints and the boroughs they are most common in, as well as the demographic characteristics of those boroughs. This research is important as it can help identify potential areas for improvement in service delivery and policy development in New York City. Previous studies have analyzed the relationship between 311 complaints and various demographic factors such as income, race, and education level (e.g. “Structure of 311 service requests as a signature of urban location”). However, there is a need to further explore the variations in 311 complaints across different boroughs.\n",
    "\n",
    "## Cleaning Data\n",
    "\n",
    "The following code was used to clean the data:\n",
    "\n",
    "```{code-block, engine='python'} -->"
   ]
  }
 ],
 "metadata": {
  "kernelspec": {
   "display_name": "Python 3",
   "language": "python",
   "name": "python3"
  },
  "language_info": {
   "codemirror_mode": {
    "name": "ipython",
    "version": 3
   },
   "file_extension": ".py",
   "mimetype": "text/x-python",
   "name": "python",
   "nbconvert_exporter": "python",
   "pygments_lexer": "ipython3",
   "version": "3.10.4"
  },
  "orig_nbformat": 4,
  "vscode": {
   "interpreter": {
    "hash": "aee8b7b246df8f9039afb4144a1f6fd8d2ca17a180786b69acc140d282b71a49"
   }
  }
 },
 "nbformat": 4,
 "nbformat_minor": 2
}
