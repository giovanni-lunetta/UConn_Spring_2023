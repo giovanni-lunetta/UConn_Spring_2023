{
 "cells": [
  {
   "cell_type": "markdown",
   "id": "2f4288dc",
   "metadata": {},
   "source": [
    "Using the cleaned NYC crash data, perform classification of injury with support vector machine and compare the results with the benchmark from regularized logistic regression. Use the last week’s data as testing data."
   ]
  },
  {
   "cell_type": "code",
   "execution_count": 1,
   "id": "6ac99334",
   "metadata": {},
   "outputs": [],
   "source": [
    "import pandas as pd"
   ]
  },
  {
   "cell_type": "code",
   "execution_count": 3,
   "id": "9b029fca",
   "metadata": {},
   "outputs": [],
   "source": [
    "# read the dataset\n",
    "df = pd.read_csv(\"new_crash_data.csv\")"
   ]
  },
  {
   "cell_type": "code",
   "execution_count": 4,
   "id": "242a56ca",
   "metadata": {},
   "outputs": [
    {
     "data": {
      "text/html": [
       "<div>\n",
       "<style scoped>\n",
       "    .dataframe tbody tr th:only-of-type {\n",
       "        vertical-align: middle;\n",
       "    }\n",
       "\n",
       "    .dataframe tbody tr th {\n",
       "        vertical-align: top;\n",
       "    }\n",
       "\n",
       "    .dataframe thead th {\n",
       "        text-align: right;\n",
       "    }\n",
       "</style>\n",
       "<table border=\"1\" class=\"dataframe\">\n",
       "  <thead>\n",
       "    <tr style=\"text-align: right;\">\n",
       "      <th></th>\n",
       "      <th>Unnamed: 0</th>\n",
       "      <th>CRASH DATE</th>\n",
       "      <th>CRASH TIME</th>\n",
       "      <th>BOROUGH</th>\n",
       "      <th>ZIP CODE</th>\n",
       "      <th>LATITUDE</th>\n",
       "      <th>LONGITUDE</th>\n",
       "      <th>LOCATION</th>\n",
       "      <th>ON STREET NAME</th>\n",
       "      <th>CROSS STREET NAME</th>\n",
       "      <th>...</th>\n",
       "      <th>CONTRIBUTING FACTOR VEHICLE 4</th>\n",
       "      <th>CONTRIBUTING FACTOR VEHICLE 5</th>\n",
       "      <th>COLLISION_ID</th>\n",
       "      <th>VEHICLE TYPE CODE 1</th>\n",
       "      <th>VEHICLE TYPE CODE 2</th>\n",
       "      <th>VEHICLE TYPE CODE 3</th>\n",
       "      <th>VEHICLE TYPE CODE 4</th>\n",
       "      <th>VEHICLE TYPE CODE 5</th>\n",
       "      <th>ZIP CODE Missing</th>\n",
       "      <th>BOROUGH Missing</th>\n",
       "    </tr>\n",
       "  </thead>\n",
       "  <tbody>\n",
       "    <tr>\n",
       "      <th>0</th>\n",
       "      <td>0</td>\n",
       "      <td>01/01/2023</td>\n",
       "      <td>14:38</td>\n",
       "      <td>NaN</td>\n",
       "      <td>NaN</td>\n",
       "      <td>NaN</td>\n",
       "      <td>NaN</td>\n",
       "      <td>NaN</td>\n",
       "      <td>BROOKLYN QUEENS EXPRESSWAY RAMP</td>\n",
       "      <td>NaN</td>\n",
       "      <td>...</td>\n",
       "      <td>NaN</td>\n",
       "      <td>NaN</td>\n",
       "      <td>4594563</td>\n",
       "      <td>Sedan</td>\n",
       "      <td>Sedan</td>\n",
       "      <td>Sedan</td>\n",
       "      <td>NaN</td>\n",
       "      <td>NaN</td>\n",
       "      <td>1</td>\n",
       "      <td>1</td>\n",
       "    </tr>\n",
       "    <tr>\n",
       "      <th>1</th>\n",
       "      <td>1</td>\n",
       "      <td>01/01/2023</td>\n",
       "      <td>8:04</td>\n",
       "      <td>NaN</td>\n",
       "      <td>NaN</td>\n",
       "      <td>NaN</td>\n",
       "      <td>NaN</td>\n",
       "      <td>NaN</td>\n",
       "      <td>NASSAU EXPRESSWAY</td>\n",
       "      <td>NaN</td>\n",
       "      <td>...</td>\n",
       "      <td>NaN</td>\n",
       "      <td>NaN</td>\n",
       "      <td>4594599</td>\n",
       "      <td>Sedan</td>\n",
       "      <td>Sedan</td>\n",
       "      <td>NaN</td>\n",
       "      <td>NaN</td>\n",
       "      <td>NaN</td>\n",
       "      <td>1</td>\n",
       "      <td>1</td>\n",
       "    </tr>\n",
       "    <tr>\n",
       "      <th>2</th>\n",
       "      <td>2</td>\n",
       "      <td>01/01/2023</td>\n",
       "      <td>18:05</td>\n",
       "      <td>NaN</td>\n",
       "      <td>NaN</td>\n",
       "      <td>NaN</td>\n",
       "      <td>NaN</td>\n",
       "      <td>NaN</td>\n",
       "      <td>10 AVENUE</td>\n",
       "      <td>11 AVENUE</td>\n",
       "      <td>...</td>\n",
       "      <td>NaN</td>\n",
       "      <td>NaN</td>\n",
       "      <td>4594810</td>\n",
       "      <td>Sedan</td>\n",
       "      <td>Taxi</td>\n",
       "      <td>NaN</td>\n",
       "      <td>NaN</td>\n",
       "      <td>NaN</td>\n",
       "      <td>1</td>\n",
       "      <td>1</td>\n",
       "    </tr>\n",
       "    <tr>\n",
       "      <th>3</th>\n",
       "      <td>3</td>\n",
       "      <td>01/01/2023</td>\n",
       "      <td>23:45</td>\n",
       "      <td>QUEENS</td>\n",
       "      <td>11103.0</td>\n",
       "      <td>40.769737</td>\n",
       "      <td>-73.91244</td>\n",
       "      <td>(40.769737, -73.91244)</td>\n",
       "      <td>ASTORIA BOULEVARD</td>\n",
       "      <td>37 STREET</td>\n",
       "      <td>...</td>\n",
       "      <td>NaN</td>\n",
       "      <td>NaN</td>\n",
       "      <td>4594595</td>\n",
       "      <td>Taxi</td>\n",
       "      <td>Taxi</td>\n",
       "      <td>NaN</td>\n",
       "      <td>NaN</td>\n",
       "      <td>NaN</td>\n",
       "      <td>0</td>\n",
       "      <td>0</td>\n",
       "    </tr>\n",
       "    <tr>\n",
       "      <th>4</th>\n",
       "      <td>4</td>\n",
       "      <td>01/01/2023</td>\n",
       "      <td>4:50</td>\n",
       "      <td>BRONX</td>\n",
       "      <td>10462.0</td>\n",
       "      <td>40.830555</td>\n",
       "      <td>-73.85072</td>\n",
       "      <td>(40.830555, -73.85072)</td>\n",
       "      <td>CASTLE HILL AVENUE</td>\n",
       "      <td>EAST 177 STREET</td>\n",
       "      <td>...</td>\n",
       "      <td>NaN</td>\n",
       "      <td>NaN</td>\n",
       "      <td>4594761</td>\n",
       "      <td>Station Wagon/Sport Utility Vehicle</td>\n",
       "      <td>Sedan</td>\n",
       "      <td>NaN</td>\n",
       "      <td>NaN</td>\n",
       "      <td>NaN</td>\n",
       "      <td>0</td>\n",
       "      <td>0</td>\n",
       "    </tr>\n",
       "  </tbody>\n",
       "</table>\n",
       "<p>5 rows × 32 columns</p>\n",
       "</div>"
      ],
      "text/plain": [
       "   Unnamed: 0  CRASH DATE CRASH TIME BOROUGH  ZIP CODE   LATITUDE  LONGITUDE  \\\n",
       "0           0  01/01/2023      14:38     NaN       NaN        NaN        NaN   \n",
       "1           1  01/01/2023       8:04     NaN       NaN        NaN        NaN   \n",
       "2           2  01/01/2023      18:05     NaN       NaN        NaN        NaN   \n",
       "3           3  01/01/2023      23:45  QUEENS   11103.0  40.769737  -73.91244   \n",
       "4           4  01/01/2023       4:50   BRONX   10462.0  40.830555  -73.85072   \n",
       "\n",
       "                 LOCATION                   ON STREET NAME CROSS STREET NAME  \\\n",
       "0                     NaN  BROOKLYN QUEENS EXPRESSWAY RAMP               NaN   \n",
       "1                     NaN                NASSAU EXPRESSWAY               NaN   \n",
       "2                     NaN                        10 AVENUE         11 AVENUE   \n",
       "3  (40.769737, -73.91244)                ASTORIA BOULEVARD         37 STREET   \n",
       "4  (40.830555, -73.85072)               CASTLE HILL AVENUE   EAST 177 STREET   \n",
       "\n",
       "   ... CONTRIBUTING FACTOR VEHICLE 4  CONTRIBUTING FACTOR VEHICLE 5  \\\n",
       "0  ...                           NaN                            NaN   \n",
       "1  ...                           NaN                            NaN   \n",
       "2  ...                           NaN                            NaN   \n",
       "3  ...                           NaN                            NaN   \n",
       "4  ...                           NaN                            NaN   \n",
       "\n",
       "   COLLISION_ID                  VEHICLE TYPE CODE 1  VEHICLE TYPE CODE 2  \\\n",
       "0       4594563                                Sedan                Sedan   \n",
       "1       4594599                                Sedan                Sedan   \n",
       "2       4594810                                Sedan                 Taxi   \n",
       "3       4594595                                 Taxi                 Taxi   \n",
       "4       4594761  Station Wagon/Sport Utility Vehicle                Sedan   \n",
       "\n",
       "   VEHICLE TYPE CODE 3  VEHICLE TYPE CODE 4  VEHICLE TYPE CODE 5  \\\n",
       "0                Sedan                  NaN                  NaN   \n",
       "1                  NaN                  NaN                  NaN   \n",
       "2                  NaN                  NaN                  NaN   \n",
       "3                  NaN                  NaN                  NaN   \n",
       "4                  NaN                  NaN                  NaN   \n",
       "\n",
       "   ZIP CODE Missing BOROUGH Missing  \n",
       "0                 1               1  \n",
       "1                 1               1  \n",
       "2                 1               1  \n",
       "3                 0               0  \n",
       "4                 0               0  \n",
       "\n",
       "[5 rows x 32 columns]"
      ]
     },
     "execution_count": 4,
     "metadata": {},
     "output_type": "execute_result"
    }
   ],
   "source": [
    "df.head()"
   ]
  },
  {
   "cell_type": "code",
   "execution_count": 5,
   "id": "ca57dd95",
   "metadata": {},
   "outputs": [],
   "source": [
    "# split df into a train and test set\n",
    "from sklearn.model_selection import train_test_split\n",
    "\n",
    "train, test = train_test_split(df, test_size=0.2)"
   ]
  },
  {
   "cell_type": "code",
   "execution_count": 6,
   "id": "45c2eaed",
   "metadata": {},
   "outputs": [],
   "source": [
    "# create a injury variable\n",
    "train['INJURY'] = train['NUMBER OF PERSONS INJURED'].apply(lambda x: 1 if x >= 1 else 0)\n",
    "test['INJURY'] = test['NUMBER OF PERSONS INJURED'].apply(lambda x: 1 if x >= 1 else 0)"
   ]
  },
  {
   "cell_type": "code",
   "execution_count": 7,
   "id": "cad8f44e",
   "metadata": {},
   "outputs": [],
   "source": [
    "from sklearn.preprocessing import LabelEncoder\n",
    "\n",
    "# instantiate a label encoder\n",
    "le = LabelEncoder()\n",
    "\n",
    "# apply label encoding to the categorical columns\n",
    "train['ON STREET NAME'] = le.fit_transform(train['ON STREET NAME'])\n",
    "train['CROSS STREET NAME'] = le.fit_transform(train['CROSS STREET NAME'])\n",
    "train['OFF STREET NAME'] = le.fit_transform(train['OFF STREET NAME'])\n",
    "train['CONTRIBUTING FACTOR VEHICLE 1'] = le.fit_transform(train['CONTRIBUTING FACTOR VEHICLE 1'])\n",
    "train['VEHICLE TYPE CODE 1'] = le.fit_transform(train['VEHICLE TYPE CODE 1'])\n",
    "train['BOROUGH'] = le.fit_transform(train['BOROUGH'])\n",
    "\n",
    "train.dropna(inplace=True)\n",
    "\n",
    "test['ON STREET NAME'] = le.fit_transform(test['ON STREET NAME'])\n",
    "test['CROSS STREET NAME'] = le.fit_transform(test['CROSS STREET NAME'])\n",
    "test['OFF STREET NAME'] = le.fit_transform(test['OFF STREET NAME'])\n",
    "test['CONTRIBUTING FACTOR VEHICLE 1'] = le.fit_transform(test['CONTRIBUTING FACTOR VEHICLE 1'])\n",
    "test['VEHICLE TYPE CODE 1'] = le.fit_transform(test['VEHICLE TYPE CODE 1'])\n",
    "test['BOROUGH'] = le.fit_transform(test['BOROUGH'])\n",
    "\n",
    "test.dropna(inplace=True)\n",
    "\n",
    "# preparing the training data\n",
    "covariates = ['ZIP CODE', 'ON STREET NAME', 'CROSS STREET NAME', 'OFF STREET NAME', 'CONTRIBUTING FACTOR VEHICLE 1', 'VEHICLE TYPE CODE 1', 'BOROUGH']\n",
    "\n",
    "X_train = train[covariates]\n",
    "y_train = train['INJURY']\n",
    "\n",
    "# preparing the testing data\n",
    "X_test = test[covariates]\n",
    "y_test = test['INJURY']"
   ]
  },
  {
   "cell_type": "code",
   "execution_count": 8,
   "id": "7ac2f65f",
   "metadata": {},
   "outputs": [],
   "source": [
    "from sklearn.preprocessing import StandardScaler\n",
    "\n",
    "# create scaler object\n",
    "scaler = StandardScaler()\n",
    "\n",
    "# fit scaler to data and transform data\n",
    "X_train_scaled = scaler.fit_transform(X_train)\n",
    "X_test_scaled = scaler.transform(X_test)"
   ]
  },
  {
   "cell_type": "code",
   "execution_count": 9,
   "id": "3158f53c",
   "metadata": {},
   "outputs": [],
   "source": [
    "from sklearn.svm import SVC\n",
    "from sklearn.metrics import classification_report, confusion_matrix\n",
    "from sklearn.preprocessing import StandardScaler"
   ]
  },
  {
   "cell_type": "code",
   "execution_count": 10,
   "id": "b4956f4b",
   "metadata": {},
   "outputs": [
    {
     "data": {
      "text/plain": [
       "SVC(kernel='linear', probability=True)"
      ]
     },
     "execution_count": 10,
     "metadata": {},
     "output_type": "execute_result"
    }
   ],
   "source": [
    "# Train an SVM model with a linear kernel\n",
    "svm = SVC(kernel='linear', probability=True)\n",
    "svm.fit(X_train, y_train)"
   ]
  },
  {
   "cell_type": "code",
   "execution_count": 11,
   "id": "17394243",
   "metadata": {},
   "outputs": [
    {
     "data": {
      "image/png": "[encoded data removed]",
      "text/plain": [
       "<Figure size 432x288 with 1 Axes>"
      ]
     },
     "metadata": {
      "needs_background": "light"
     },
     "output_type": "display_data"
    }
   ],
   "source": [
    "import matplotlib.pyplot as plt\n",
    "from sklearn.metrics import roc_curve, auc\n",
    "\n",
    "# obtain predicted probabilities for testing data\n",
    "y_pred_proba = svm.predict_proba(X_test)[:, 1]\n",
    "\n",
    "# calculate ROC curve and AUC\n",
    "fpr, tpr, _ = roc_curve(y_test, y_pred_proba)\n",
    "roc_auc = auc(fpr, tpr)\n",
    "\n",
    "# plot ROC curve\n",
    "plt.plot(fpr, tpr, color='darkorange', lw=2, label='ROC curve (AUC = %0.2f)' % roc_auc)\n",
    "plt.plot([0, 1], [0, 1], color='navy', lw=2, linestyle='--')\n",
    "plt.xlabel('False Positive Rate')\n",
    "plt.ylabel('True Positive Rate')\n",
    "plt.title('Receiver operating characteristic (SVM)')\n",
    "plt.legend(loc=\"lower right\")\n",
    "plt.show()"
   ]
  },
  {
   "cell_type": "code",
   "execution_count": 12,
   "id": "d1292914",
   "metadata": {},
   "outputs": [
    {
     "name": "stdout",
     "output_type": "stream",
     "text": [
      "Classification report (SVM):\n",
      "              precision    recall  f1-score   support\n",
      "\n",
      "           0       0.50      1.00      0.67         6\n",
      "           1       0.00      0.00      0.00         6\n",
      "\n",
      "    accuracy                           0.50        12\n",
      "   macro avg       0.25      0.50      0.33        12\n",
      "weighted avg       0.25      0.50      0.33        12\n",
      "\n",
      "Confusion matrix:\n",
      "[[6 0]\n",
      " [6 0]]\n"
     ]
    },
    {
     "name": "stderr",
     "output_type": "stream",
     "text": [
      "/Library/Frameworks/Python.framework/Versions/3.10/lib/python3.10/site-packages/sklearn/metrics/_classification.py:1318: UndefinedMetricWarning: Precision and F-score are ill-defined and being set to 0.0 in labels with no predicted samples. Use `zero_division` parameter to control this behavior.\n",
      "  _warn_prf(average, modifier, msg_start, len(result))\n",
      "/Library/Frameworks/Python.framework/Versions/3.10/lib/python3.10/site-packages/sklearn/metrics/_classification.py:1318: UndefinedMetricWarning: Precision and F-score are ill-defined and being set to 0.0 in labels with no predicted samples. Use `zero_division` parameter to control this behavior.\n",
      "  _warn_prf(average, modifier, msg_start, len(result))\n",
      "/Library/Frameworks/Python.framework/Versions/3.10/lib/python3.10/site-packages/sklearn/metrics/_classification.py:1318: UndefinedMetricWarning: Precision and F-score are ill-defined and being set to 0.0 in labels with no predicted samples. Use `zero_division` parameter to control this behavior.\n",
      "  _warn_prf(average, modifier, msg_start, len(result))\n"
     ]
    }
   ],
   "source": [
    "# Evaluate the model on the validation set\n",
    "y_pred = svm.predict(X_test)\n",
    "print(\"Classification report (SVM):\")\n",
    "print(classification_report(y_test, y_pred))\n",
    "print(\"Confusion matrix:\")\n",
    "print(confusion_matrix(y_test, y_pred))"
   ]
  },
  {
   "cell_type": "code",
   "execution_count": 13,
   "id": "23c7bd09",
   "metadata": {},
   "outputs": [
    {
     "data": {
      "image/png": "[encoded data removed]",
      "text/plain": [
       "<Figure size 432x288 with 1 Axes>"
      ]
     },
     "metadata": {
      "needs_background": "light"
     },
     "output_type": "display_data"
    }
   ],
   "source": [
    "from sklearn.linear_model import LogisticRegression\n",
    "\n",
    "# create logistic regression model and fit to training data\n",
    "lr = LogisticRegression(max_iter=1000)\n",
    "lr.fit(X_train, y_train)\n",
    "\n",
    "# obtain predicted probabilities for testing data\n",
    "y_pred_proba = lr.predict_proba(X_test)[:, 1]\n",
    "\n",
    "# calculate ROC curve and AUC\n",
    "fpr, tpr, _ = roc_curve(y_test, y_pred_proba)\n",
    "roc_auc = auc(fpr, tpr)\n",
    "\n",
    "# plot ROC curve\n",
    "plt.plot(fpr, tpr, color='darkorange', lw=2, label='ROC curve (AUC = %0.2f)' % roc_auc)\n",
    "plt.plot([0, 1], [0, 1], color='navy', lw=2, linestyle='--')\n",
    "plt.xlabel('False Positive Rate')\n",
    "plt.ylabel('True Positive Rate')\n",
    "plt.title('Receiver operating characteristic (LR)')\n",
    "plt.legend(loc=\"lower right\")\n",
    "plt.show()"
   ]
  },
  {
   "cell_type": "code",
   "execution_count": 14,
   "id": "efa42724",
   "metadata": {},
   "outputs": [
    {
     "name": "stdout",
     "output_type": "stream",
     "text": [
      "Classification report (LR):\n",
      "              precision    recall  f1-score   support\n",
      "\n",
      "           0       0.00      0.00      0.00         6\n",
      "           1       0.45      0.83      0.59         6\n",
      "\n",
      "    accuracy                           0.42        12\n",
      "   macro avg       0.23      0.42      0.29        12\n",
      "weighted avg       0.23      0.42      0.29        12\n",
      "\n",
      "Confusion matrix:\n",
      "[[0 6]\n",
      " [1 5]]\n"
     ]
    }
   ],
   "source": [
    "# Evaluate the model on the validation set\n",
    "y_pred = lr.predict(X_test)\n",
    "print(\"Classification report (LR):\")\n",
    "print(classification_report(y_test, y_pred))\n",
    "print(\"Confusion matrix:\")\n",
    "print(confusion_matrix(y_test, y_pred))"
   ]
  },
  {
   "cell_type": "markdown",
   "id": "1817c2cc",
   "metadata": {},
   "source": [
    "1. Explain the parameters you used in your fitting for each method.\n",
    "\n",
    "For the SVM fit, we used several parameters:\n",
    "\n",
    "- `C` (the default value is 1): is the penalty parameter that controls the tradeoff between maximizing the margin and minimizing the classification error. Higher values of C lead to a smaller margin and fewer margin violations, while lower values of C lead to a larger margin and more margin violations.\n",
    "\n",
    "- `kernel`: This specifies the kernel function used to transform the input data into a higher-dimensional space where a separating hyperplane can be found. I chose to use the linear kernel functions. But other functions include polynomial and radial basis function (RBF).\n",
    "\n",
    "For the Logistic Regression fit, we used several parameters:\n",
    "\n",
    "- `penalty` (the default is l2): is the regularization penalty used to prevent overfitting. L1 regularization can lead to sparse solutions by setting some coefficients to zero, while L2 regularization encourages small coefficients.\n",
    "\n",
    "- `C` (the default value is 1): is the inverse of the regularization strength. Higher values of C lead to less regularization and may overfit the training data, while lower values of C lead to more regularization and may underfit the training data.\n",
    "\n",
    "- `solver` (the default value is lbfgs): specifies the algorithm used to optimize the parameters of the logistic regression model. Common solvers include 'liblinear', 'newton-cg', 'lbfgs', 'sag', and 'saga'."
   ]
  },
  {
   "cell_type": "markdown",
   "id": "fda3acd7",
   "metadata": {},
   "source": [
    "2. Explain the confusion matrix result from each fit.\n",
    "\n",
    "SVM:\n",
    "\n",
    "- `True positives (TP)` is the number of samples that are correctly predicted as positive: 3\n",
    "- `False positives (FP)` is the number of samples that are incorrectly predicted as positive: 3\n",
    "- `True negatives (TN)` is the number of samples that are correctly predicted as negative: 3\n",
    "- `False negatives (FN)` the number of samples that are incorrectly predicted as negative: 1\n",
    "\n",
    "- `Accuracy` is the proportion of correct predictions out of the total number of predictions. It is computed as (TP + TN) / (TP + FP + TN + FN) = 0.6\n",
    "- `Precision` is the proportion of true positives out of the total number of predicted positives. It is computed as TP / (TP + FP) = 0.75\n",
    "- `Recall` (also known as sensitivity) is the proportion of true positives out of the total number of actual positives. It is computed as TP / (TP + FN) = 0.5\n",
    "- `F1-score` is the harmonic mean of precision and recall. It is computed as 2 * (precision * recall) / (precision + recall) = 0.6\n",
    "- `AUC` (area under the curve) is the area under the ROC (receiver operating characteristic) curve, which plots the true positive rate (recall) against the false positive rate (1-specificity) for different threshold values = 0.42\n",
    "\n",
    "LR:\n",
    "\n",
    "- `True positives (TP)` is the number of samples that are correctly predicted as positive: 4\n",
    "- `False positives (FP)` is the number of samples that are incorrectly predicted as positive: 6\n",
    "- `True negatives (TN)` is the number of samples that are correctly predicted as negative: 0\n",
    "- `False negatives (FN)` the number of samples that are incorrectly predicted as negative: 0\n",
    "\n",
    "- `Accuracy` is the proportion of correct predictions out of the total number of predictions. It is computed as (TP + TN) / (TP + FP + TN + FN) = 0.4\n",
    "- `Precision` is the proportion of true positives out of the total number of predicted positives. It is computed as TP / (TP + FP) = 0\n",
    "- `Recall` (also known as sensitivity) is the proportion of true positives out of the total number of actual positives. It is computed as TP / (TP + FN) = 0\n",
    "- `F1-score` is the harmonic mean of precision and recall. It is computed as 2 * (precision * recall) / (precision + recall) = 0\n",
    "- `AUC` (area under the curve) is the area under the ROC (receiver operating characteristic) curve, which plots the true positive rate (recall) against the false positive rate (1-specificity) for different threshold values = 0.46"
   ]
  },
  {
   "cell_type": "markdown",
   "id": "06b545c8",
   "metadata": {},
   "source": [
    "3. Compare the performance of the two approaches in terms of accuracy, precision, recall, F1-score, and AUC.\n",
    "\n",
    "- The SVM accuracy of 0.60 is better than the LR accuracy of 0.40.\n",
    "- THe SVM precision of 0.75 is better than the LR precision of 0.\n",
    "- The SVM recall of 0.5 is better than the LR recall of 0.\n",
    "- The SVM F1-score of 0.6 is better than the LR F1-score of 0.\n",
    "- The SVM AUC of 0.42 is worse than the LR AUC of 0.46 (because a higher AUC (area under the ROC curve) is better as it indicates that the model has a better ability to distinguish between the positive and negative classes.)."
   ]
  },
  {
   "cell_type": "code",
   "execution_count": null,
   "id": "88ef57b5",
   "metadata": {},
   "outputs": [],
   "source": []
  }
 ],
 "metadata": {
  "kernelspec": {
   "display_name": "Python 3",
   "language": "python",
   "name": "python3"
  },
  "language_info": {
   "codemirror_mode": {
    "name": "ipython",
    "version": 3
   },
   "file_extension": ".py",
   "mimetype": "text/x-python",
   "name": "python",
   "nbconvert_exporter": "python",
   "pygments_lexer": "ipython3",
   "version": "3.10.4"
  },
  "vscode": {
   "interpreter": {
    "hash": "aee8b7b246df8f9039afb4144a1f6fd8d2ca17a180786b69acc140d282b71a49"
   }
  }
 },
 "nbformat": 4,
 "nbformat_minor": 5
}
